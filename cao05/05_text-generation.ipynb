{
 "cells": [
  {
   "cell_type": "markdown",
   "metadata": {},
   "source": [
    "# Capítulo 5: Geração de Texto"
   ]
  },
  {
   "cell_type": "markdown",
   "metadata": {},
   "source": [
    "## Introdução"
   ]
  },
  {
   "cell_type": "markdown",
   "metadata": {},
   "source": [
    "*\"In a shocking finding, scientist discovered a herd of unicorns living in a remote, previously unexplored valley, in the Andes Mountains. Even more surprising to the researchers was the fact that the unicorns spoke perfect English.\"*\n",
    "\n",
    ">Em uma descoberta chocante, o cientista descobriu uma manada de unicórnios vivendo em um vale remoto e inexplorado, na Cordilheira dos Andes. Ainda mais surpreendente para os pesquisadores foi o fato de que os unicórnios falavam inglês perfeito."
   ]
  },
  {
   "cell_type": "markdown",
   "metadata": {},
   "source": [
    "O texto acima foi usado pela OpenAI’s GPT-2 para gerar o texto:\n",
    "\n",
    "\"*The scientist named the population, after their distinctive horn, Ovid’s Unicorn. These four-horned, silver-white unicorns were previously unknown to science. Now, after almost two centuries, the mystery of what sparked this odd phenomenon is finally solved. Dr. Jorge Pérez, an evolutionary biologist from the University of La Paz, and several companions, were exploring the Andes Mountains when they found a small valley, with no other animals or humans. Pérez noticed that the valley had what appeared to be a natural fountain, surrounded by two peaks of rock and silver snow. Pérez and the others then ventured further into the valley. “By the time we reached the top of one peak, the water looked blue, with some crystals on top,” said Pérez. Pérez and his friends were astonished to see the unicorn herd. These creatures could be seen from the air without having to move too much to see them—they were so close they could touch their horns. While examining these bizarre creatures the scientists discovered that the creatures also spoke some fairly regular English …*\"\n",
    "\n",
    "> O cientista nomeou a população, após seu chifre distinto, Unicórnio de Ovídio. Esses\n",
    "unicórnios de quatro chifres e branco prateado eram anteriormente desconhecidos para a ciência. Agora, depois\n",
    "quase dois séculos, o mistério do que desencadeou esse estranho fenômeno é finalmente\n",
    "resolvido. Dr. Jorge Pérez, biólogo evolucionista da Universidade de La Paz, e\n",
    "vários companheiros, exploravam a Cordilheira dos Andes quando encontraram um pequeno\n",
    "vale, sem outros animais ou humanos. Pérez notou que o vale tinha o que\n",
    "parecia ser uma fonte natural, cercada por dois picos de rocha e neve prateada.\n",
    "Pérez e os outros então se aventuraram ainda mais no vale. “Quando chegamos ao\n",
    "no topo de um pico, a água parecia azul, com alguns cristais no topo”, disse Pérez. Pérez\n",
    "e seus amigos ficaram surpresos ao ver o rebanho de unicórnios. Essas criaturas podem ser vistas\n",
    "do ar sem ter que se mover muito para vê-los - eles estavam tão perto que\n",
    "podiam tocar seus chifres. Ao examinar essas criaturas bizarras, os cientistas descobriram\n",
    "que as criaturas também falavam um inglês bastante regular…"
   ]
  },
  {
   "cell_type": "code",
   "execution_count": 1,
   "metadata": {},
   "outputs": [],
   "source": [
    "# Uncomment and run this cell if you're on Colab or Kaggle\n",
    "# !git clone https://github.com/nlp-with-transformers/notebooks.git\n",
    "# %cd notebooks\n",
    "# from install import *\n",
    "# install_requirements()"
   ]
  },
  {
   "cell_type": "code",
   "execution_count": 11,
   "metadata": {},
   "outputs": [
    {
     "name": "stdout",
     "output_type": "stream",
     "text": [
      "No GPU was detected! This notebook can be *very* slow without a GPU 🐢\n",
      "Using transformers v4.11.3\n",
      "Using datasets v1.16.1\n",
      "Error: 'plotting.mplstyle' not found in the style library and input is not a\n",
      "valid URL or path; see `style.available` for list of available styles\n"
     ]
    }
   ],
   "source": [
    "# hide\n",
    "try:\n",
    "    from utils import *\n",
    "    setup_chapter()\n",
    "except BaseException as ex: \n",
    "    print(f'Error: {ex}')\n",
    "    pass"
   ]
  },
  {
   "cell_type": "markdown",
   "metadata": {},
   "source": [
    "## Text Generation"
   ]
  },
  {
   "cell_type": "markdown",
   "metadata": {},
   "source": [
    "<img alt=\"LM Meta Learning\" width=\"800\" caption=\"During pretraining, language models are exposed to sequences of tasks that can be adapted during inference (courtesy of Tom B. Brown)\" src=\"images/chapter05_lm-meta-learning.png\" id=\"lm-meta-learning\"/>\n",
    "\n",
    "Exemplo de **treinamento de um modelo de linguagem** expostos durante o pré-treinamento a sequências de **tarefas onde eles precisam prever os seguintes tokens** baseados apenas no contexto, como `adição`, `desembaralhamento` de palavras e `tradução`."
   ]
  },
  {
   "cell_type": "markdown",
   "metadata": {},
   "source": [
    "<img alt=\"Meena\" width=\"300\" caption=\"Meena on the left telling a corny joke to a human on the right (courtesy of Daniel Adiwardana and Thang Luong)\" src=\"images/chapter05_meena.png\" id=\"meena\"/>\n",
    "\n",
    "Aplicações que usam *transformers*:\n",
    "\n",
    ">[https://ai.googleblog.com/2020/01/towards-conversational-agent-that-can.html](https://ai.googleblog.com/2020/01/towards-conversational-agent-that-can.html)\n",
    ">\n",
    "> Meena é um modelo de conversação neural de ponta a ponta que aprende a responder de forma sensata a um determinado contexto de conversação. O objetivo do treinamento é minimizar a perplexidade, a incerteza de prever o próximo token (neste caso, a próxima palavra em uma conversa).\n",
    "\n",
    "\n",
    "> [https://app.inferkit.com/demo](https://app.inferkit.com/demo)\n",
    ">\n",
    "> A ferramenta de geração de texto do InferKit pega o texto que você fornece e gera o que pensa que vem a seguir, usando uma rede neural de última geração. É configurável e pode produzir qualquer tamanho de texto em praticamente qualquer tópico. \n",
    "\n",
    "\n",
    "> [https://transformer.huggingface.co/](https://transformer.huggingface.co/)\n",
    ">\n",
    "> Este aplicativo da web, desenvolvido pela equipe Hugging Face, é a demonstração oficial dos recursos de geração de texto do repositório 🤗/transformers.\n",
    "\n",
    "\n",
    "> [https://play.aidungeon.io/](https://play.aidungeon.io/)\n",
    "> \n",
    "> Um jogo de história de aventura baseado em texto que você dirige (e estrela) enquanto a IA dá vida a ele.\n",
    "> \n",
    "> <sub>AI Dungeon é uma simulação de fantasia gerada por IA baseada em texto com infinitas possibilidades. Ao contrário da maioria dos jogos em que você experimenta mundos criados por designers de jogos, com AI Dungeon, você pode direcionar a IA para criar mundos, personagens e cenários para o seu personagem interagir. Você pode liderar um exército lutando contra uma invasão alienígena, ou ser um detetive mítico investigando a tentativa de assassinato da rainha das fadas.</sub>"
   ]
  },
  {
   "cell_type": "markdown",
   "metadata": {},
   "source": [
    "## O desafio de gerar um texto coerente"
   ]
  },
  {
   "cell_type": "markdown",
   "metadata": {},
   "source": [
    "<img alt=\"Text generation\" width=\"700\" style=\"background-color:lightgrey;\" caption=\"Generating text from an input sequence by adding a new word to the input at each step\" src=\"images/chapter05_text-generation.png\" id=\"text-generation\"/> "
   ]
  },
  {
   "cell_type": "markdown",
   "metadata": {},
   "source": [
    "Começamos com uma entrada como *“Transformers are the”* e usamos o modelo para prever o próximo token.\n",
    "\n",
    "O token seguinte será previsto utilizando o token entrado anteriormente.\n",
    "\n",
    "Assim por diante, até atingirs um token especial de fim de sequência ou um comprimento máximo predefinido."
   ]
  },
  {
   "cell_type": "markdown",
   "metadata": {},
   "source": [
    "## Greedy Search Decoding\n",
    "\n",
    "O objetivo é fazer a previsão do próximo token usando o token de maior probabilidade sugerido pelo modelo.\n",
    "\n",
    "\n",
    "> Um algoritmo de *Greedy Search* (Busca Ambiciosa) tem o objetivo de encontrar sempre a melhor solução em cada estágio. Pode não produzir uma solução ótima, mas pode ter um resultado bom que se aproxima do ótimo em um tempo bem menor."
   ]
  },
  {
   "cell_type": "markdown",
   "metadata": {},
   "source": [
    "### A função Logit\n",
    "\n",
    " A saída do modelo é data em **logits**.\n",
    "\n",
    "> - **Logit** é o nome da função equivalente ao **logaritmo da chance**\n",
    "> - **Chance** é a razão entra das probabilidades de algo **ocorrer por não ocorrer** \n",
    ">\n",
    "> $logit(p)=ln\\left ( \\dfrac{p}{p-1} \\right )$\n",
    "> >\n",
    "> $logit(p)=ln(p) - ln(1-p)$"
   ]
  },
  {
   "cell_type": "code",
   "execution_count": 12,
   "metadata": {},
   "outputs": [
    {
     "name": "stderr",
     "output_type": "stream",
     "text": [
      "l:\\envs\\nlp_transformers\\lib\\site-packages\\pandas\\core\\arraylike.py:397: RuntimeWarning: divide by zero encountered in log\n",
      "  result = getattr(ufunc, method)(*inputs, **kwargs)\n",
      "l:\\envs\\nlp_transformers\\lib\\site-packages\\pandas\\core\\arraylike.py:397: RuntimeWarning: divide by zero encountered in log\n",
      "  result = getattr(ufunc, method)(*inputs, **kwargs)\n"
     ]
    },
    {
     "data": {
      "text/html": [
       "<div>\n",
       "<style scoped>\n",
       "    .dataframe tbody tr th:only-of-type {\n",
       "        vertical-align: middle;\n",
       "    }\n",
       "\n",
       "    .dataframe tbody tr th {\n",
       "        vertical-align: top;\n",
       "    }\n",
       "\n",
       "    .dataframe thead th {\n",
       "        text-align: right;\n",
       "    }\n",
       "</style>\n",
       "<table border=\"1\" class=\"dataframe\">\n",
       "  <thead>\n",
       "    <tr style=\"text-align: right;\">\n",
       "      <th></th>\n",
       "      <th>probabilidade</th>\n",
       "      <th>log prob</th>\n",
       "      <th>chance</th>\n",
       "      <th>chance frac</th>\n",
       "      <th>logit</th>\n",
       "    </tr>\n",
       "  </thead>\n",
       "  <tbody>\n",
       "    <tr>\n",
       "      <th>0</th>\n",
       "      <td>0.0</td>\n",
       "      <td>-inf</td>\n",
       "      <td>0.000000</td>\n",
       "      <td>0/10</td>\n",
       "      <td>-inf</td>\n",
       "    </tr>\n",
       "    <tr>\n",
       "      <th>1</th>\n",
       "      <td>0.1</td>\n",
       "      <td>-2.302585</td>\n",
       "      <td>0.111111</td>\n",
       "      <td>1/9</td>\n",
       "      <td>-2.197225</td>\n",
       "    </tr>\n",
       "    <tr>\n",
       "      <th>2</th>\n",
       "      <td>0.2</td>\n",
       "      <td>-1.609438</td>\n",
       "      <td>0.250000</td>\n",
       "      <td>2/8</td>\n",
       "      <td>-1.386294</td>\n",
       "    </tr>\n",
       "    <tr>\n",
       "      <th>3</th>\n",
       "      <td>0.3</td>\n",
       "      <td>-1.203973</td>\n",
       "      <td>0.428571</td>\n",
       "      <td>3/7</td>\n",
       "      <td>-0.847298</td>\n",
       "    </tr>\n",
       "    <tr>\n",
       "      <th>4</th>\n",
       "      <td>0.4</td>\n",
       "      <td>-0.916291</td>\n",
       "      <td>0.666667</td>\n",
       "      <td>4/6</td>\n",
       "      <td>-0.405465</td>\n",
       "    </tr>\n",
       "    <tr>\n",
       "      <th>5</th>\n",
       "      <td>0.5</td>\n",
       "      <td>-0.693147</td>\n",
       "      <td>1.000000</td>\n",
       "      <td>5/5</td>\n",
       "      <td>0.000000</td>\n",
       "    </tr>\n",
       "    <tr>\n",
       "      <th>6</th>\n",
       "      <td>0.6</td>\n",
       "      <td>-0.510826</td>\n",
       "      <td>1.500000</td>\n",
       "      <td>6/4</td>\n",
       "      <td>0.405465</td>\n",
       "    </tr>\n",
       "    <tr>\n",
       "      <th>7</th>\n",
       "      <td>0.7</td>\n",
       "      <td>-0.356675</td>\n",
       "      <td>2.333333</td>\n",
       "      <td>7/3</td>\n",
       "      <td>0.847298</td>\n",
       "    </tr>\n",
       "    <tr>\n",
       "      <th>8</th>\n",
       "      <td>0.8</td>\n",
       "      <td>-0.223144</td>\n",
       "      <td>4.000000</td>\n",
       "      <td>8/2</td>\n",
       "      <td>1.386294</td>\n",
       "    </tr>\n",
       "    <tr>\n",
       "      <th>9</th>\n",
       "      <td>0.9</td>\n",
       "      <td>-0.105361</td>\n",
       "      <td>9.000000</td>\n",
       "      <td>9/1</td>\n",
       "      <td>2.197225</td>\n",
       "    </tr>\n",
       "    <tr>\n",
       "      <th>10</th>\n",
       "      <td>1.0</td>\n",
       "      <td>0.000000</td>\n",
       "      <td>inf</td>\n",
       "      <td>10/0</td>\n",
       "      <td>inf</td>\n",
       "    </tr>\n",
       "  </tbody>\n",
       "</table>\n",
       "</div>"
      ],
      "text/plain": [
       "    probabilidade  log prob    chance chance frac     logit\n",
       "0             0.0      -inf  0.000000        0/10      -inf\n",
       "1             0.1 -2.302585  0.111111         1/9 -2.197225\n",
       "2             0.2 -1.609438  0.250000         2/8 -1.386294\n",
       "3             0.3 -1.203973  0.428571         3/7 -0.847298\n",
       "4             0.4 -0.916291  0.666667         4/6 -0.405465\n",
       "5             0.5 -0.693147  1.000000         5/5  0.000000\n",
       "6             0.6 -0.510826  1.500000         6/4  0.405465\n",
       "7             0.7 -0.356675  2.333333         7/3  0.847298\n",
       "8             0.8 -0.223144  4.000000         8/2  1.386294\n",
       "9             0.9 -0.105361  9.000000         9/1  2.197225\n",
       "10            1.0  0.000000       inf        10/0       inf"
      ]
     },
     "metadata": {},
     "output_type": "display_data"
    },
    {
     "name": "stdout",
     "output_type": "stream",
     "text": [
      "Correlações:\n"
     ]
    },
    {
     "data": {
      "text/html": [
       "<div>\n",
       "<style scoped>\n",
       "    .dataframe tbody tr th:only-of-type {\n",
       "        vertical-align: middle;\n",
       "    }\n",
       "\n",
       "    .dataframe tbody tr th {\n",
       "        vertical-align: top;\n",
       "    }\n",
       "\n",
       "    .dataframe thead th {\n",
       "        text-align: right;\n",
       "    }\n",
       "</style>\n",
       "<table border=\"1\" class=\"dataframe\">\n",
       "  <thead>\n",
       "    <tr style=\"text-align: right;\">\n",
       "      <th></th>\n",
       "      <th>probabilidade</th>\n",
       "      <th>log prob</th>\n",
       "      <th>chance</th>\n",
       "      <th>logit</th>\n",
       "    </tr>\n",
       "  </thead>\n",
       "  <tbody>\n",
       "    <tr>\n",
       "      <th>probabilidade</th>\n",
       "      <td>1.000000</td>\n",
       "      <td>0.951662</td>\n",
       "      <td>0.808631</td>\n",
       "      <td>0.994481</td>\n",
       "    </tr>\n",
       "    <tr>\n",
       "      <th>log prob</th>\n",
       "      <td>0.951662</td>\n",
       "      <td>1.000000</td>\n",
       "      <td>0.674072</td>\n",
       "      <td>0.960218</td>\n",
       "    </tr>\n",
       "    <tr>\n",
       "      <th>chance</th>\n",
       "      <td>0.808631</td>\n",
       "      <td>0.674072</td>\n",
       "      <td>1.000000</td>\n",
       "      <td>0.846717</td>\n",
       "    </tr>\n",
       "    <tr>\n",
       "      <th>logit</th>\n",
       "      <td>0.994481</td>\n",
       "      <td>0.960218</td>\n",
       "      <td>0.846717</td>\n",
       "      <td>1.000000</td>\n",
       "    </tr>\n",
       "  </tbody>\n",
       "</table>\n",
       "</div>"
      ],
      "text/plain": [
       "               probabilidade  log prob    chance     logit\n",
       "probabilidade       1.000000  0.951662  0.808631  0.994481\n",
       "log prob            0.951662  1.000000  0.674072  0.960218\n",
       "chance              0.808631  0.674072  1.000000  0.846717\n",
       "logit               0.994481  0.960218  0.846717  1.000000"
      ]
     },
     "metadata": {},
     "output_type": "display_data"
    }
   ],
   "source": [
    "import numpy as np\n",
    "import pandas as pd\n",
    "from fractions import Fraction\n",
    "df = pd.DataFrame({'probabilidade': range(0 , 11, 1)})\n",
    "df['probabilidade'] /= 10\n",
    "df['log prob'] = np.log(df['probabilidade'])\n",
    "df['chance'] = df['probabilidade'] / (1 - df['probabilidade'])\n",
    "df['chance frac'] = df['probabilidade'].mul(10).astype(int).astype(str) + '/' + (10 - df['probabilidade'].mul(10)).astype(int).astype(str)\n",
    "df['logit'] = np.log(df['chance'])\n",
    "display(df)\n",
    "print('Correlações:')\n",
    "display(df.corr())"
   ]
  },
  {
   "cell_type": "markdown",
   "metadata": {},
   "source": [
    "Conclusões sobre Logit:\n",
    "\n",
    "- Quando as chances de algo **ocorrer** é `igual` a **não ocorrer**,  a logit é igual a `0`\n",
    "- Quando as chances de algo **ocorrer** é `menor` do que **não ocorrer**,  a logit é `negativo`\n",
    "- Quando as chances de algo **ocorrer** é `maior` do que **não ocorrer**,  a logit é `positivo`\n",
    "\n",
    "<br>\n",
    "\n",
    "- Quanto maior uma probabilidade, maior o logit\n",
    "- Quanto maior uma chance, maior o logit"
   ]
  },
  {
   "cell_type": "markdown",
   "metadata": {},
   "source": [
    "### Código"
   ]
  },
  {
   "cell_type": "code",
   "execution_count": 13,
   "metadata": {},
   "outputs": [],
   "source": [
    "# hide_output\n",
    "import torch\n",
    "from transformers import AutoTokenizer, AutoModelForCausalLM\n",
    "\n",
    "device = \"cuda\" if torch.cuda.is_available() else \"cpu\"\n",
    "model_name = \"gpt2-xl\"\n",
    "tokenizer = AutoTokenizer.from_pretrained(model_name)\n",
    "model = AutoModelForCausalLM.from_pretrained(model_name).to(device)"
   ]
  },
  {
   "cell_type": "code",
   "execution_count": 68,
   "metadata": {},
   "outputs": [
    {
     "name": "stderr",
     "output_type": "stream",
     "text": [
      "Using cls_token, but it is not set yet.\n",
      "Using mask_token, but it is not set yet.\n",
      "Using pad_token, but it is not set yet.\n",
      "Using sep_token, but it is not set yet.\n"
     ]
    },
    {
     "data": {
      "text/html": [
       "<div>\n",
       "<style scoped>\n",
       "    .dataframe tbody tr th:only-of-type {\n",
       "        vertical-align: middle;\n",
       "    }\n",
       "\n",
       "    .dataframe tbody tr th {\n",
       "        vertical-align: top;\n",
       "    }\n",
       "\n",
       "    .dataframe thead th {\n",
       "        text-align: right;\n",
       "    }\n",
       "</style>\n",
       "<table border=\"1\" class=\"dataframe\">\n",
       "  <thead>\n",
       "    <tr style=\"text-align: right;\">\n",
       "      <th></th>\n",
       "      <th>Input</th>\n",
       "      <th>Choice 1</th>\n",
       "      <th>Choice 2</th>\n",
       "      <th>Choice 3</th>\n",
       "      <th>Choice 4</th>\n",
       "      <th>Choice 5</th>\n",
       "    </tr>\n",
       "  </thead>\n",
       "  <tbody>\n",
       "    <tr>\n",
       "      <th>0</th>\n",
       "      <td>Transformers are the</td>\n",
       "      <td>most (8.53%)</td>\n",
       "      <td>only (4.96%)</td>\n",
       "      <td>best (4.65%)</td>\n",
       "      <td>Transformers (4.37%)</td>\n",
       "      <td>ultimate (2.16%)</td>\n",
       "    </tr>\n",
       "    <tr>\n",
       "      <th>1</th>\n",
       "      <td>Transformers are the most</td>\n",
       "      <td>popular (16.78%)</td>\n",
       "      <td>powerful (5.37%)</td>\n",
       "      <td>common (4.96%)</td>\n",
       "      <td>famous (3.72%)</td>\n",
       "      <td>successful (3.20%)</td>\n",
       "    </tr>\n",
       "    <tr>\n",
       "      <th>2</th>\n",
       "      <td>Transformers are the most popular</td>\n",
       "      <td>toy (10.63%)</td>\n",
       "      <td>toys (7.23%)</td>\n",
       "      <td>Transformers (6.60%)</td>\n",
       "      <td>of (5.46%)</td>\n",
       "      <td>and (3.76%)</td>\n",
       "    </tr>\n",
       "    <tr>\n",
       "      <th>3</th>\n",
       "      <td>Transformers are the most popular toy</td>\n",
       "      <td>line (34.38%)</td>\n",
       "      <td>in (18.20%)</td>\n",
       "      <td>of (11.71%)</td>\n",
       "      <td>brand (6.10%)</td>\n",
       "      <td>line (2.69%)</td>\n",
       "    </tr>\n",
       "    <tr>\n",
       "      <th>4</th>\n",
       "      <td>Transformers are the most popular toy line</td>\n",
       "      <td>in (46.29%)</td>\n",
       "      <td>of (15.09%)</td>\n",
       "      <td>, (4.94%)</td>\n",
       "      <td>on (4.40%)</td>\n",
       "      <td>ever (2.72%)</td>\n",
       "    </tr>\n",
       "    <tr>\n",
       "      <th>5</th>\n",
       "      <td>Transformers are the most popular toy line in</td>\n",
       "      <td>the (65.99%)</td>\n",
       "      <td>history (12.42%)</td>\n",
       "      <td>America (6.91%)</td>\n",
       "      <td>Japan (2.44%)</td>\n",
       "      <td>North (1.40%)</td>\n",
       "    </tr>\n",
       "    <tr>\n",
       "      <th>6</th>\n",
       "      <td>Transformers are the most popular toy line in the</td>\n",
       "      <td>world (69.27%)</td>\n",
       "      <td>United (4.55%)</td>\n",
       "      <td>history (4.29%)</td>\n",
       "      <td>US (4.23%)</td>\n",
       "      <td>U (2.30%)</td>\n",
       "    </tr>\n",
       "    <tr>\n",
       "      <th>7</th>\n",
       "      <td>Transformers are the most popular toy line in ...</td>\n",
       "      <td>, (39.73%)</td>\n",
       "      <td>. (30.64%)</td>\n",
       "      <td>and (9.87%)</td>\n",
       "      <td>with (2.32%)</td>\n",
       "      <td>today (1.74%)</td>\n",
       "    </tr>\n",
       "  </tbody>\n",
       "</table>\n",
       "</div>"
      ],
      "text/plain": [
       "                                               Input           Choice 1  \\\n",
       "0                               Transformers are the       most (8.53%)   \n",
       "1                          Transformers are the most   popular (16.78%)   \n",
       "2                  Transformers are the most popular       toy (10.63%)   \n",
       "3              Transformers are the most popular toy      line (34.38%)   \n",
       "4         Transformers are the most popular toy line        in (46.29%)   \n",
       "5      Transformers are the most popular toy line in       the (65.99%)   \n",
       "6  Transformers are the most popular toy line in the     world (69.27%)   \n",
       "7  Transformers are the most popular toy line in ...         , (39.73%)   \n",
       "\n",
       "            Choice 2               Choice 3               Choice 4  \\\n",
       "0       only (4.96%)           best (4.65%)   Transformers (4.37%)   \n",
       "1   powerful (5.37%)         common (4.96%)         famous (3.72%)   \n",
       "2       toys (7.23%)   Transformers (6.60%)             of (5.46%)   \n",
       "3        in (18.20%)            of (11.71%)          brand (6.10%)   \n",
       "4        of (15.09%)              , (4.94%)             on (4.40%)   \n",
       "5   history (12.42%)        America (6.91%)          Japan (2.44%)   \n",
       "6     United (4.55%)        history (4.29%)             US (4.23%)   \n",
       "7         . (30.64%)            and (9.87%)           with (2.32%)   \n",
       "\n",
       "              Choice 5  \n",
       "0     ultimate (2.16%)  \n",
       "1   successful (3.20%)  \n",
       "2          and (3.76%)  \n",
       "3         line (2.69%)  \n",
       "4         ever (2.72%)  \n",
       "5        North (1.40%)  \n",
       "6            U (2.30%)  \n",
       "7        today (1.74%)  "
      ]
     },
     "execution_count": 68,
     "metadata": {},
     "output_type": "execute_result"
    }
   ],
   "source": [
    "# hide_output\n",
    "input_txt = \"Transformers are the\"\n",
    "input_ids = tokenizer(input_txt, return_tensors=\"pt\")[\"input_ids\"].to(device) # tokeniza o testo fornecido e retorna os IDs dos tokens\n",
    "iterations = []\n",
    "n_steps = 8\n",
    "choices_per_step = 5\n",
    "\n",
    "with torch.no_grad(): # context manager para desabilitar o cálculo de gradiente, a fim de reduzir consumo de memória\n",
    "    for _ in range(n_steps):\n",
    "        iteration = dict()\n",
    "        iteration[\"Input\"] = tokenizer.decode(input_ids[0]) # salva num dicionário o token (palavra), para mostrar posteriormente num dataframe\n",
    "        output = model(input_ids=input_ids) # modelo usa os tokens e retorna uma lista de logits (logit = ln(p/(1-p)))\n",
    "        # Select logits of the first batch and the last token and apply softmax\n",
    "        next_token_logits = output.logits[0, -1, :] # separa os logits \n",
    "        next_token_probs = torch.softmax(next_token_logits, dim=-1) # converte os logits em probabilidades\n",
    "        sorted_ids = torch.argsort(next_token_probs, dim=-1, descending=True) # ordena os ids dos tokens\n",
    "        # Guarda os tokens com maior probabilidade\n",
    "        for choice_idx in range(choices_per_step):\n",
    "            token_id = sorted_ids[choice_idx] # obtém o id do token\n",
    "            token_prob = next_token_probs[token_id].cpu().numpy() # obtém a probabilidade do token\n",
    "            token_choice = (  # cria uma string com o token e a sua probabilidade            \n",
    "                f\"{tokenizer.decode(token_id)} ({100 * token_prob:.2f}%)\"\n",
    "            )\n",
    "            iteration[f\"Choice {choice_idx+1}\"] = token_choice # armazena num dicionário a string com o token e a probabilidade\n",
    "        # Append predicted next token to input\n",
    "        input_ids = torch.cat([input_ids, sorted_ids[None, 0, None]], dim=-1) # atualiza os tokens de entrada com o novo token previsto\n",
    "        iterations.append(iteration)\n",
    "        \n",
    "pd.DataFrame(iterations)"
   ]
  },
  {
   "cell_type": "markdown",
   "metadata": {},
   "source": [
    "Fazendo tudo de uma forma mais resumida:"
   ]
  },
  {
   "cell_type": "code",
   "execution_count": 15,
   "metadata": {},
   "outputs": [
    {
     "name": "stdout",
     "output_type": "stream",
     "text": [
      "Transformers are the most popular toy line in the world,\n"
     ]
    }
   ],
   "source": [
    "input_ids = tokenizer(input_txt, return_tensors=\"pt\")[\"input_ids\"].to(device)\n",
    "# Executa o modelo passando o número de tokens desejados no parâmetro \"max_new_tokens\"\n",
    "output = model.generate(input_ids, max_new_tokens=n_steps, do_sample=False) \n",
    "print(tokenizer.decode(output[0]))"
   ]
  },
  {
   "cell_type": "markdown",
   "metadata": {},
   "source": [
    "### Reproduzindo a geração do texto dos unicórnios"
   ]
  },
  {
   "cell_type": "code",
   "execution_count": 16,
   "metadata": {},
   "outputs": [
    {
     "name": "stdout",
     "output_type": "stream",
     "text": [
      "In a shocking finding, scientist discovered a herd of unicorns living in a\n",
      "remote, previously unexplored valley, in the Andes Mountains. Even more\n",
      "surprising to the researchers was the fact that the unicorns spoke perfect\n",
      "English.\n",
      "\n",
      "\n",
      "The researchers, from the University of California, Davis, and the University of\n",
      "Colorado, Boulder, were conducting a study on the Andean cloud forest, which is\n",
      "home to the rare species of cloud forest trees.\n",
      "\n",
      "\n",
      "The researchers were surprised to find that the unicorns were able to\n",
      "communicate with each other, and even with humans.\n",
      "\n",
      "\n",
      "The researchers were surprised to find that the unicorns were able\n"
     ]
    }
   ],
   "source": [
    "# define o número de tokens do novo texto\n",
    "max_length = 128\n",
    "# cria o texto base\n",
    "input_txt = \"\"\"In a shocking finding, scientist discovered \\\n",
    "a herd of unicorns living in a remote, previously unexplored \\\n",
    "valley, in the Andes Mountains. Even more surprising to the \\\n",
    "researchers was the fact that the unicorns spoke perfect English.\\n\\n\n",
    "\"\"\"\n",
    "input_ids = tokenizer(input_txt, return_tensors=\"pt\")[\"input_ids\"].to(device)\n",
    "output_greedy = model.generate(input_ids, max_length=max_length, \n",
    "                               do_sample=False)\n",
    "print(tokenizer.decode(output_greedy[0]))"
   ]
  },
  {
   "cell_type": "markdown",
   "metadata": {},
   "source": [
    "## Beam Search Decoding"
   ]
  },
  {
   "cell_type": "markdown",
   "metadata": {},
   "source": [
    "[Documentação](https://huggingface.co/docs/transformers/internal/generation_utils)"
   ]
  },
  {
   "cell_type": "markdown",
   "metadata": {},
   "source": [
    "```\n",
    "Para [cada token] até [máximo num. tokens ou até o token EOS - End Of a Sequence]:\n",
    "   Busca os top-b mais prováveis próximos tokens\n",
    "```    \n",
    "> 'b' é o número de *beams* ou hipótese parcial."
   ]
  },
  {
   "cell_type": "markdown",
   "metadata": {},
   "source": [
    "<img alt=\"Beam search\" width=\"700\" style=\"background-color:white;\" caption=\"Beam search with two beams—the most probable sequences at each timestep are highlighted in blue\" src=\"images/chapter05_beam-search.png\" id=\"beam-search\"/> "
   ]
  },
  {
   "cell_type": "markdown",
   "metadata": {},
   "source": [
    "Imagem: considerando um b = 2, a cada *token* são buscados os 2 tokens mais prováveis.\n",
    "\n",
    "O **\"caminho\"** escolhido é o de maior soma do **logs das probabilidades**."
   ]
  },
  {
   "cell_type": "markdown",
   "metadata": {},
   "source": [
    "#### Por que usar o Log da Probabilidade ao invés da probabilidade?"
   ]
  },
  {
   "cell_type": "markdown",
   "metadata": {},
   "source": [
    "Para evitar o *underflow*, devido a probabilidade estar entre 0 e 1, a cada multiplicação o valor ficaria menor."
   ]
  },
  {
   "cell_type": "code",
   "execution_count": 17,
   "metadata": {},
   "outputs": [
    {
     "data": {
      "text/plain": [
       "5.562684646268003e-309"
      ]
     },
     "execution_count": 17,
     "metadata": {},
     "output_type": "execute_result"
    }
   ],
   "source": [
    "0.5 ** 1024"
   ]
  },
  {
   "cell_type": "code",
   "execution_count": 18,
   "metadata": {},
   "outputs": [
    {
     "data": {
      "text/plain": [
       "-709.7827128933695"
      ]
     },
     "execution_count": 18,
     "metadata": {},
     "output_type": "execute_result"
    }
   ],
   "source": [
    "import numpy as np\n",
    "\n",
    "sum([np.log(0.5)] * 1024)"
   ]
  },
  {
   "cell_type": "code",
   "execution_count": 19,
   "metadata": {},
   "outputs": [],
   "source": [
    "import torch.nn.functional as F\n",
    "\n",
    "def log_probs_from_logits(logits, labels):\n",
    "    \"\"\"Aplica a função softmax para transformar os logits em probabilidades\n",
    "       e calcula o log\n",
    "    \"\"\"\n",
    "    logp = F.log_softmax(logits, dim=-1)  # transforma o logit em probabilidade (softmax) e calcula o log\n",
    "    logp_label = torch.gather(logp, 2, labels.unsqueeze(2)).squeeze(-1)\n",
    "    return logp_label"
   ]
  },
  {
   "cell_type": "markdown",
   "metadata": {},
   "source": [
    "![](.\\images\\softmax.png)"
   ]
  },
  {
   "cell_type": "code",
   "execution_count": 20,
   "metadata": {},
   "outputs": [],
   "source": [
    "def sequence_logprob(model, labels, input_len=0):\n",
    "    \"\"\"\n",
    "    Calcula a soma dos logs das probabilidades da sequência\n",
    "    \"\"\"\n",
    "    with torch.no_grad():\n",
    "        output = model(labels)\n",
    "        log_probs = log_probs_from_logits(\n",
    "            output.logits[:, :-1, :], labels[:, 1:])\n",
    "        seq_log_prob = torch.sum(log_probs[:, input_len:])\n",
    "    return seq_log_prob.cpu().numpy()"
   ]
  },
  {
   "cell_type": "markdown",
   "metadata": {},
   "source": [
    "### Calcula performance do Greedy Search"
   ]
  },
  {
   "cell_type": "code",
   "execution_count": 21,
   "metadata": {},
   "outputs": [
    {
     "name": "stdout",
     "output_type": "stream",
     "text": [
      "In a shocking finding, scientist discovered a herd of unicorns living in a\n",
      "remote, previously unexplored valley, in the Andes Mountains. Even more\n",
      "surprising to the researchers was the fact that the unicorns spoke perfect\n",
      "English.\n",
      "\n",
      "\n",
      "The researchers, from the University of California, Davis, and the University of\n",
      "Colorado, Boulder, were conducting a study on the Andean cloud forest, which is\n",
      "home to the rare species of cloud forest trees.\n",
      "\n",
      "\n",
      "The researchers were surprised to find that the unicorns were able to\n",
      "communicate with each other, and even with humans.\n",
      "\n",
      "\n",
      "The researchers were surprised to find that the unicorns were able\n",
      "\n",
      "log-prob: -87.43\n"
     ]
    }
   ],
   "source": [
    "# Calcula o log das probabilidades para da sequência resultante do Greedy Search\n",
    "\n",
    "logp = sequence_logprob(model, output_greedy, input_len=len(input_ids[0]))\n",
    "print(tokenizer.decode(output_greedy[0]))\n",
    "print(f\"\\nlog-prob: {logp:.2f}\")"
   ]
  },
  {
   "cell_type": "markdown",
   "metadata": {},
   "source": [
    "### Calcula performance do *Beam Search*"
   ]
  },
  {
   "cell_type": "code",
   "execution_count": 22,
   "metadata": {},
   "outputs": [
    {
     "name": "stdout",
     "output_type": "stream",
     "text": [
      "In a shocking finding, scientist discovered a herd of unicorns living in a\n",
      "remote, previously unexplored valley, in the Andes Mountains. Even more\n",
      "surprising to the researchers was the fact that the unicorns spoke perfect\n",
      "English.\n",
      "\n",
      "\n",
      "The discovery of the unicorns was made by a team of scientists from the\n",
      "University of California, Santa Cruz, and the National Geographic Society.\n",
      "\n",
      "\n",
      "The scientists were conducting a study of the Andes Mountains when they\n",
      "discovered a herd of unicorns living in a remote, previously unexplored valley,\n",
      "in the Andes Mountains. Even more surprising to the researchers was the fact\n",
      "that the unicorns spoke perfect English\n",
      "\n",
      "log-prob: -55.23\n"
     ]
    }
   ],
   "source": [
    "# Calcula o log das probabilidades para da sequência resultante do Beam Search\n",
    "output_beam = model.generate(input_ids, max_length=max_length, num_beams=5, \n",
    "                             do_sample=False)\n",
    "logp = sequence_logprob(model, output_beam, input_len=len(input_ids[0]))\n",
    "print(tokenizer.decode(output_beam[0]))\n",
    "print(f\"\\nlog-prob: {logp:.2f}\")"
   ]
  },
  {
   "cell_type": "markdown",
   "metadata": {},
   "source": [
    "**Conclusão sobre o *Beam Search*:**\n",
    "\n",
    "- <font color=\"green\"> melhora a performance (maior soma do log das probabilidades)</font>\n",
    "- <font color=\"red\">mas sofre com textos repetidos:</font>\n",
    "\n",
    "> scientist discovered a herd of unicorns living in a remote, previously unexplored valley,\n",
    "> \n",
    "> in the Andes Mountains. Even more surprising to the researchers was the fact that the \n",
    "> \n",
    "> unicorns spoke perfect English.\n"
   ]
  },
  {
   "cell_type": "markdown",
   "metadata": {},
   "source": [
    "### Calcula performance do *Beam Search* Melhorado\n",
    "\n",
    "Usa uma penalidade *n-gram*.\n",
    "\n",
    "> Usando o parâmetro `no_repeat_ngram_size`, o modelo mapeia quais *n-grams* já usados e evita que apareçam novamente\n"
   ]
  },
  {
   "cell_type": "code",
   "execution_count": 23,
   "metadata": {},
   "outputs": [
    {
     "name": "stdout",
     "output_type": "stream",
     "text": [
      "In a shocking finding, scientist discovered a herd of unicorns living in a\n",
      "remote, previously unexplored valley, in the Andes Mountains. Even more\n",
      "surprising to the researchers was the fact that the unicorns spoke perfect\n",
      "English.\n",
      "\n",
      "\n",
      "The discovery was made by a team of scientists from the University of\n",
      "California, Santa Cruz, and the National Geographic Society.\n",
      "\n",
      "According to a press release, the scientists were conducting a survey of the\n",
      "area when they came across the herd. They were surprised to find that they were\n",
      "able to converse with the animals in English, even though they had never seen a\n",
      "unicorn in person before. The researchers were\n",
      "\n",
      "log-prob: -93.12\n"
     ]
    }
   ],
   "source": [
    "output_beam = model.generate(input_ids, max_length=max_length, num_beams=5, \n",
    "                             do_sample=False, no_repeat_ngram_size=2)\n",
    "logp = sequence_logprob(model, output_beam, input_len=len(input_ids[0]))\n",
    "print(tokenizer.decode(output_beam[0]))\n",
    "print(f\"\\nlog-prob: {logp:.2f}\")"
   ]
  },
  {
   "cell_type": "markdown",
   "metadata": {},
   "source": [
    "**Conclusão sobre o *Beam Search* melhorado:**\n",
    "\n",
    "- <font color=\"red\"> piora a performance (maior soma do log das probabilidades)</font>\n",
    "- <font color=\"green\">diminui as repetições</font>\n",
    "- <font color=\"green\">mantém a coerência</font>"
   ]
  },
  {
   "cell_type": "markdown",
   "metadata": {},
   "source": [
    "**Desafio:**\n",
    "\n",
    "Encontrar a melhor relação:\n",
    "\n",
    "maior soma do log das probabilidades\n",
    "\n",
    "                X \n",
    "\n",
    "menos repetições (menor tamanho de n-grams para repetir)"
   ]
  },
  {
   "cell_type": "markdown",
   "metadata": {},
   "source": [
    "**Aplicações**\n",
    "\n",
    "- sumarização\n",
    "- tradução automática\n",
    "- outras que a exatidão factual é importante"
   ]
  },
  {
   "cell_type": "markdown",
   "metadata": {},
   "source": [
    "## Sampling Methods"
   ]
  },
  {
   "cell_type": "code",
   "execution_count": 24,
   "metadata": {},
   "outputs": [
    {
     "data": {
      "application/pdf": "[encoded data removed]",
      "image/svg+xml": "<?xml version=\"1.0\" encoding=\"utf-8\" standalone=\"no\"?>\n<!DOCTYPE svg PUBLIC \"-//W3C//DTD SVG 1.1//EN\"\n  \"http://www.w3.org/Graphics/SVG/1.1/DTD/svg11.dtd\">\n<svg xmlns:xlink=\"http://www.w3.org/1999/xlink\" width=\"398.50625pt\" height=\"262.435707pt\" viewBox=\"0 0 398.50625 262.435707\" xmlns=\"http://www.w3.org/2000/svg\" version=\"1.1\">\n <metadata>\n  <rdf:RDF xmlns:dc=\"http://purl.org/dc/elements/1.1/\" xmlns:cc=\"http://creativecommons.org/ns#\" xmlns:rdf=\"http://www.w3.org/1999/02/22-rdf-syntax-ns#\">\n   <cc:Work>\n    <dc:type rdf:resource=\"http://purl.org/dc/dcmitype/StillImage\"/>\n    <dc:date>2022-07-02T11:13:21.810869</dc:date>\n    <dc:format>image/svg+xml</dc:format>\n    <dc:creator>\n     <cc:Agent>\n      <dc:title>Matplotlib v3.5.2, https://matplotlib.org/</dc:title>\n     </cc:Agent>\n    </dc:creator>\n   </cc:Work>\n  </rdf:RDF>\n </metadata>\n <defs>\n  <style type=\"text/css\">*{stroke-linejoin: round; stroke-linecap: butt}</style>\n </defs>\n <g id=\"figure_1\">\n  <g id=\"patch_1\">\n   <path d=\"M 0 262.435707 \nL 398.50625 262.435707 \nL 398.50625 0 \nL 0 0 \nL 0 262.435707 \nz\n\" style=\"fill: none\"/>\n  </g>\n  <g id=\"axes_1\">\n   <g id=\"patch_2\">\n    <path d=\"M 56.50625 224.879457 \nL 391.30625 224.879457 \nL 391.30625 7.439457 \nL 56.50625 7.439457 \nz\n\" style=\"fill: #ffffff\"/>\n   </g>\n   <g id=\"matplotlib.axis_1\">\n    <g id=\"xtick_1\">\n     <g id=\"line2d_1\">\n      <defs>\n       <path id=\"m7f435857f1\" d=\"M 0 0 \nL 0 3.5 \n\" style=\"stroke: #000000; stroke-width: 0.8\"/>\n      </defs>\n      <g>\n       <use xlink:href=\"#m7f435857f1\" x=\"71.724432\" y=\"224.879457\" style=\"stroke: #000000; stroke-width: 0.8\"/>\n      </g>\n     </g>\n     <g id=\"text_1\">\n      <!-- 0 -->\n      <g transform=\"translate(68.543182 239.477895)scale(0.1 -0.1)\">\n       <defs>\n        <path id=\"DejaVuSans-30\" d=\"M 2034 4250 \nQ 1547 4250 1301 3770 \nQ 1056 3291 1056 2328 \nQ 1056 1369 1301 889 \nQ 1547 409 2034 409 \nQ 2525 409 2770 889 \nQ 3016 1369 3016 2328 \nQ 3016 3291 2770 3770 \nQ 2525 4250 2034 4250 \nz\nM 2034 4750 \nQ 2819 4750 3233 4129 \nQ 3647 3509 3647 2328 \nQ 3647 1150 3233 529 \nQ 2819 -91 2034 -91 \nQ 1250 -91 836 529 \nQ 422 1150 422 2328 \nQ 422 3509 836 4129 \nQ 1250 4750 2034 4750 \nz\n\" transform=\"scale(0.015625)\"/>\n       </defs>\n       <use xlink:href=\"#DejaVuSans-30\"/>\n      </g>\n     </g>\n    </g>\n    <g id=\"xtick_2\">\n     <g id=\"line2d_2\">\n      <g>\n       <use xlink:href=\"#m7f435857f1\" x=\"132.658093\" y=\"224.879457\" style=\"stroke: #000000; stroke-width: 0.8\"/>\n      </g>\n     </g>\n     <g id=\"text_2\">\n      <!-- 200 -->\n      <g transform=\"translate(123.114343 239.477895)scale(0.1 -0.1)\">\n       <defs>\n        <path id=\"DejaVuSans-32\" d=\"M 1228 531 \nL 3431 531 \nL 3431 0 \nL 469 0 \nL 469 531 \nQ 828 903 1448 1529 \nQ 2069 2156 2228 2338 \nQ 2531 2678 2651 2914 \nQ 2772 3150 2772 3378 \nQ 2772 3750 2511 3984 \nQ 2250 4219 1831 4219 \nQ 1534 4219 1204 4116 \nQ 875 4013 500 3803 \nL 500 4441 \nQ 881 4594 1212 4672 \nQ 1544 4750 1819 4750 \nQ 2544 4750 2975 4387 \nQ 3406 4025 3406 3419 \nQ 3406 3131 3298 2873 \nQ 3191 2616 2906 2266 \nQ 2828 2175 2409 1742 \nQ 1991 1309 1228 531 \nz\n\" transform=\"scale(0.015625)\"/>\n       </defs>\n       <use xlink:href=\"#DejaVuSans-32\"/>\n       <use xlink:href=\"#DejaVuSans-30\" x=\"63.623047\"/>\n       <use xlink:href=\"#DejaVuSans-30\" x=\"127.246094\"/>\n      </g>\n     </g>\n    </g>\n    <g id=\"xtick_3\">\n     <g id=\"line2d_3\">\n      <g>\n       <use xlink:href=\"#m7f435857f1\" x=\"193.591754\" y=\"224.879457\" style=\"stroke: #000000; stroke-width: 0.8\"/>\n      </g>\n     </g>\n     <g id=\"text_3\">\n      <!-- 400 -->\n      <g transform=\"translate(184.048004 239.477895)scale(0.1 -0.1)\">\n       <defs>\n        <path id=\"DejaVuSans-34\" d=\"M 2419 4116 \nL 825 1625 \nL 2419 1625 \nL 2419 4116 \nz\nM 2253 4666 \nL 3047 4666 \nL 3047 1625 \nL 3713 1625 \nL 3713 1100 \nL 3047 1100 \nL 3047 0 \nL 2419 0 \nL 2419 1100 \nL 313 1100 \nL 313 1709 \nL 2253 4666 \nz\n\" transform=\"scale(0.015625)\"/>\n       </defs>\n       <use xlink:href=\"#DejaVuSans-34\"/>\n       <use xlink:href=\"#DejaVuSans-30\" x=\"63.623047\"/>\n       <use xlink:href=\"#DejaVuSans-30\" x=\"127.246094\"/>\n      </g>\n     </g>\n    </g>\n    <g id=\"xtick_4\">\n     <g id=\"line2d_4\">\n      <g>\n       <use xlink:href=\"#m7f435857f1\" x=\"254.525415\" y=\"224.879457\" style=\"stroke: #000000; stroke-width: 0.8\"/>\n      </g>\n     </g>\n     <g id=\"text_4\">\n      <!-- 600 -->\n      <g transform=\"translate(244.981665 239.477895)scale(0.1 -0.1)\">\n       <defs>\n        <path id=\"DejaVuSans-36\" d=\"M 2113 2584 \nQ 1688 2584 1439 2293 \nQ 1191 2003 1191 1497 \nQ 1191 994 1439 701 \nQ 1688 409 2113 409 \nQ 2538 409 2786 701 \nQ 3034 994 3034 1497 \nQ 3034 2003 2786 2293 \nQ 2538 2584 2113 2584 \nz\nM 3366 4563 \nL 3366 3988 \nQ 3128 4100 2886 4159 \nQ 2644 4219 2406 4219 \nQ 1781 4219 1451 3797 \nQ 1122 3375 1075 2522 \nQ 1259 2794 1537 2939 \nQ 1816 3084 2150 3084 \nQ 2853 3084 3261 2657 \nQ 3669 2231 3669 1497 \nQ 3669 778 3244 343 \nQ 2819 -91 2113 -91 \nQ 1303 -91 875 529 \nQ 447 1150 447 2328 \nQ 447 3434 972 4092 \nQ 1497 4750 2381 4750 \nQ 2619 4750 2861 4703 \nQ 3103 4656 3366 4563 \nz\n\" transform=\"scale(0.015625)\"/>\n       </defs>\n       <use xlink:href=\"#DejaVuSans-36\"/>\n       <use xlink:href=\"#DejaVuSans-30\" x=\"63.623047\"/>\n       <use xlink:href=\"#DejaVuSans-30\" x=\"127.246094\"/>\n      </g>\n     </g>\n    </g>\n    <g id=\"xtick_5\">\n     <g id=\"line2d_5\">\n      <g>\n       <use xlink:href=\"#m7f435857f1\" x=\"315.459076\" y=\"224.879457\" style=\"stroke: #000000; stroke-width: 0.8\"/>\n      </g>\n     </g>\n     <g id=\"text_5\">\n      <!-- 800 -->\n      <g transform=\"translate(305.915326 239.477895)scale(0.1 -0.1)\">\n       <defs>\n        <path id=\"DejaVuSans-38\" d=\"M 2034 2216 \nQ 1584 2216 1326 1975 \nQ 1069 1734 1069 1313 \nQ 1069 891 1326 650 \nQ 1584 409 2034 409 \nQ 2484 409 2743 651 \nQ 3003 894 3003 1313 \nQ 3003 1734 2745 1975 \nQ 2488 2216 2034 2216 \nz\nM 1403 2484 \nQ 997 2584 770 2862 \nQ 544 3141 544 3541 \nQ 544 4100 942 4425 \nQ 1341 4750 2034 4750 \nQ 2731 4750 3128 4425 \nQ 3525 4100 3525 3541 \nQ 3525 3141 3298 2862 \nQ 3072 2584 2669 2484 \nQ 3125 2378 3379 2068 \nQ 3634 1759 3634 1313 \nQ 3634 634 3220 271 \nQ 2806 -91 2034 -91 \nQ 1263 -91 848 271 \nQ 434 634 434 1313 \nQ 434 1759 690 2068 \nQ 947 2378 1403 2484 \nz\nM 1172 3481 \nQ 1172 3119 1398 2916 \nQ 1625 2713 2034 2713 \nQ 2441 2713 2670 2916 \nQ 2900 3119 2900 3481 \nQ 2900 3844 2670 4047 \nQ 2441 4250 2034 4250 \nQ 1625 4250 1398 4047 \nQ 1172 3844 1172 3481 \nz\n\" transform=\"scale(0.015625)\"/>\n       </defs>\n       <use xlink:href=\"#DejaVuSans-38\"/>\n       <use xlink:href=\"#DejaVuSans-30\" x=\"63.623047\"/>\n       <use xlink:href=\"#DejaVuSans-30\" x=\"127.246094\"/>\n      </g>\n     </g>\n    </g>\n    <g id=\"xtick_6\">\n     <g id=\"line2d_6\">\n      <g>\n       <use xlink:href=\"#m7f435857f1\" x=\"376.392736\" y=\"224.879457\" style=\"stroke: #000000; stroke-width: 0.8\"/>\n      </g>\n     </g>\n     <g id=\"text_6\">\n      <!-- 1000 -->\n      <g transform=\"translate(363.667736 239.477895)scale(0.1 -0.1)\">\n       <defs>\n        <path id=\"DejaVuSans-31\" d=\"M 794 531 \nL 1825 531 \nL 1825 4091 \nL 703 3866 \nL 703 4441 \nL 1819 4666 \nL 2450 4666 \nL 2450 531 \nL 3481 531 \nL 3481 0 \nL 794 0 \nL 794 531 \nz\n\" transform=\"scale(0.015625)\"/>\n       </defs>\n       <use xlink:href=\"#DejaVuSans-31\"/>\n       <use xlink:href=\"#DejaVuSans-30\" x=\"63.623047\"/>\n       <use xlink:href=\"#DejaVuSans-30\" x=\"127.246094\"/>\n       <use xlink:href=\"#DejaVuSans-30\" x=\"190.869141\"/>\n      </g>\n     </g>\n    </g>\n    <g id=\"text_7\">\n     <!-- Sorted token probabilities -->\n     <g transform=\"translate(159.4625 253.15602)scale(0.1 -0.1)\">\n      <defs>\n       <path id=\"DejaVuSans-53\" d=\"M 3425 4513 \nL 3425 3897 \nQ 3066 4069 2747 4153 \nQ 2428 4238 2131 4238 \nQ 1616 4238 1336 4038 \nQ 1056 3838 1056 3469 \nQ 1056 3159 1242 3001 \nQ 1428 2844 1947 2747 \nL 2328 2669 \nQ 3034 2534 3370 2195 \nQ 3706 1856 3706 1288 \nQ 3706 609 3251 259 \nQ 2797 -91 1919 -91 \nQ 1588 -91 1214 -16 \nQ 841 59 441 206 \nL 441 856 \nQ 825 641 1194 531 \nQ 1563 422 1919 422 \nQ 2459 422 2753 634 \nQ 3047 847 3047 1241 \nQ 3047 1584 2836 1778 \nQ 2625 1972 2144 2069 \nL 1759 2144 \nQ 1053 2284 737 2584 \nQ 422 2884 422 3419 \nQ 422 4038 858 4394 \nQ 1294 4750 2059 4750 \nQ 2388 4750 2728 4690 \nQ 3069 4631 3425 4513 \nz\n\" transform=\"scale(0.015625)\"/>\n       <path id=\"DejaVuSans-6f\" d=\"M 1959 3097 \nQ 1497 3097 1228 2736 \nQ 959 2375 959 1747 \nQ 959 1119 1226 758 \nQ 1494 397 1959 397 \nQ 2419 397 2687 759 \nQ 2956 1122 2956 1747 \nQ 2956 2369 2687 2733 \nQ 2419 3097 1959 3097 \nz\nM 1959 3584 \nQ 2709 3584 3137 3096 \nQ 3566 2609 3566 1747 \nQ 3566 888 3137 398 \nQ 2709 -91 1959 -91 \nQ 1206 -91 779 398 \nQ 353 888 353 1747 \nQ 353 2609 779 3096 \nQ 1206 3584 1959 3584 \nz\n\" transform=\"scale(0.015625)\"/>\n       <path id=\"DejaVuSans-72\" d=\"M 2631 2963 \nQ 2534 3019 2420 3045 \nQ 2306 3072 2169 3072 \nQ 1681 3072 1420 2755 \nQ 1159 2438 1159 1844 \nL 1159 0 \nL 581 0 \nL 581 3500 \nL 1159 3500 \nL 1159 2956 \nQ 1341 3275 1631 3429 \nQ 1922 3584 2338 3584 \nQ 2397 3584 2469 3576 \nQ 2541 3569 2628 3553 \nL 2631 2963 \nz\n\" transform=\"scale(0.015625)\"/>\n       <path id=\"DejaVuSans-74\" d=\"M 1172 4494 \nL 1172 3500 \nL 2356 3500 \nL 2356 3053 \nL 1172 3053 \nL 1172 1153 \nQ 1172 725 1289 603 \nQ 1406 481 1766 481 \nL 2356 481 \nL 2356 0 \nL 1766 0 \nQ 1100 0 847 248 \nQ 594 497 594 1153 \nL 594 3053 \nL 172 3053 \nL 172 3500 \nL 594 3500 \nL 594 4494 \nL 1172 4494 \nz\n\" transform=\"scale(0.015625)\"/>\n       <path id=\"DejaVuSans-65\" d=\"M 3597 1894 \nL 3597 1613 \nL 953 1613 \nQ 991 1019 1311 708 \nQ 1631 397 2203 397 \nQ 2534 397 2845 478 \nQ 3156 559 3463 722 \nL 3463 178 \nQ 3153 47 2828 -22 \nQ 2503 -91 2169 -91 \nQ 1331 -91 842 396 \nQ 353 884 353 1716 \nQ 353 2575 817 3079 \nQ 1281 3584 2069 3584 \nQ 2775 3584 3186 3129 \nQ 3597 2675 3597 1894 \nz\nM 3022 2063 \nQ 3016 2534 2758 2815 \nQ 2500 3097 2075 3097 \nQ 1594 3097 1305 2825 \nQ 1016 2553 972 2059 \nL 3022 2063 \nz\n\" transform=\"scale(0.015625)\"/>\n       <path id=\"DejaVuSans-64\" d=\"M 2906 2969 \nL 2906 4863 \nL 3481 4863 \nL 3481 0 \nL 2906 0 \nL 2906 525 \nQ 2725 213 2448 61 \nQ 2172 -91 1784 -91 \nQ 1150 -91 751 415 \nQ 353 922 353 1747 \nQ 353 2572 751 3078 \nQ 1150 3584 1784 3584 \nQ 2172 3584 2448 3432 \nQ 2725 3281 2906 2969 \nz\nM 947 1747 \nQ 947 1113 1208 752 \nQ 1469 391 1925 391 \nQ 2381 391 2643 752 \nQ 2906 1113 2906 1747 \nQ 2906 2381 2643 2742 \nQ 2381 3103 1925 3103 \nQ 1469 3103 1208 2742 \nQ 947 2381 947 1747 \nz\n\" transform=\"scale(0.015625)\"/>\n       <path id=\"DejaVuSans-20\" transform=\"scale(0.015625)\"/>\n       <path id=\"DejaVuSans-6b\" d=\"M 581 4863 \nL 1159 4863 \nL 1159 1991 \nL 2875 3500 \nL 3609 3500 \nL 1753 1863 \nL 3688 0 \nL 2938 0 \nL 1159 1709 \nL 1159 0 \nL 581 0 \nL 581 4863 \nz\n\" transform=\"scale(0.015625)\"/>\n       <path id=\"DejaVuSans-6e\" d=\"M 3513 2113 \nL 3513 0 \nL 2938 0 \nL 2938 2094 \nQ 2938 2591 2744 2837 \nQ 2550 3084 2163 3084 \nQ 1697 3084 1428 2787 \nQ 1159 2491 1159 1978 \nL 1159 0 \nL 581 0 \nL 581 3500 \nL 1159 3500 \nL 1159 2956 \nQ 1366 3272 1645 3428 \nQ 1925 3584 2291 3584 \nQ 2894 3584 3203 3211 \nQ 3513 2838 3513 2113 \nz\n\" transform=\"scale(0.015625)\"/>\n       <path id=\"DejaVuSans-70\" d=\"M 1159 525 \nL 1159 -1331 \nL 581 -1331 \nL 581 3500 \nL 1159 3500 \nL 1159 2969 \nQ 1341 3281 1617 3432 \nQ 1894 3584 2278 3584 \nQ 2916 3584 3314 3078 \nQ 3713 2572 3713 1747 \nQ 3713 922 3314 415 \nQ 2916 -91 2278 -91 \nQ 1894 -91 1617 61 \nQ 1341 213 1159 525 \nz\nM 3116 1747 \nQ 3116 2381 2855 2742 \nQ 2594 3103 2138 3103 \nQ 1681 3103 1420 2742 \nQ 1159 2381 1159 1747 \nQ 1159 1113 1420 752 \nQ 1681 391 2138 391 \nQ 2594 391 2855 752 \nQ 3116 1113 3116 1747 \nz\n\" transform=\"scale(0.015625)\"/>\n       <path id=\"DejaVuSans-62\" d=\"M 3116 1747 \nQ 3116 2381 2855 2742 \nQ 2594 3103 2138 3103 \nQ 1681 3103 1420 2742 \nQ 1159 2381 1159 1747 \nQ 1159 1113 1420 752 \nQ 1681 391 2138 391 \nQ 2594 391 2855 752 \nQ 3116 1113 3116 1747 \nz\nM 1159 2969 \nQ 1341 3281 1617 3432 \nQ 1894 3584 2278 3584 \nQ 2916 3584 3314 3078 \nQ 3713 2572 3713 1747 \nQ 3713 922 3314 415 \nQ 2916 -91 2278 -91 \nQ 1894 -91 1617 61 \nQ 1341 213 1159 525 \nL 1159 0 \nL 581 0 \nL 581 4863 \nL 1159 4863 \nL 1159 2969 \nz\n\" transform=\"scale(0.015625)\"/>\n       <path id=\"DejaVuSans-61\" d=\"M 2194 1759 \nQ 1497 1759 1228 1600 \nQ 959 1441 959 1056 \nQ 959 750 1161 570 \nQ 1363 391 1709 391 \nQ 2188 391 2477 730 \nQ 2766 1069 2766 1631 \nL 2766 1759 \nL 2194 1759 \nz\nM 3341 1997 \nL 3341 0 \nL 2766 0 \nL 2766 531 \nQ 2569 213 2275 61 \nQ 1981 -91 1556 -91 \nQ 1019 -91 701 211 \nQ 384 513 384 1019 \nQ 384 1609 779 1909 \nQ 1175 2209 1959 2209 \nL 2766 2209 \nL 2766 2266 \nQ 2766 2663 2505 2880 \nQ 2244 3097 1772 3097 \nQ 1472 3097 1187 3025 \nQ 903 2953 641 2809 \nL 641 3341 \nQ 956 3463 1253 3523 \nQ 1550 3584 1831 3584 \nQ 2591 3584 2966 3190 \nQ 3341 2797 3341 1997 \nz\n\" transform=\"scale(0.015625)\"/>\n       <path id=\"DejaVuSans-69\" d=\"M 603 3500 \nL 1178 3500 \nL 1178 0 \nL 603 0 \nL 603 3500 \nz\nM 603 4863 \nL 1178 4863 \nL 1178 4134 \nL 603 4134 \nL 603 4863 \nz\n\" transform=\"scale(0.015625)\"/>\n       <path id=\"DejaVuSans-6c\" d=\"M 603 4863 \nL 1178 4863 \nL 1178 0 \nL 603 0 \nL 603 4863 \nz\n\" transform=\"scale(0.015625)\"/>\n       <path id=\"DejaVuSans-73\" d=\"M 2834 3397 \nL 2834 2853 \nQ 2591 2978 2328 3040 \nQ 2066 3103 1784 3103 \nQ 1356 3103 1142 2972 \nQ 928 2841 928 2578 \nQ 928 2378 1081 2264 \nQ 1234 2150 1697 2047 \nL 1894 2003 \nQ 2506 1872 2764 1633 \nQ 3022 1394 3022 966 \nQ 3022 478 2636 193 \nQ 2250 -91 1575 -91 \nQ 1294 -91 989 -36 \nQ 684 19 347 128 \nL 347 722 \nQ 666 556 975 473 \nQ 1284 391 1588 391 \nQ 1994 391 2212 530 \nQ 2431 669 2431 922 \nQ 2431 1156 2273 1281 \nQ 2116 1406 1581 1522 \nL 1381 1569 \nQ 847 1681 609 1914 \nQ 372 2147 372 2553 \nQ 372 3047 722 3315 \nQ 1072 3584 1716 3584 \nQ 2034 3584 2315 3537 \nQ 2597 3491 2834 3397 \nz\n\" transform=\"scale(0.015625)\"/>\n      </defs>\n      <use xlink:href=\"#DejaVuSans-53\"/>\n      <use xlink:href=\"#DejaVuSans-6f\" x=\"63.476562\"/>\n      <use xlink:href=\"#DejaVuSans-72\" x=\"124.658203\"/>\n      <use xlink:href=\"#DejaVuSans-74\" x=\"165.771484\"/>\n      <use xlink:href=\"#DejaVuSans-65\" x=\"204.980469\"/>\n      <use xlink:href=\"#DejaVuSans-64\" x=\"266.503906\"/>\n      <use xlink:href=\"#DejaVuSans-20\" x=\"329.980469\"/>\n      <use xlink:href=\"#DejaVuSans-74\" x=\"361.767578\"/>\n      <use xlink:href=\"#DejaVuSans-6f\" x=\"400.976562\"/>\n      <use xlink:href=\"#DejaVuSans-6b\" x=\"462.158203\"/>\n      <use xlink:href=\"#DejaVuSans-65\" x=\"516.443359\"/>\n      <use xlink:href=\"#DejaVuSans-6e\" x=\"577.966797\"/>\n      <use xlink:href=\"#DejaVuSans-20\" x=\"641.345703\"/>\n      <use xlink:href=\"#DejaVuSans-70\" x=\"673.132812\"/>\n      <use xlink:href=\"#DejaVuSans-72\" x=\"736.609375\"/>\n      <use xlink:href=\"#DejaVuSans-6f\" x=\"775.472656\"/>\n      <use xlink:href=\"#DejaVuSans-62\" x=\"836.654297\"/>\n      <use xlink:href=\"#DejaVuSans-61\" x=\"900.130859\"/>\n      <use xlink:href=\"#DejaVuSans-62\" x=\"961.410156\"/>\n      <use xlink:href=\"#DejaVuSans-69\" x=\"1024.886719\"/>\n      <use xlink:href=\"#DejaVuSans-6c\" x=\"1052.669922\"/>\n      <use xlink:href=\"#DejaVuSans-69\" x=\"1080.453125\"/>\n      <use xlink:href=\"#DejaVuSans-74\" x=\"1108.236328\"/>\n      <use xlink:href=\"#DejaVuSans-69\" x=\"1147.445312\"/>\n      <use xlink:href=\"#DejaVuSans-65\" x=\"1175.228516\"/>\n      <use xlink:href=\"#DejaVuSans-73\" x=\"1236.751953\"/>\n     </g>\n    </g>\n   </g>\n   <g id=\"matplotlib.axis_2\">\n    <g id=\"ytick_1\">\n     <g id=\"line2d_7\">\n      <defs>\n       <path id=\"m1a478525cb\" d=\"M 0 0 \nL -3.5 0 \n\" style=\"stroke: #000000; stroke-width: 0.8\"/>\n      </defs>\n      <g>\n       <use xlink:href=\"#m1a478525cb\" x=\"56.50625\" y=\"221.621374\" style=\"stroke: #000000; stroke-width: 0.8\"/>\n      </g>\n     </g>\n     <g id=\"text_8\">\n      <!-- 0.000 -->\n      <g transform=\"translate(20.878125 225.420592)scale(0.1 -0.1)\">\n       <defs>\n        <path id=\"DejaVuSans-2e\" d=\"M 684 794 \nL 1344 794 \nL 1344 0 \nL 684 0 \nL 684 794 \nz\n\" transform=\"scale(0.015625)\"/>\n       </defs>\n       <use xlink:href=\"#DejaVuSans-30\"/>\n       <use xlink:href=\"#DejaVuSans-2e\" x=\"63.623047\"/>\n       <use xlink:href=\"#DejaVuSans-30\" x=\"95.410156\"/>\n       <use xlink:href=\"#DejaVuSans-30\" x=\"159.033203\"/>\n       <use xlink:href=\"#DejaVuSans-30\" x=\"222.65625\"/>\n      </g>\n     </g>\n    </g>\n    <g id=\"ytick_2\">\n     <g id=\"line2d_8\">\n      <g>\n       <use xlink:href=\"#m1a478525cb\" x=\"56.50625\" y=\"179.496943\" style=\"stroke: #000000; stroke-width: 0.8\"/>\n      </g>\n     </g>\n     <g id=\"text_9\">\n      <!-- 0.001 -->\n      <g transform=\"translate(20.878125 183.296161)scale(0.1 -0.1)\">\n       <use xlink:href=\"#DejaVuSans-30\"/>\n       <use xlink:href=\"#DejaVuSans-2e\" x=\"63.623047\"/>\n       <use xlink:href=\"#DejaVuSans-30\" x=\"95.410156\"/>\n       <use xlink:href=\"#DejaVuSans-30\" x=\"159.033203\"/>\n       <use xlink:href=\"#DejaVuSans-31\" x=\"222.65625\"/>\n      </g>\n     </g>\n    </g>\n    <g id=\"ytick_3\">\n     <g id=\"line2d_9\">\n      <g>\n       <use xlink:href=\"#m1a478525cb\" x=\"56.50625\" y=\"137.372512\" style=\"stroke: #000000; stroke-width: 0.8\"/>\n      </g>\n     </g>\n     <g id=\"text_10\">\n      <!-- 0.002 -->\n      <g transform=\"translate(20.878125 141.17173)scale(0.1 -0.1)\">\n       <use xlink:href=\"#DejaVuSans-30\"/>\n       <use xlink:href=\"#DejaVuSans-2e\" x=\"63.623047\"/>\n       <use xlink:href=\"#DejaVuSans-30\" x=\"95.410156\"/>\n       <use xlink:href=\"#DejaVuSans-30\" x=\"159.033203\"/>\n       <use xlink:href=\"#DejaVuSans-32\" x=\"222.65625\"/>\n      </g>\n     </g>\n    </g>\n    <g id=\"ytick_4\">\n     <g id=\"line2d_10\">\n      <g>\n       <use xlink:href=\"#m1a478525cb\" x=\"56.50625\" y=\"95.248081\" style=\"stroke: #000000; stroke-width: 0.8\"/>\n      </g>\n     </g>\n     <g id=\"text_11\">\n      <!-- 0.003 -->\n      <g transform=\"translate(20.878125 99.047299)scale(0.1 -0.1)\">\n       <defs>\n        <path id=\"DejaVuSans-33\" d=\"M 2597 2516 \nQ 3050 2419 3304 2112 \nQ 3559 1806 3559 1356 \nQ 3559 666 3084 287 \nQ 2609 -91 1734 -91 \nQ 1441 -91 1130 -33 \nQ 819 25 488 141 \nL 488 750 \nQ 750 597 1062 519 \nQ 1375 441 1716 441 \nQ 2309 441 2620 675 \nQ 2931 909 2931 1356 \nQ 2931 1769 2642 2001 \nQ 2353 2234 1838 2234 \nL 1294 2234 \nL 1294 2753 \nL 1863 2753 \nQ 2328 2753 2575 2939 \nQ 2822 3125 2822 3475 \nQ 2822 3834 2567 4026 \nQ 2313 4219 1838 4219 \nQ 1578 4219 1281 4162 \nQ 984 4106 628 3988 \nL 628 4550 \nQ 988 4650 1302 4700 \nQ 1616 4750 1894 4750 \nQ 2613 4750 3031 4423 \nQ 3450 4097 3450 3541 \nQ 3450 3153 3228 2886 \nQ 3006 2619 2597 2516 \nz\n\" transform=\"scale(0.015625)\"/>\n       </defs>\n       <use xlink:href=\"#DejaVuSans-30\"/>\n       <use xlink:href=\"#DejaVuSans-2e\" x=\"63.623047\"/>\n       <use xlink:href=\"#DejaVuSans-30\" x=\"95.410156\"/>\n       <use xlink:href=\"#DejaVuSans-30\" x=\"159.033203\"/>\n       <use xlink:href=\"#DejaVuSans-33\" x=\"222.65625\"/>\n      </g>\n     </g>\n    </g>\n    <g id=\"ytick_5\">\n     <g id=\"line2d_11\">\n      <g>\n       <use xlink:href=\"#m1a478525cb\" x=\"56.50625\" y=\"53.12365\" style=\"stroke: #000000; stroke-width: 0.8\"/>\n      </g>\n     </g>\n     <g id=\"text_12\">\n      <!-- 0.004 -->\n      <g transform=\"translate(20.878125 56.922868)scale(0.1 -0.1)\">\n       <use xlink:href=\"#DejaVuSans-30\"/>\n       <use xlink:href=\"#DejaVuSans-2e\" x=\"63.623047\"/>\n       <use xlink:href=\"#DejaVuSans-30\" x=\"95.410156\"/>\n       <use xlink:href=\"#DejaVuSans-30\" x=\"159.033203\"/>\n       <use xlink:href=\"#DejaVuSans-34\" x=\"222.65625\"/>\n      </g>\n     </g>\n    </g>\n    <g id=\"ytick_6\">\n     <g id=\"line2d_12\">\n      <g>\n       <use xlink:href=\"#m1a478525cb\" x=\"56.50625\" y=\"10.999219\" style=\"stroke: #000000; stroke-width: 0.8\"/>\n      </g>\n     </g>\n     <g id=\"text_13\">\n      <!-- 0.005 -->\n      <g transform=\"translate(20.878125 14.798437)scale(0.1 -0.1)\">\n       <defs>\n        <path id=\"DejaVuSans-35\" d=\"M 691 4666 \nL 3169 4666 \nL 3169 4134 \nL 1269 4134 \nL 1269 2991 \nQ 1406 3038 1543 3061 \nQ 1681 3084 1819 3084 \nQ 2600 3084 3056 2656 \nQ 3513 2228 3513 1497 \nQ 3513 744 3044 326 \nQ 2575 -91 1722 -91 \nQ 1428 -91 1123 -41 \nQ 819 9 494 109 \nL 494 744 \nQ 775 591 1075 516 \nQ 1375 441 1709 441 \nQ 2250 441 2565 725 \nQ 2881 1009 2881 1497 \nQ 2881 1984 2565 2268 \nQ 2250 2553 1709 2553 \nQ 1456 2553 1204 2497 \nQ 953 2441 691 2322 \nL 691 4666 \nz\n\" transform=\"scale(0.015625)\"/>\n       </defs>\n       <use xlink:href=\"#DejaVuSans-30\"/>\n       <use xlink:href=\"#DejaVuSans-2e\" x=\"63.623047\"/>\n       <use xlink:href=\"#DejaVuSans-30\" x=\"95.410156\"/>\n       <use xlink:href=\"#DejaVuSans-30\" x=\"159.033203\"/>\n       <use xlink:href=\"#DejaVuSans-35\" x=\"222.65625\"/>\n      </g>\n     </g>\n    </g>\n    <g id=\"text_14\">\n     <!-- Probability -->\n     <g transform=\"translate(14.798437 142.588363)rotate(-90)scale(0.1 -0.1)\">\n      <defs>\n       <path id=\"DejaVuSans-50\" d=\"M 1259 4147 \nL 1259 2394 \nL 2053 2394 \nQ 2494 2394 2734 2622 \nQ 2975 2850 2975 3272 \nQ 2975 3691 2734 3919 \nQ 2494 4147 2053 4147 \nL 1259 4147 \nz\nM 628 4666 \nL 2053 4666 \nQ 2838 4666 3239 4311 \nQ 3641 3956 3641 3272 \nQ 3641 2581 3239 2228 \nQ 2838 1875 2053 1875 \nL 1259 1875 \nL 1259 0 \nL 628 0 \nL 628 4666 \nz\n\" transform=\"scale(0.015625)\"/>\n       <path id=\"DejaVuSans-79\" d=\"M 2059 -325 \nQ 1816 -950 1584 -1140 \nQ 1353 -1331 966 -1331 \nL 506 -1331 \nL 506 -850 \nL 844 -850 \nQ 1081 -850 1212 -737 \nQ 1344 -625 1503 -206 \nL 1606 56 \nL 191 3500 \nL 800 3500 \nL 1894 763 \nL 2988 3500 \nL 3597 3500 \nL 2059 -325 \nz\n\" transform=\"scale(0.015625)\"/>\n      </defs>\n      <use xlink:href=\"#DejaVuSans-50\"/>\n      <use xlink:href=\"#DejaVuSans-72\" x=\"58.552734\"/>\n      <use xlink:href=\"#DejaVuSans-6f\" x=\"97.416016\"/>\n      <use xlink:href=\"#DejaVuSans-62\" x=\"158.597656\"/>\n      <use xlink:href=\"#DejaVuSans-61\" x=\"222.074219\"/>\n      <use xlink:href=\"#DejaVuSans-62\" x=\"283.353516\"/>\n      <use xlink:href=\"#DejaVuSans-69\" x=\"346.830078\"/>\n      <use xlink:href=\"#DejaVuSans-6c\" x=\"374.613281\"/>\n      <use xlink:href=\"#DejaVuSans-69\" x=\"402.396484\"/>\n      <use xlink:href=\"#DejaVuSans-74\" x=\"430.179688\"/>\n      <use xlink:href=\"#DejaVuSans-79\" x=\"469.388672\"/>\n     </g>\n    </g>\n   </g>\n   <g id=\"line2d_13\">\n    <path d=\"M 71.724432 17.323094 \nL 71.724432 17.438699 \nL 72.0291 17.438699 \nL 72.0291 18.772537 \nL 72.333768 18.772537 \nL 72.333768 19.427885 \nL 72.638437 19.427885 \nL 72.638437 20.778656 \nL 72.943105 20.778656 \nL 72.943105 21.227516 \nL 73.247773 21.227516 \nL 73.247773 23.234577 \nL 73.552442 23.234577 \nL 73.552442 23.759293 \nL 73.85711 23.759293 \nL 73.85711 24.711113 \nL 74.161778 24.711113 \nL 74.161778 25.439593 \nL 74.466447 25.439593 \nL 74.466447 26.649038 \nL 74.771115 26.649038 \nL 74.771115 30.450575 \nL 75.075783 30.450575 \nL 75.075783 31.031685 \nL 75.380451 31.031685 \nL 75.380451 31.639672 \nL 75.68512 31.639672 \nL 75.68512 31.841903 \nL 75.989788 31.841903 \nL 75.989788 33.635202 \nL 76.294456 33.635202 \nL 76.294456 34.857152 \nL 76.599125 34.857152 \nL 76.599125 38.014587 \nL 76.903793 38.014587 \nL 76.903793 38.216113 \nL 77.208461 38.216113 \nL 77.208461 40.670024 \nL 77.51313 40.670024 \nL 77.51313 41.542757 \nL 77.817798 41.542757 \nL 77.817798 41.896044 \nL 78.122466 41.896044 \nL 78.122466 43.38726 \nL 78.427135 43.38726 \nL 78.427135 44.174702 \nL 78.731803 44.174702 \nL 78.731803 45.618253 \nL 79.036471 45.618253 \nL 79.036471 46.88275 \nL 79.341139 46.88275 \nL 79.341139 51.059162 \nL 79.645808 51.059162 \nL 79.645808 51.784654 \nL 79.950476 51.784654 \nL 79.950476 53.090704 \nL 80.255144 53.090704 \nL 80.255144 53.718063 \nL 80.864481 53.790786 \nL 80.864481 54.056945 \nL 81.169149 54.056945 \nL 81.169149 57.141505 \nL 81.473818 57.141505 \nL 81.473818 58.839504 \nL 81.778486 58.839504 \nL 81.778486 60.343096 \nL 82.083154 60.343096 \nL 82.083154 60.862486 \nL 82.387822 60.862486 \nL 82.387822 62.608985 \nL 82.692491 62.608985 \nL 82.692491 63.780724 \nL 83.301827 63.876357 \nL 83.301827 64.10929 \nL 83.606496 64.10929 \nL 83.606496 64.293948 \nL 83.911164 64.293948 \nL 83.911164 64.753147 \nL 84.215832 64.753147 \nL 84.215832 66.044919 \nL 84.520501 66.044919 \nL 84.520501 67.868617 \nL 84.825169 67.868617 \nL 84.825169 68.508864 \nL 85.129837 68.508864 \nL 85.129837 68.968306 \nL 85.739174 69.045186 \nL 85.739174 69.759789 \nL 86.043842 69.759789 \nL 86.043842 70.789868 \nL 86.653179 70.855512 \nL 86.653179 73.072962 \nL 86.957847 73.072962 \nL 86.957847 73.767329 \nL 87.567184 73.841612 \nL 87.567184 73.935473 \nL 87.871852 73.935473 \nL 87.871852 77.547252 \nL 88.17652 77.547252 \nL 88.17652 77.67705 \nL 88.481189 77.67705 \nL 88.481189 77.905791 \nL 88.785857 77.905791 \nL 88.785857 78.47959 \nL 89.090525 78.47959 \nL 89.090525 79.931664 \nL 89.699862 79.990724 \nL 89.699862 80.182873 \nL 90.00453 80.182873 \nL 90.00453 80.353466 \nL 90.309198 80.353466 \nL 90.309198 82.071781 \nL 90.613867 82.071781 \nL 90.613867 82.76813 \nL 90.918535 82.76813 \nL 90.918535 83.142218 \nL 91.223203 83.142218 \nL 91.223203 84.364125 \nL 91.527872 84.364125 \nL 91.527872 84.951584 \nL 91.83254 84.951584 \nL 91.83254 85.079092 \nL 92.441877 85.112176 \nL 92.441877 85.527639 \nL 93.051213 85.587077 \nL 93.051213 87.228562 \nL 93.355881 87.228562 \nL 93.355881 87.732768 \nL 93.66055 87.732768 \nL 93.66055 88.768034 \nL 93.965218 88.768034 \nL 93.965218 89.026845 \nL 94.269886 89.026845 \nL 94.269886 89.757711 \nL 94.574555 89.757711 \nL 94.574555 90.832593 \nL 94.879223 90.832593 \nL 94.879223 91.841496 \nL 95.183891 91.841496 \nL 95.183891 91.967111 \nL 95.48856 91.967111 \nL 95.48856 92.57364 \nL 95.793228 92.57364 \nL 95.793228 94.378574 \nL 96.097896 94.378574 \nL 96.097896 95.112364 \nL 96.707233 95.198735 \nL 96.707233 95.719472 \nL 97.011901 95.719472 \nL 97.011901 96.719133 \nL 97.316569 96.719133 \nL 97.316569 96.842899 \nL 97.621238 96.842899 \nL 97.621238 97.097074 \nL 97.925906 97.097074 \nL 97.925906 97.756052 \nL 98.230574 97.756052 \nL 98.230574 97.994978 \nL 98.535243 97.994978 \nL 98.535243 98.325782 \nL 98.839911 98.325782 \nL 98.839911 98.958447 \nL 99.144579 98.958447 \nL 99.144579 99.151749 \nL 99.449248 99.151749 \nL 99.449248 99.317192 \nL 100.058584 99.387527 \nL 100.058584 100.144204 \nL 100.363252 100.144204 \nL 100.363252 100.551381 \nL 100.667921 100.551381 \nL 100.667921 101.025164 \nL 101.277257 101.134166 \nL 101.277257 101.209405 \nL 101.886594 101.276825 \nL 101.886594 101.349172 \nL 102.191262 101.349172 \nL 102.191262 102.9983 \nL 102.495931 102.9983 \nL 102.495931 104.037807 \nL 102.800599 104.037807 \nL 102.800599 105.149595 \nL 103.105267 105.149595 \nL 103.105267 105.277791 \nL 103.714604 105.280874 \nL 103.714604 105.59092 \nL 104.019272 105.59092 \nL 104.019272 105.917365 \nL 104.32394 105.917365 \nL 104.32394 106.195276 \nL 104.628609 106.195276 \nL 104.628609 106.706305 \nL 104.933277 106.706305 \nL 104.933277 107.650812 \nL 105.237945 107.650812 \nL 105.237945 108.152212 \nL 105.542614 108.152212 \nL 105.542614 108.688147 \nL 105.847282 108.688147 \nL 105.847282 108.896928 \nL 106.15195 108.896928 \nL 106.15195 110.082299 \nL 106.761287 110.156181 \nL 106.761287 110.685611 \nL 107.065955 110.685611 \nL 107.065955 111.336691 \nL 107.370623 111.336691 \nL 107.370623 111.601682 \nL 107.675292 111.601682 \nL 107.675292 111.914727 \nL 107.97996 111.914727 \nL 107.97996 112.206915 \nL 108.284628 112.206915 \nL 108.284628 113.349279 \nL 108.589297 113.349279 \nL 108.589297 113.745194 \nL 108.893965 113.745194 \nL 108.893965 115.230583 \nL 109.503302 115.324344 \nL 109.503302 116.33914 \nL 109.80797 116.33914 \nL 109.80797 117.452889 \nL 110.112638 117.452889 \nL 110.112638 117.916372 \nL 110.417307 117.916372 \nL 110.417307 118.380237 \nL 110.721975 118.380237 \nL 110.721975 118.535119 \nL 111.026643 118.535119 \nL 111.026643 119.058649 \nL 111.331311 119.058649 \nL 111.331311 119.321393 \nL 111.63598 119.321393 \nL 111.63598 119.699022 \nL 111.940648 119.699022 \nL 111.940648 119.933631 \nL 112.549985 119.96578 \nL 112.549985 121.585809 \nL 112.854653 121.585809 \nL 112.854653 122.839558 \nL 113.159321 122.839558 \nL 113.159321 123.379574 \nL 113.768658 123.386952 \nL 113.768658 124.472727 \nL 114.073326 124.472727 \nL 114.073326 125.084833 \nL 114.377994 125.084833 \nL 114.377994 125.285094 \nL 114.987331 125.291695 \nL 114.987331 125.476725 \nL 115.291999 125.476725 \nL 115.291999 126.72951 \nL 115.596668 126.72951 \nL 115.596668 127.903551 \nL 116.206004 127.927708 \nL 116.206004 129.362036 \nL 116.815341 129.36474 \nL 116.815341 129.964554 \nL 117.424678 130.055789 \nL 117.424678 130.246975 \nL 117.729346 130.246975 \nL 117.729346 130.446424 \nL 118.034014 130.446424 \nL 118.034014 130.747627 \nL 118.338682 130.747627 \nL 118.338682 133.290826 \nL 118.643351 133.290826 \nL 118.643351 133.698582 \nL 118.948019 133.698582 \nL 118.948019 133.904252 \nL 119.252687 133.904252 \nL 119.252687 134.687632 \nL 119.557356 134.687632 \nL 119.557356 135.22579 \nL 119.862024 135.22579 \nL 119.862024 136.025928 \nL 120.471361 136.055609 \nL 120.471361 136.137551 \nL 120.776029 136.137551 \nL 120.776029 136.762949 \nL 121.080697 136.762949 \nL 121.080697 136.991087 \nL 121.690034 137.008758 \nL 121.690034 137.196135 \nL 122.29937 137.24756 \nL 122.29937 137.577812 \nL 122.604039 137.577812 \nL 122.604039 138.765814 \nL 122.908707 138.765814 \nL 122.908707 139.118581 \nL 123.213375 139.118581 \nL 123.213375 139.413122 \nL 123.518044 139.413122 \nL 123.518044 139.672679 \nL 124.12738 139.73978 \nL 124.12738 139.882924 \nL 124.432049 139.882924 \nL 124.432049 140.174888 \nL 124.736717 140.174888 \nL 124.736717 140.313599 \nL 125.041385 140.313599 \nL 125.041385 140.506969 \nL 125.650722 140.564121 \nL 125.650722 140.785985 \nL 126.260058 140.870654 \nL 126.260058 141.113944 \nL 126.564727 141.113944 \nL 126.564727 141.431874 \nL 126.869395 141.431874 \nL 126.869395 141.797615 \nL 127.174063 141.797615 \nL 127.174063 142.450454 \nL 127.478732 142.450454 \nL 127.478732 143.124233 \nL 127.7834 143.124233 \nL 127.7834 143.591682 \nL 128.088068 143.591682 \nL 128.088068 144.835412 \nL 128.392736 144.835412 \nL 128.392736 145.372396 \nL 128.697405 145.372396 \nL 128.697405 145.965808 \nL 129.306741 145.969796 \nL 129.306741 146.406773 \nL 129.61141 146.406773 \nL 129.61141 146.535417 \nL 129.916078 146.535417 \nL 129.916078 146.989189 \nL 130.525415 147.07328 \nL 130.525415 147.148023 \nL 130.830083 147.148023 \nL 130.830083 148.046069 \nL 131.134751 148.046069 \nL 131.134751 148.30337 \nL 131.744088 148.390851 \nL 131.744088 148.514581 \nL 132.353424 148.565096 \nL 132.353424 148.648587 \nL 132.658093 148.648587 \nL 132.658093 149.105858 \nL 132.962761 149.105858 \nL 132.962761 149.309541 \nL 133.267429 149.309541 \nL 133.267429 150.702029 \nL 133.572098 150.702029 \nL 133.572098 151.139292 \nL 133.876766 151.139292 \nL 133.876766 151.477384 \nL 134.486103 151.529446 \nL 134.486103 151.824709 \nL 134.790771 151.824709 \nL 134.790771 152.279154 \nL 135.095439 152.279154 \nL 135.095439 152.576816 \nL 135.400107 152.576816 \nL 135.400107 153.66808 \nL 135.704776 153.66808 \nL 135.704776 154.291525 \nL 136.009444 154.291525 \nL 136.009444 154.542855 \nL 136.618781 154.647283 \nL 136.618781 154.826741 \nL 136.923449 154.826741 \nL 136.923449 155.212184 \nL 137.228117 155.212184 \nL 137.228117 155.378394 \nL 137.837454 155.448872 \nL 137.837454 155.723573 \nL 138.142122 155.723573 \nL 138.142122 156.20564 \nL 138.446791 156.20564 \nL 138.446791 156.499579 \nL 138.751459 156.499579 \nL 138.751459 156.769392 \nL 139.360795 156.872046 \nL 139.360795 158.391639 \nL 139.665464 158.391639 \nL 139.665464 158.605069 \nL 139.970132 158.605069 \nL 139.970132 159.09509 \nL 141.188805 159.173342 \nL 141.188805 159.845322 \nL 141.493474 159.845322 \nL 141.493474 160.109748 \nL 141.798142 160.109748 \nL 141.798142 160.384622 \nL 142.407479 160.386074 \nL 142.407479 160.599724 \nL 142.712147 160.599724 \nL 142.712147 162.044376 \nL 143.321483 162.100815 \nL 143.321483 162.159522 \nL 143.626152 162.159522 \nL 143.626152 163.881262 \nL 144.235488 163.928574 \nL 144.235488 165.025344 \nL 144.844825 165.042213 \nL 144.844825 165.319501 \nL 145.454162 165.354465 \nL 145.454162 165.543641 \nL 146.063498 165.56495 \nL 146.063498 166.381859 \nL 146.977503 166.472421 \nL 146.977503 166.493705 \nL 147.282171 166.493705 \nL 147.282171 166.938125 \nL 147.891508 167.024932 \nL 147.891508 167.11663 \nL 148.196176 167.11663 \nL 148.196176 167.413269 \nL 148.500845 167.413269 \nL 148.500845 168.30047 \nL 149.110181 168.365179 \nL 149.110181 168.416202 \nL 149.41485 168.416202 \nL 149.41485 170.009588 \nL 150.024186 170.113967 \nL 150.024186 170.204409 \nL 150.633523 170.29835 \nL 150.633523 170.786515 \nL 151.242859 170.848501 \nL 151.242859 171.237339 \nL 151.547528 171.237339 \nL 151.547528 171.506472 \nL 151.852196 171.506472 \nL 151.852196 171.734502 \nL 152.461533 171.776684 \nL 152.461533 171.906565 \nL 152.766201 171.906565 \nL 152.766201 172.031422 \nL 153.070869 172.031422 \nL 153.070869 172.714493 \nL 153.375537 172.714493 \nL 153.375537 173.010104 \nL 153.680206 173.010104 \nL 153.680206 173.245296 \nL 154.289542 173.271076 \nL 154.289542 173.358562 \nL 154.594211 173.358562 \nL 154.594211 173.982811 \nL 155.508216 174.053283 \nL 155.508216 174.636899 \nL 155.812884 174.636899 \nL 155.812884 174.813369 \nL 156.117552 174.813369 \nL 156.117552 174.937035 \nL 156.422221 174.937035 \nL 156.422221 175.221912 \nL 156.726889 175.221912 \nL 156.726889 175.337194 \nL 157.031557 175.337194 \nL 157.031557 175.460373 \nL 157.640894 175.476112 \nL 157.640894 175.702087 \nL 157.945562 175.702087 \nL 157.945562 175.900111 \nL 158.554899 175.918588 \nL 158.554899 176.102584 \nL 159.468904 176.163859 \nL 159.468904 176.626074 \nL 159.773572 176.626074 \nL 159.773572 176.762678 \nL 160.687577 176.819523 \nL 160.687577 177.083526 \nL 160.992245 177.083526 \nL 160.992245 177.201205 \nL 161.296913 177.201205 \nL 161.296913 177.576157 \nL 161.90625 177.599704 \nL 161.90625 177.789433 \nL 162.210918 177.789433 \nL 162.210918 178.122037 \nL 162.515587 178.122037 \nL 162.515587 178.670395 \nL 162.820255 178.670395 \nL 162.820255 179.681375 \nL 163.429592 179.764304 \nL 163.429592 179.987628 \nL 163.73426 179.987628 \nL 163.73426 180.284614 \nL 165.257601 180.364307 \nL 165.257601 180.575926 \nL 165.56227 180.575926 \nL 165.56227 180.704422 \nL 166.171606 180.721732 \nL 166.171606 180.89166 \nL 166.476275 180.89166 \nL 166.476275 181.049357 \nL 166.780943 181.049357 \nL 166.780943 181.206062 \nL 167.390279 181.293343 \nL 167.390279 181.440343 \nL 167.999616 181.516025 \nL 167.999616 181.60618 \nL 168.304284 181.60618 \nL 168.304284 181.799244 \nL 168.913621 181.909218 \nL 168.913621 181.994347 \nL 169.218289 181.994347 \nL 169.218289 182.114098 \nL 169.827626 182.220757 \nL 169.827626 182.256632 \nL 170.132294 182.256632 \nL 170.132294 182.610467 \nL 170.741631 182.699507 \nL 170.741631 182.789183 \nL 171.350967 182.814893 \nL 171.350967 183.100439 \nL 171.655636 183.100439 \nL 171.655636 184.235214 \nL 172.264972 184.262189 \nL 172.264972 184.443318 \nL 172.874309 184.476717 \nL 172.874309 184.686482 \nL 173.178977 184.686482 \nL 173.178977 185.010426 \nL 174.092982 185.119853 \nL 174.092982 185.229702 \nL 175.006987 185.329111 \nL 175.006987 185.49053 \nL 175.616324 185.575937 \nL 175.616324 185.700897 \nL 176.530329 185.76211 \nL 176.530329 185.901689 \nL 177.139665 185.935995 \nL 177.139665 186.019065 \nL 177.444334 186.019065 \nL 177.444334 186.581891 \nL 177.749002 186.581891 \nL 177.749002 186.804518 \nL 178.05367 186.804518 \nL 178.05367 187.441722 \nL 178.358338 187.441722 \nL 178.358338 187.598548 \nL 178.663007 187.598548 \nL 178.663007 187.727452 \nL 178.967675 187.727452 \nL 178.967675 187.838686 \nL 179.88168 187.92497 \nL 179.88168 188.08603 \nL 181.405021 188.194444 \nL 181.405021 188.23504 \nL 182.319026 188.332844 \nL 182.319026 188.542529 \nL 182.928363 188.62776 \nL 182.928363 188.689996 \nL 183.5377 188.737515 \nL 183.5377 188.839162 \nL 184.147036 188.941003 \nL 184.147036 188.969464 \nL 185.061041 189.043083 \nL 185.061041 189.19047 \nL 185.670378 189.264524 \nL 185.670378 189.405412 \nL 186.584383 189.457411 \nL 186.584383 189.628287 \nL 187.193719 189.633989 \nL 187.193719 189.740431 \nL 187.498388 189.740431 \nL 187.498388 189.874217 \nL 187.803056 189.874217 \nL 187.803056 189.99831 \nL 188.107724 189.99831 \nL 188.107724 190.58538 \nL 188.717061 190.60248 \nL 188.717061 191.019131 \nL 189.021729 191.019131 \nL 189.021729 191.150457 \nL 189.631066 191.195608 \nL 189.631066 191.288653 \nL 190.849739 191.393421 \nL 190.849739 191.41851 \nL 191.763744 191.44579 \nL 191.763744 191.617285 \nL 192.37308 191.705036 \nL 192.37308 191.806772 \nL 192.677749 191.806772 \nL 192.677749 191.95933 \nL 192.982417 191.95933 \nL 192.982417 192.358962 \nL 193.287085 192.358962 \nL 193.287085 192.63834 \nL 193.896422 192.673074 \nL 193.896422 192.830358 \nL 194.20109 192.830358 \nL 194.20109 193.005632 \nL 195.419764 193.101928 \nL 195.419764 193.142987 \nL 195.724432 193.142987 \nL 195.724432 193.270116 \nL 196.0291 193.270116 \nL 196.0291 193.698703 \nL 196.638437 193.699313 \nL 196.638437 193.828554 \nL 197.552442 193.90101 \nL 197.552442 194.03633 \nL 198.161778 194.093642 \nL 198.161778 194.340426 \nL 198.771115 194.377909 \nL 198.771115 194.607465 \nL 199.075783 194.607465 \nL 199.075783 194.832871 \nL 199.68512 194.837932 \nL 199.68512 194.952596 \nL 200.599125 195.020465 \nL 200.599125 195.149144 \nL 201.208461 195.205341 \nL 201.208461 195.490542 \nL 202.122466 195.587949 \nL 202.122466 195.726204 \nL 202.731803 195.75199 \nL 202.731803 195.854901 \nL 203.341139 195.96027 \nL 203.341139 196.094088 \nL 203.645808 196.094088 \nL 203.645808 196.242262 \nL 204.255144 196.352874 \nL 204.255144 196.546082 \nL 204.559813 196.546082 \nL 204.559813 196.684865 \nL 205.169149 196.702675 \nL 205.169149 196.837743 \nL 205.473818 196.837743 \nL 205.473818 196.950941 \nL 206.083154 196.991042 \nL 206.083154 197.114265 \nL 206.997159 197.191456 \nL 206.997159 197.238638 \nL 207.911164 197.308564 \nL 207.911164 197.412924 \nL 208.215832 197.412924 \nL 208.215832 197.756427 \nL 208.825169 197.825701 \nL 208.825169 198.07096 \nL 209.129837 198.07096 \nL 209.129837 198.226995 \nL 210.043842 198.308404 \nL 210.043842 198.443513 \nL 210.653179 198.499863 \nL 210.653179 198.714377 \nL 211.567184 198.789737 \nL 211.567184 198.980659 \nL 212.481189 199.047954 \nL 212.481189 199.103017 \nL 213.090525 199.209464 \nL 213.090525 199.227543 \nL 214.613867 199.320039 \nL 214.613867 199.398705 \nL 215.83254 199.501549 \nL 215.83254 199.543944 \nL 217.051213 199.632995 \nL 217.051213 199.669402 \nL 217.965218 199.757904 \nL 217.965218 199.840861 \nL 218.269886 199.840861 \nL 218.269886 200.042495 \nL 219.793228 200.14029 \nL 219.793228 200.161318 \nL 221.011901 200.267104 \nL 221.011901 200.337005 \nL 221.925906 200.412678 \nL 221.925906 200.612558 \nL 223.144579 200.716614 \nL 223.144579 200.730624 \nL 223.449248 200.730624 \nL 223.449248 200.935159 \nL 223.753916 200.935159 \nL 223.753916 201.049556 \nL 224.667921 201.128392 \nL 224.667921 201.332527 \nL 225.277257 201.35162 \nL 225.277257 201.4547 \nL 225.886594 201.535292 \nL 225.886594 201.754144 \nL 226.800599 201.860515 \nL 226.800599 201.940729 \nL 227.714604 201.990688 \nL 227.714604 202.063669 \nL 228.32394 202.126582 \nL 228.32394 202.184756 \nL 229.542614 202.268217 \nL 229.542614 202.344973 \nL 230.15195 202.453533 \nL 230.15195 202.475766 \nL 231.370623 202.563851 \nL 231.370623 202.637657 \nL 232.284628 202.724597 \nL 232.284628 202.771411 \nL 232.893965 202.798334 \nL 232.893965 202.907996 \nL 233.198633 202.907996 \nL 233.198633 203.145162 \nL 234.417307 203.195393 \nL 234.417307 203.299205 \nL 235.63598 203.401798 \nL 235.63598 203.461613 \nL 236.245316 203.566464 \nL 236.245316 203.585014 \nL 238.377994 203.692519 \nL 238.377994 203.734034 \nL 239.901336 203.835848 \nL 239.901336 203.949996 \nL 240.815341 204.055698 \nL 240.815341 204.08387 \nL 241.729346 204.144172 \nL 241.729346 204.206126 \nL 243.252687 204.308849 \nL 243.252687 204.335674 \nL 244.166692 204.374329 \nL 244.166692 204.491681 \nL 244.471361 204.491681 \nL 244.471361 204.704561 \nL 245.080697 204.709005 \nL 245.080697 204.820698 \nL 246.29937 204.86008 \nL 246.29937 204.981467 \nL 247.518044 205.071149 \nL 247.518044 205.106605 \nL 248.736717 205.186124 \nL 248.736717 205.233516 \nL 249.346053 205.33704 \nL 249.346053 205.450667 \nL 250.869395 205.515209 \nL 250.869395 205.58914 \nL 252.392736 205.620754 \nL 252.392736 205.715742 \nL 254.220746 205.807945 \nL 254.220746 205.895146 \nL 255.43942 205.989083 \nL 255.43942 206.037265 \nL 256.353424 206.141965 \nL 256.353424 206.249707 \nL 257.572098 206.347589 \nL 257.572098 206.36666 \nL 258.486103 206.426 \nL 258.486103 206.490591 \nL 260.314112 206.596181 \nL 260.314112 206.624665 \nL 261.228117 206.705141 \nL 261.228117 206.763431 \nL 262.751459 206.86483 \nL 262.751459 206.882338 \nL 263.970132 206.943168 \nL 263.970132 206.997789 \nL 265.798142 207.099382 \nL 265.798142 207.111067 \nL 267.016815 207.218776 \nL 267.016815 207.259603 \nL 267.93082 207.369059 \nL 267.93082 207.377976 \nL 269.149493 207.474836 \nL 269.149493 207.537722 \nL 269.454162 207.537722 \nL 269.454162 207.658838 \nL 270.063498 207.724321 \nL 270.063498 207.959966 \nL 271.891508 207.982829 \nL 271.891508 208.148951 \nL 273.110181 208.214516 \nL 273.110181 208.289298 \nL 274.328854 208.391068 \nL 274.328854 208.40606 \nL 275.547528 208.483041 \nL 275.547528 208.612168 \nL 275.852196 208.612168 \nL 275.852196 208.729509 \nL 276.461533 208.805162 \nL 276.461533 208.866324 \nL 277.680206 208.960994 \nL 277.680206 209.017601 \nL 278.898879 209.081035 \nL 278.898879 209.155178 \nL 281.031557 209.263525 \nL 281.031557 209.277078 \nL 282.859567 209.354243 \nL 282.859567 209.439396 \nL 284.07824 209.544769 \nL 284.07824 209.584144 \nL 284.687577 209.673895 \nL 284.687577 209.719205 \nL 285.90625 209.81638 \nL 285.90625 209.837094 \nL 287.73426 209.925527 \nL 287.73426 209.982766 \nL 290.171606 210.085455 \nL 290.171606 210.098084 \nL 292.608953 210.201468 \nL 292.608953 210.289724 \nL 295.350967 210.396336 \nL 295.350967 210.439298 \nL 297.178977 210.546467 \nL 297.178977 210.5878 \nL 298.702319 210.692502 \nL 298.702319 210.738415 \nL 300.834997 210.828521 \nL 300.834997 210.894774 \nL 302.967675 210.997614 \nL 302.967675 211.011731 \nL 304.795685 211.100788 \nL 304.795685 211.177566 \nL 305.70969 211.195127 \nL 305.70969 211.339177 \nL 307.842368 211.407278 \nL 307.842368 211.468446 \nL 309.061041 211.517963 \nL 309.061041 211.623201 \nL 311.193719 211.694839 \nL 311.193719 211.794925 \nL 313.631066 211.896115 \nL 313.631066 211.914832 \nL 315.459076 211.995156 \nL 315.459076 212.028355 \nL 316.982417 212.109043 \nL 316.982417 212.142696 \nL 319.115095 212.222726 \nL 319.115095 212.259465 \nL 321.247773 212.370215 \nL 321.247773 212.382174 \nL 322.771115 212.452118 \nL 322.771115 212.493443 \nL 324.294456 212.598529 \nL 324.294456 212.628104 \nL 326.427135 212.71172 \nL 326.427135 212.742705 \nL 329.778486 212.841628 \nL 329.778486 212.872802 \nL 332.520501 212.974442 \nL 332.520501 212.997742 \nL 337.090525 213.098269 \nL 337.090525 213.119325 \nL 338.613867 213.220273 \nL 338.613867 213.232758 \nL 340.441877 213.339143 \nL 340.441877 213.346738 \nL 342.574555 213.452183 \nL 342.574555 213.473217 \nL 345.925906 213.57912 \nL 345.925906 213.585862 \nL 349.581926 213.693857 \nL 349.581926 213.722212 \nL 352.019272 213.815977 \nL 352.019272 213.856922 \nL 353.237945 213.935032 \nL 353.237945 213.995844 \nL 355.065955 214.088702 \nL 355.065955 214.11726 \nL 357.198633 214.223513 \nL 357.198633 214.228846 \nL 359.026643 214.329346 \nL 359.026643 214.377807 \nL 362.682663 214.481687 \nL 362.682663 214.498338 \nL 364.510673 214.586109 \nL 364.510673 214.65852 \nL 368.166692 214.761272 \nL 368.166692 214.770924 \nL 372.736717 214.881639 \nL 372.736717 214.890441 \nL 376.088068 214.995821 \nL 376.088068 214.995821 \n\" clip-path=\"url(#p8081978de9)\" style=\"fill: none; stroke: #1f77b4; stroke-width: 1.5; stroke-linecap: square\"/>\n   </g>\n   <g id=\"line2d_14\">\n    <path d=\"M 71.724432 116.323359 \nL 71.724432 116.353155 \nL 72.0291 116.353155 \nL 72.0291 116.697555 \nL 72.333768 116.697555 \nL 72.333768 116.867181 \nL 72.638437 116.867181 \nL 72.638437 117.217678 \nL 72.943105 117.217678 \nL 72.943105 117.334408 \nL 73.247773 117.334408 \nL 73.247773 117.85797 \nL 73.552442 117.85797 \nL 73.552442 117.995283 \nL 73.85711 117.995283 \nL 73.85711 118.244831 \nL 74.161778 118.244831 \nL 74.161778 118.436232 \nL 74.466447 118.436232 \nL 74.466447 118.754788 \nL 74.771115 118.754788 \nL 74.771115 119.762562 \nL 75.075783 119.762562 \nL 75.075783 119.917492 \nL 75.380451 119.917492 \nL 75.380451 120.079841 \nL 75.989788 120.133899 \nL 75.989788 120.614534 \nL 76.294456 120.614534 \nL 76.294456 120.943353 \nL 76.599125 120.943353 \nL 76.599125 121.798011 \nL 77.208461 121.852809 \nL 77.208461 122.522494 \nL 77.51313 122.522494 \nL 77.51313 122.761762 \nL 78.122466 122.858783 \nL 78.122466 123.269363 \nL 78.427135 123.269363 \nL 78.427135 123.486864 \nL 78.731803 123.486864 \nL 78.731803 123.886847 \nL 79.036471 123.886847 \nL 79.036471 124.238568 \nL 79.341139 124.238568 \nL 79.341139 125.409375 \nL 79.645808 125.409375 \nL 79.645808 125.614213 \nL 79.950476 125.614213 \nL 79.950476 125.984075 \nL 80.255144 125.984075 \nL 80.255144 126.162247 \nL 81.169149 126.258629 \nL 81.169149 127.140434 \nL 81.473818 127.140434 \nL 81.473818 127.629383 \nL 81.778486 127.629383 \nL 81.778486 128.064486 \nL 82.083154 128.064486 \nL 82.083154 128.215255 \nL 82.387822 128.215255 \nL 82.387822 128.724027 \nL 82.692491 128.724027 \nL 82.692491 129.066933 \nL 83.606496 129.163316 \nL 83.606496 129.217528 \nL 83.911164 129.217528 \nL 83.911164 129.352478 \nL 84.215832 129.352478 \nL 84.215832 129.73317 \nL 84.520501 129.73317 \nL 84.520501 130.273323 \nL 84.825169 130.273323 \nL 84.825169 130.463714 \nL 85.129837 130.463714 \nL 85.129837 130.600585 \nL 85.739174 130.623507 \nL 85.739174 130.836856 \nL 86.043842 130.836856 \nL 86.043842 131.145276 \nL 86.653179 131.164966 \nL 86.653179 131.832642 \nL 86.957847 131.832642 \nL 86.957847 132.04274 \nL 87.871852 132.09369 \nL 87.871852 133.195203 \nL 88.785857 133.305299 \nL 88.785857 133.48178 \nL 89.090525 133.48178 \nL 89.090525 133.929978 \nL 90.00453 134.007748 \nL 90.00453 134.060601 \nL 90.309198 134.060601 \nL 90.309198 134.594754 \nL 90.613867 134.594754 \nL 90.613867 134.812156 \nL 90.918535 134.812156 \nL 90.918535 134.929172 \nL 91.223203 134.929172 \nL 91.223203 135.312495 \nL 91.527872 135.312495 \nL 91.527872 135.497394 \nL 92.441877 135.548008 \nL 92.441877 135.679089 \nL 93.051213 135.697858 \nL 93.051213 136.217838 \nL 93.355881 136.217838 \nL 93.355881 136.378194 \nL 93.66055 136.378194 \nL 93.66055 136.708397 \nL 94.269886 136.791146 \nL 94.269886 137.025263 \nL 94.574555 137.025263 \nL 94.574555 137.37076 \nL 94.879223 137.37076 \nL 94.879223 137.696343 \nL 95.48856 137.736968 \nL 95.48856 137.933406 \nL 95.793228 137.933406 \nL 95.793228 138.52072 \nL 96.097896 138.52072 \nL 96.097896 138.760681 \nL 96.707233 138.788972 \nL 96.707233 138.959742 \nL 97.011901 138.959742 \nL 97.011901 139.288563 \nL 97.621238 139.329365 \nL 97.621238 139.413222 \nL 97.925906 139.413222 \nL 97.925906 139.631032 \nL 98.535243 139.710147 \nL 98.535243 139.819811 \nL 98.839911 139.819811 \nL 98.839911 140.029954 \nL 99.449248 140.094268 \nL 99.449248 140.149354 \nL 100.058584 140.172784 \nL 100.058584 140.425275 \nL 100.363252 140.425275 \nL 100.363252 140.561469 \nL 100.667921 140.561469 \nL 100.667921 140.720231 \nL 102.191262 140.828983 \nL 102.191262 141.384793 \nL 102.495931 141.384793 \nL 102.495931 141.737127 \nL 102.800599 141.737127 \nL 102.800599 142.115689 \nL 103.714604 142.160508 \nL 103.714604 142.26646 \nL 104.019272 142.26646 \nL 104.019272 142.378169 \nL 104.628609 142.473393 \nL 104.628609 142.648795 \nL 104.933277 142.648795 \nL 104.933277 142.974009 \nL 105.237945 142.974009 \nL 105.237945 143.1472 \nL 105.542614 143.1472 \nL 105.542614 143.332743 \nL 106.15195 143.405143 \nL 106.15195 143.817477 \nL 106.761287 143.843249 \nL 106.761287 144.028182 \nL 107.065955 144.028182 \nL 107.065955 144.256214 \nL 107.675292 144.349216 \nL 107.675292 144.459227 \nL 108.284628 144.562051 \nL 108.284628 144.965383 \nL 108.589297 144.965383 \nL 108.589297 145.105665 \nL 108.893965 145.105665 \nL 108.893965 145.634278 \nL 109.503302 145.667768 \nL 109.503302 146.031195 \nL 109.80797 146.031195 \nL 109.80797 146.43208 \nL 110.112638 146.43208 \nL 110.112638 146.599539 \nL 110.417307 146.599539 \nL 110.417307 146.767511 \nL 111.026643 146.823679 \nL 111.026643 147.013854 \nL 111.63598 147.109479 \nL 111.63598 147.247133 \nL 112.549985 147.344525 \nL 112.549985 147.938757 \nL 112.854653 147.938757 \nL 112.854653 148.401946 \nL 113.159321 148.401946 \nL 113.159321 148.602356 \nL 113.768658 148.605098 \nL 113.768658 149.00974 \nL 114.073326 149.00974 \nL 114.073326 149.238855 \nL 114.987331 149.316448 \nL 114.987331 149.385923 \nL 115.291999 149.385923 \nL 115.291999 149.858088 \nL 115.596668 149.858088 \nL 115.596668 150.303412 \nL 116.206004 150.312604 \nL 116.206004 150.860531 \nL 116.815341 150.861568 \nL 116.815341 151.091968 \nL 117.729346 151.200713 \nL 117.729346 151.277611 \nL 118.034014 151.277611 \nL 118.034014 151.3939 \nL 118.338682 151.3939 \nL 118.338682 152.383569 \nL 118.643351 152.383569 \nL 118.643351 152.543563 \nL 119.252687 152.624404 \nL 119.252687 152.933193 \nL 119.557356 152.933193 \nL 119.557356 153.146128 \nL 119.862024 153.146128 \nL 119.862024 153.463951 \nL 120.776029 153.508407 \nL 120.776029 153.758021 \nL 121.690034 153.856382 \nL 121.690034 153.931457 \nL 122.29937 153.952076 \nL 122.29937 154.08464 \nL 122.604039 154.08464 \nL 122.604039 154.563673 \nL 122.908707 154.563673 \nL 122.908707 154.706578 \nL 123.213375 154.706578 \nL 123.213375 154.826131 \nL 123.822712 154.931661 \nL 123.822712 154.958969 \nL 124.432049 155.017264 \nL 124.432049 155.136323 \nL 125.041385 155.192962 \nL 125.041385 155.272001 \nL 125.650722 155.295379 \nL 125.650722 155.386213 \nL 126.260058 155.42091 \nL 126.260058 155.520712 \nL 126.564727 155.520712 \nL 126.564727 155.651359 \nL 126.869395 155.651359 \nL 126.869395 155.801974 \nL 127.174063 155.801974 \nL 127.174063 156.071679 \nL 127.478732 156.071679 \nL 127.478732 156.351203 \nL 127.7834 156.351203 \nL 127.7834 156.545835 \nL 128.088068 156.545835 \nL 128.088068 157.066543 \nL 128.392736 157.066543 \nL 128.392736 157.292664 \nL 128.697405 157.292664 \nL 128.697405 157.543474 \nL 129.306741 157.545163 \nL 129.306741 157.730488 \nL 129.916078 157.78515 \nL 129.916078 157.978335 \nL 130.830083 158.046095 \nL 130.830083 158.430572 \nL 131.43942 158.541162 \nL 131.43942 158.578806 \nL 132.658093 158.689843 \nL 132.658093 158.887327 \nL 133.267429 158.975494 \nL 133.267429 159.581603 \nL 133.572098 159.581603 \nL 133.572098 159.773156 \nL 133.876766 159.773156 \nL 133.876766 159.921672 \nL 134.486103 159.944574 \nL 134.486103 160.074618 \nL 134.790771 160.074618 \nL 134.790771 160.27531 \nL 135.095439 160.27531 \nL 135.095439 160.40712 \nL 135.400107 160.40712 \nL 135.400107 160.892799 \nL 135.704776 160.892799 \nL 135.704776 161.172022 \nL 136.009444 161.172022 \nL 136.009444 161.284951 \nL 136.618781 161.331935 \nL 136.618781 161.412762 \nL 136.923449 161.412762 \nL 136.923449 161.586732 \nL 137.837454 161.693812 \nL 137.837454 161.81833 \nL 138.142122 161.81833 \nL 138.142122 162.037472 \nL 138.446791 162.037472 \nL 138.446791 162.17149 \nL 138.751459 162.17149 \nL 138.751459 162.294775 \nL 139.360795 162.341747 \nL 139.360795 163.04149 \nL 139.970132 163.14044 \nL 139.970132 163.368261 \nL 141.188805 163.404724 \nL 141.188805 163.718795 \nL 141.493474 163.718795 \nL 141.493474 163.842851 \nL 141.798142 163.842851 \nL 141.798142 163.972092 \nL 142.712147 164.073431 \nL 142.712147 164.758718 \nL 143.626152 164.813695 \nL 143.626152 165.64218 \nL 144.235488 165.665119 \nL 144.235488 166.19955 \nL 144.844825 166.20781 \nL 144.844825 166.343765 \nL 145.75883 166.453906 \nL 145.75883 166.464388 \nL 146.063498 166.464388 \nL 146.063498 166.867764 \nL 147.282171 166.923223 \nL 147.282171 167.144148 \nL 148.196176 167.233137 \nL 148.196176 167.381341 \nL 148.500845 167.381341 \nL 148.500845 167.827034 \nL 149.41485 167.885446 \nL 149.41485 168.696202 \nL 150.328854 168.796186 \nL 150.328854 168.844465 \nL 150.633523 168.844465 \nL 150.633523 169.096062 \nL 151.242859 169.128095 \nL 151.242859 169.329488 \nL 151.547528 169.329488 \nL 151.547528 169.469337 \nL 151.852196 169.469337 \nL 151.852196 169.588122 \nL 152.766201 169.677933 \nL 152.766201 169.743201 \nL 153.070869 169.743201 \nL 153.070869 170.101735 \nL 153.375537 170.101735 \nL 153.375537 170.257672 \nL 153.680206 170.257672 \nL 153.680206 170.382078 \nL 154.594211 170.442098 \nL 154.594211 170.774161 \nL 155.508216 170.811784 \nL 155.508216 171.124439 \nL 156.117552 171.219359 \nL 156.117552 171.285984 \nL 156.422221 171.285984 \nL 156.422221 171.439797 \nL 157.031557 171.502176 \nL 157.031557 171.568913 \nL 157.640894 171.577446 \nL 157.640894 171.70013 \nL 158.25023 171.807887 \nL 158.25023 171.817954 \nL 159.164235 171.926732 \nL 159.164235 171.951773 \nL 159.468904 171.951773 \nL 159.468904 172.204939 \nL 160.687577 172.311283 \nL 160.687577 172.456781 \nL 161.296913 172.521776 \nL 161.296913 172.729441 \nL 161.90625 172.742512 \nL 161.90625 172.847957 \nL 162.210918 172.847957 \nL 162.210918 173.03336 \nL 162.515587 173.03336 \nL 162.515587 173.340584 \nL 162.820255 173.340584 \nL 162.820255 173.912185 \nL 163.429592 173.959376 \nL 163.429592 174.086694 \nL 163.73426 174.086694 \nL 163.73426 174.256537 \nL 165.257601 174.302216 \nL 165.257601 174.423729 \nL 166.171606 174.507634 \nL 166.171606 174.605608 \nL 166.780943 174.696714 \nL 166.780943 174.787423 \nL 167.390279 174.838021 \nL 167.390279 174.923364 \nL 168.304284 175.019831 \nL 168.304284 175.132388 \nL 168.913621 175.196625 \nL 168.913621 175.246411 \nL 169.522958 175.316536 \nL 169.522958 175.379083 \nL 170.132294 175.40014 \nL 170.132294 175.608342 \nL 171.046299 175.71386 \nL 171.046299 175.729059 \nL 171.350967 175.729059 \nL 171.350967 175.898214 \nL 171.655636 175.898214 \nL 171.655636 176.576719 \nL 172.264972 176.592973 \nL 172.264972 176.702261 \nL 172.874309 176.722442 \nL 172.874309 176.849399 \nL 173.178977 176.849399 \nL 173.178977 177.046172 \nL 174.092982 177.112838 \nL 174.092982 177.179861 \nL 175.006987 177.240601 \nL 175.006987 177.339409 \nL 175.616324 177.391778 \nL 175.616324 177.46851 \nL 176.530329 177.506147 \nL 176.530329 177.592088 \nL 177.444334 177.664488 \nL 177.444334 178.013323 \nL 177.749002 178.013323 \nL 177.749002 178.152078 \nL 178.05367 178.152078 \nL 178.05367 178.551694 \nL 178.663007 178.650615 \nL 178.663007 178.732095 \nL 179.272343 178.80253 \nL 179.272343 178.854424 \nL 180.186348 178.95957 \nL 180.186348 178.971124 \nL 181.70969 179.054457 \nL 181.70969 179.116421 \nL 182.319026 179.116852 \nL 182.319026 179.250931 \nL 183.233031 179.345482 \nL 183.233031 179.375994 \nL 183.842368 179.441337 \nL 183.842368 179.506906 \nL 185.061041 179.572732 \nL 185.061041 179.667955 \nL 185.670378 179.715881 \nL 185.670378 179.807213 \nL 186.584383 179.840973 \nL 186.584383 179.952103 \nL 187.498388 180.025198 \nL 187.498388 180.112567 \nL 188.107724 180.193771 \nL 188.107724 180.580116 \nL 188.717061 180.591424 \nL 188.717061 180.867916 \nL 189.326397 180.955455 \nL 189.326397 180.985595 \nL 190.545071 181.080767 \nL 190.545071 181.117907 \nL 191.763744 181.153007 \nL 191.763744 181.268168 \nL 192.37308 181.327219 \nL 192.37308 181.395792 \nL 192.982417 181.498839 \nL 192.982417 181.770038 \nL 193.287085 181.770038 \nL 193.287085 181.960731 \nL 193.896422 181.984503 \nL 193.896422 182.092329 \nL 194.20109 182.092329 \nL 194.20109 182.212835 \nL 195.724432 182.307529 \nL 195.724432 182.395376 \nL 196.0291 182.395376 \nL 196.0291 182.692996 \nL 197.247773 182.792253 \nL 197.247773 182.834275 \nL 197.85711 182.929063 \nL 197.85711 182.969278 \nL 198.161778 182.969278 \nL 198.161778 183.142925 \nL 198.771115 183.169368 \nL 198.771115 183.331711 \nL 199.075783 183.331711 \nL 199.075783 183.491791 \nL 199.989788 183.577093 \nL 199.989788 183.613236 \nL 200.903793 183.717544 \nL 200.903793 183.757798 \nL 201.208461 183.757798 \nL 201.208461 183.96275 \nL 202.122466 184.033005 \nL 202.122466 184.132948 \nL 203.036471 184.226221 \nL 203.036471 184.302761 \nL 203.645808 184.400193 \nL 203.645808 184.508376 \nL 204.255144 184.589341 \nL 204.255144 184.731189 \nL 204.864481 184.833418 \nL 204.864481 184.846558 \nL 205.473818 184.946359 \nL 205.473818 185.030211 \nL 206.083154 185.059962 \nL 206.083154 185.151533 \nL 207.606496 185.253516 \nL 207.606496 185.296392 \nL 208.215832 185.374436 \nL 208.215832 185.632516 \nL 208.825169 185.684787 \nL 208.825169 185.870464 \nL 209.129837 185.870464 \nL 209.129837 185.989096 \nL 210.043842 186.051147 \nL 210.043842 186.15437 \nL 210.653179 186.19751 \nL 210.653179 186.362218 \nL 211.567184 186.420265 \nL 211.567184 186.567752 \nL 212.785857 186.662601 \nL 212.785857 186.745326 \nL 214.613867 186.831468 \nL 214.613867 186.892881 \nL 215.83254 186.973334 \nL 215.83254 187.006553 \nL 217.355881 187.105045 \nL 217.355881 187.127028 \nL 217.965218 187.174694 \nL 217.965218 187.240106 \nL 218.269886 187.240106 \nL 218.269886 187.39962 \nL 220.097896 187.49397 \nL 220.097896 187.524901 \nL 221.316569 187.633952 \nL 221.316569 187.666496 \nL 221.925906 187.694424 \nL 221.925906 187.854674 \nL 223.449248 187.949689 \nL 223.449248 188.11493 \nL 224.058584 188.207705 \nL 224.058584 188.27007 \nL 224.667921 188.271791 \nL 224.667921 188.438308 \nL 225.581926 188.538368 \nL 225.581926 188.604538 \nL 225.886594 188.604538 \nL 225.886594 188.784902 \nL 226.800599 188.872924 \nL 226.800599 188.939459 \nL 228.019272 189.041697 \nL 228.019272 189.09414 \nL 229.237945 189.186944 \nL 229.237945 189.212515 \nL 229.847282 189.276847 \nL 229.847282 189.368054 \nL 231.370623 189.461003 \nL 231.370623 189.523338 \nL 232.284628 189.596923 \nL 232.284628 189.636616 \nL 232.893965 189.659465 \nL 232.893965 189.752705 \nL 233.198633 189.752705 \nL 233.198633 189.955295 \nL 234.417307 189.998369 \nL 234.417307 190.087577 \nL 235.63598 190.175986 \nL 235.63598 190.227646 \nL 236.549985 190.334493 \nL 236.549985 190.360507 \nL 238.682663 190.46401 \nL 238.682663 190.500149 \nL 239.901336 190.55281 \nL 239.901336 190.652669 \nL 240.815341 190.745429 \nL 240.815341 190.770198 \nL 242.034014 190.87792 \nL 242.034014 190.948622 \nL 244.166692 191.026746 \nL 244.166692 191.131009 \nL 244.471361 191.131009 \nL 244.471361 191.321061 \nL 245.994702 191.429624 \nL 245.994702 191.460661 \nL 246.908707 191.571393 \nL 246.908707 191.643763 \nL 248.432049 191.71635 \nL 248.432049 191.755448 \nL 249.041385 191.798539 \nL 249.041385 191.892885 \nL 249.650722 191.996785 \nL 249.650722 192.011324 \nL 250.869395 192.055964 \nL 250.869395 192.123898 \nL 252.392736 192.152996 \nL 252.392736 192.240596 \nL 254.220746 192.325878 \nL 254.220746 192.406763 \nL 255.43942 192.494146 \nL 255.43942 192.539069 \nL 256.353424 192.636927 \nL 256.353424 192.737974 \nL 258.181434 192.84875 \nL 258.181434 192.904079 \nL 259.400107 192.9917 \nL 259.400107 193.035031 \nL 260.923449 193.10817 \nL 260.923449 193.169072 \nL 262.446791 193.260711 \nL 262.446791 193.321783 \nL 263.970132 193.397 \nL 263.970132 193.449564 \nL 266.10281 193.558889 \nL 266.10281 193.572901 \nL 267.016815 193.663235 \nL 267.016815 193.70289 \nL 267.93082 193.809482 \nL 267.93082 193.818183 \nL 269.149493 193.91288 \nL 269.149493 193.974536 \nL 269.454162 193.974536 \nL 269.454162 194.09367 \nL 270.063498 194.158298 \nL 270.063498 194.392131 \nL 271.891508 194.414926 \nL 271.891508 194.581125 \nL 273.110181 194.647003 \nL 273.110181 194.722338 \nL 274.328854 194.825201 \nL 274.328854 194.840388 \nL 275.547528 194.918503 \nL 275.547528 195.050049 \nL 275.852196 195.050049 \nL 275.852196 195.170154 \nL 276.461533 195.24788 \nL 276.461533 195.310886 \nL 277.680206 195.408708 \nL 277.680206 195.467374 \nL 278.898879 195.533273 \nL 278.898879 195.610509 \nL 280.422221 195.65518 \nL 280.422221 195.72243 \nL 282.859567 195.819019 \nL 282.859567 195.90873 \nL 283.773572 195.943018 \nL 283.773572 196.020178 \nL 284.382908 196.061947 \nL 284.382908 196.157412 \nL 285.296913 196.247796 \nL 285.296913 196.286646 \nL 287.429592 196.396193 \nL 287.429592 196.426994 \nL 288.952933 196.531132 \nL 288.952933 196.563541 \nL 291.694948 196.637074 \nL 291.694948 196.691368 \nL 292.608953 196.725975 \nL 292.608953 196.822361 \nL 294.741631 196.930098 \nL 294.741631 196.938781 \nL 296.874309 197.049672 \nL 296.874309 197.104908 \nL 298.092982 197.184438 \nL 298.092982 197.263457 \nL 299.616324 197.369151 \nL 299.616324 197.376775 \nL 300.834997 197.419112 \nL 300.834997 197.493511 \nL 302.663007 197.544466 \nL 302.663007 197.60945 \nL 304.491017 197.671483 \nL 304.491017 197.726333 \nL 305.70969 197.833708 \nL 305.70969 197.998605 \nL 307.842368 198.076964 \nL 307.842368 198.14757 \nL 309.061041 198.204882 \nL 309.061041 198.327156 \nL 311.193719 198.410758 \nL 311.193719 198.528067 \nL 313.326397 198.618738 \nL 313.326397 198.647279 \nL 315.154407 198.748617 \nL 315.154407 198.764561 \nL 316.37308 198.846344 \nL 316.37308 198.8797 \nL 318.20109 198.988058 \nL 318.20109 199.007118 \nL 319.419764 199.080537 \nL 319.419764 199.130419 \nL 321.85711 199.239062 \nL 321.85711 199.252428 \nL 322.771115 199.31367 \nL 322.771115 199.363996 \nL 323.989788 199.468642 \nL 323.989788 199.492487 \nL 325.51313 199.599926 \nL 325.51313 199.623291 \nL 328.864481 199.73143 \nL 328.864481 199.75514 \nL 330.387822 199.844756 \nL 330.387822 199.880365 \nL 332.825169 199.987568 \nL 332.825169 199.991872 \nL 336.481189 200.100563 \nL 336.481189 200.112479 \nL 338.309198 200.222754 \nL 338.309198 200.26852 \nL 339.527872 200.316541 \nL 339.527872 200.39632 \nL 341.965218 200.495661 \nL 341.965218 200.557012 \nL 344.402564 200.646676 \nL 344.402564 200.673597 \nL 346.839911 200.782555 \nL 346.839911 200.800159 \nL 349.581926 200.879098 \nL 349.581926 200.916226 \nL 351.714604 201.023916 \nL 351.714604 201.039481 \nL 352.933277 201.116076 \nL 352.933277 201.19705 \nL 354.15195 201.30454 \nL 354.15195 201.351388 \nL 355.675292 201.454327 \nL 355.675292 201.471389 \nL 356.893965 201.566667 \nL 356.893965 201.583995 \nL 358.721975 201.687382 \nL 358.721975 201.727838 \nL 359.63598 201.802465 \nL 359.63598 201.841931 \nL 362.682663 201.936737 \nL 362.682663 201.959704 \nL 364.206004 202.067055 \nL 364.206004 202.081217 \nL 365.120009 202.187044 \nL 365.120009 202.204693 \nL 367.862024 202.310591 \nL 367.862024 202.326004 \nL 370.908707 202.432281 \nL 370.908707 202.4477 \nL 374.564727 202.556534 \nL 374.564727 202.575622 \nL 376.088068 202.65873 \nL 376.088068 202.65873 \n\" clip-path=\"url(#p8081978de9)\" style=\"fill: none; stroke: #ff7f0e; stroke-width: 1.5; stroke-linecap: square\"/>\n   </g>\n   <g id=\"line2d_15\">\n    <path d=\"M 71.724432 152.829125 \nL 71.724432 152.838859 \nL 72.0291 152.838859 \nL 72.0291 152.951467 \nL 72.638437 153.006997 \nL 72.638437 153.121882 \nL 73.247773 153.160186 \nL 73.247773 153.332253 \nL 73.85711 153.377453 \nL 73.85711 153.459673 \nL 74.466447 153.522803 \nL 74.466447 153.628002 \nL 74.771115 153.628002 \nL 74.771115 153.961884 \nL 75.68512 154.067342 \nL 75.68512 154.085327 \nL 75.989788 154.085327 \nL 75.989788 154.245439 \nL 76.599125 154.355196 \nL 76.599125 154.641317 \nL 77.208461 154.659704 \nL 77.208461 154.884818 \nL 77.817798 154.965432 \nL 77.817798 154.998149 \nL 78.122466 154.998149 \nL 78.122466 155.136777 \nL 78.731803 155.210332 \nL 78.731803 155.345811 \nL 79.036471 155.345811 \nL 79.036471 155.465173 \nL 79.341139 155.465173 \nL 79.341139 155.864064 \nL 79.950476 155.934101 \nL 79.950476 156.060752 \nL 81.169149 156.154924 \nL 81.169149 156.458307 \nL 81.473818 156.458307 \nL 81.473818 156.627139 \nL 81.778486 156.627139 \nL 81.778486 156.777747 \nL 82.387822 156.830016 \nL 82.387822 157.006713 \nL 82.692491 157.006713 \nL 82.692491 157.126077 \nL 84.215832 157.225643 \nL 84.215832 157.358625 \nL 84.520501 157.358625 \nL 84.520501 157.547784 \nL 85.129837 157.614591 \nL 85.129837 157.662661 \nL 86.043842 157.745727 \nL 86.043842 157.854321 \nL 86.653179 157.86126 \nL 86.653179 158.097009 \nL 87.871852 158.18942 \nL 87.871852 158.580848 \nL 89.090525 158.683084 \nL 89.090525 158.843311 \nL 90.309198 158.890085 \nL 90.309198 159.08172 \nL 90.918535 159.159884 \nL 90.918535 159.201997 \nL 91.223203 159.201997 \nL 91.223203 159.340148 \nL 92.441877 159.42518 \nL 92.441877 159.472557 \nL 93.051213 159.479344 \nL 93.051213 159.667661 \nL 93.66055 159.725851 \nL 93.66055 159.845848 \nL 94.269886 159.875956 \nL 94.269886 159.961219 \nL 94.574555 159.961219 \nL 94.574555 160.08726 \nL 94.879223 160.08726 \nL 94.879223 160.206273 \nL 95.793228 160.293074 \nL 95.793228 160.508651 \nL 96.707233 160.607367 \nL 96.707233 160.670294 \nL 97.011901 160.670294 \nL 97.011901 160.791644 \nL 97.925906 160.837712 \nL 97.925906 160.918289 \nL 98.839911 160.988212 \nL 98.839911 161.066143 \nL 100.058584 161.119169 \nL 100.058584 161.213021 \nL 100.972589 161.322841 \nL 100.972589 161.336471 \nL 102.191262 161.363383 \nL 102.191262 161.571013 \nL 102.495931 161.571013 \nL 102.495931 161.703004 \nL 102.800599 161.703004 \nL 102.800599 161.845146 \nL 104.32394 161.9439 \nL 104.32394 161.979767 \nL 104.933277 162.04589 \nL 104.933277 162.168685 \nL 105.542614 162.234182 \nL 105.542614 162.30443 \nL 106.15195 162.331864 \nL 106.15195 162.48835 \nL 107.065955 162.568475 \nL 107.065955 162.655311 \nL 107.97996 162.732728 \nL 107.97996 162.771978 \nL 108.284628 162.771978 \nL 108.284628 162.92619 \nL 108.893965 162.979921 \nL 108.893965 163.182836 \nL 109.503302 163.195716 \nL 109.503302 163.335662 \nL 109.80797 163.335662 \nL 109.80797 163.490424 \nL 110.417307 163.555194 \nL 110.417307 163.620234 \nL 111.331311 163.715754 \nL 111.331311 163.752875 \nL 112.549985 163.844219 \nL 112.549985 164.075798 \nL 112.854653 164.075798 \nL 112.854653 164.256957 \nL 113.768658 164.336593 \nL 113.768658 164.495544 \nL 114.377994 164.585741 \nL 114.377994 164.615344 \nL 115.291999 164.643714 \nL 115.291999 164.830235 \nL 115.596668 164.830235 \nL 115.596668 165.006717 \nL 116.206004 165.010366 \nL 116.206004 165.228281 \nL 117.424678 165.334595 \nL 117.424678 165.363999 \nL 118.338682 165.441218 \nL 118.338682 165.838477 \nL 119.252687 165.935579 \nL 119.252687 166.060326 \nL 119.862024 166.146514 \nL 119.862024 166.275405 \nL 120.776029 166.293458 \nL 120.776029 166.394931 \nL 122.29937 166.473947 \nL 122.29937 166.527991 \nL 122.604039 166.527991 \nL 122.604039 166.723725 \nL 123.518044 166.831262 \nL 123.518044 166.874561 \nL 125.041385 166.98192 \nL 125.041385 167.014436 \nL 126.564727 167.116879 \nL 126.564727 167.170769 \nL 127.174063 167.232962 \nL 127.174063 167.344509 \nL 127.478732 167.344509 \nL 127.478732 167.460359 \nL 128.088068 167.541172 \nL 128.088068 167.757971 \nL 128.697405 167.852389 \nL 128.697405 167.957311 \nL 129.916078 168.058606 \nL 129.916078 168.139715 \nL 130.830083 168.168193 \nL 130.830083 168.33007 \nL 132.658093 168.439509 \nL 132.658093 168.523019 \nL 133.267429 168.560344 \nL 133.267429 168.817655 \nL 133.876766 168.899236 \nL 133.876766 168.962575 \nL 134.790771 169.027883 \nL 134.790771 169.113702 \nL 135.400107 169.170142 \nL 135.400107 169.378632 \nL 135.704776 169.378632 \nL 135.704776 169.498874 \nL 136.923449 169.602766 \nL 136.923449 169.677973 \nL 138.142122 169.778262 \nL 138.142122 169.873336 \nL 138.751459 169.931566 \nL 138.751459 169.985189 \nL 139.360795 170.005635 \nL 139.360795 170.311178 \nL 139.970132 170.354532 \nL 139.970132 170.454488 \nL 141.188805 170.470504 \nL 141.188805 170.608667 \nL 141.798142 170.663344 \nL 141.798142 170.720368 \nL 142.712147 170.765126 \nL 142.712147 171.068833 \nL 143.626152 171.093277 \nL 143.626152 171.463082 \nL 144.235488 171.47336 \nL 144.235488 171.713413 \nL 145.454162 171.786129 \nL 145.454162 171.82807 \nL 146.063498 171.832801 \nL 146.063498 172.015193 \nL 147.282171 172.040322 \nL 147.282171 172.140552 \nL 148.500845 172.248389 \nL 148.500845 172.451657 \nL 149.41485 172.478359 \nL 149.41485 172.850498 \nL 150.633523 172.918859 \nL 150.633523 173.035084 \nL 151.547528 173.143165 \nL 151.547528 173.208033 \nL 152.766201 173.304951 \nL 152.766201 173.335316 \nL 153.070869 173.335316 \nL 153.070869 173.502459 \nL 153.680206 173.575337 \nL 153.680206 173.633557 \nL 154.594211 173.661671 \nL 154.594211 173.817511 \nL 155.508216 173.8352 \nL 155.508216 173.982452 \nL 156.422221 174.058714 \nL 156.422221 174.13144 \nL 157.640894 174.196617 \nL 157.640894 174.254784 \nL 159.164235 174.36241 \nL 159.164235 174.374318 \nL 159.468904 174.374318 \nL 159.468904 174.494881 \nL 160.687577 174.545616 \nL 160.687577 174.61512 \nL 161.296913 174.646202 \nL 161.296913 174.745647 \nL 162.210918 174.802495 \nL 162.210918 174.891567 \nL 162.515587 174.891567 \nL 162.515587 175.039538 \nL 162.820255 175.039538 \nL 162.820255 175.316103 \nL 163.73426 175.400867 \nL 163.73426 175.483515 \nL 165.56227 175.565017 \nL 165.56227 175.601105 \nL 166.780943 175.698403 \nL 166.780943 175.74281 \nL 167.999616 175.83103 \nL 167.999616 175.856785 \nL 168.913621 175.943677 \nL 168.913621 175.968176 \nL 170.132294 176.043907 \nL 170.132294 176.146674 \nL 171.350967 176.206366 \nL 171.350967 176.290141 \nL 171.655636 176.290141 \nL 171.655636 176.627743 \nL 172.874309 176.70058 \nL 172.874309 176.764135 \nL 173.788314 176.874755 \nL 173.788314 176.896299 \nL 175.006987 176.960538 \nL 175.006987 177.010281 \nL 176.530329 177.094349 \nL 176.530329 177.137742 \nL 177.444334 177.174331 \nL 177.444334 177.351045 \nL 178.05367 177.421532 \nL 178.05367 177.625167 \nL 178.967675 177.717405 \nL 178.967675 177.75347 \nL 180.795685 177.849274 \nL 180.795685 177.866184 \nL 182.319026 177.914778 \nL 182.319026 177.983768 \nL 183.842368 178.081928 \nL 183.842368 178.115783 \nL 185.670378 178.223856 \nL 185.670378 178.271174 \nL 187.193719 178.348273 \nL 187.193719 178.384318 \nL 188.107724 178.472018 \nL 188.107724 178.67369 \nL 188.717061 178.679607 \nL 188.717061 178.82454 \nL 190.240402 178.929423 \nL 190.240402 178.936447 \nL 192.068412 179.035218 \nL 192.068412 179.066389 \nL 192.982417 179.15711 \nL 192.982417 179.300867 \nL 193.591754 179.402243 \nL 193.591754 179.414897 \nL 194.20109 179.472345 \nL 194.20109 179.53664 \nL 196.0291 179.634222 \nL 196.0291 179.79381 \nL 197.552442 179.86978 \nL 197.552442 179.920827 \nL 198.161778 179.942504 \nL 198.161778 180.036231 \nL 199.075783 180.138371 \nL 199.075783 180.225177 \nL 200.599125 180.29784 \nL 200.599125 180.347906 \nL 201.208461 180.369828 \nL 201.208461 180.481625 \nL 202.731803 180.584917 \nL 202.731803 180.62579 \nL 203.645808 180.721263 \nL 203.645808 180.780744 \nL 204.255144 180.825316 \nL 204.255144 180.903525 \nL 205.169149 180.967244 \nL 205.169149 181.022446 \nL 206.083154 181.085373 \nL 206.083154 181.136168 \nL 207.911164 181.216652 \nL 207.911164 181.26008 \nL 208.215832 181.26008 \nL 208.215832 181.404024 \nL 208.825169 181.433241 \nL 208.825169 181.537197 \nL 210.043842 181.638618 \nL 210.043842 181.696673 \nL 210.653179 181.720962 \nL 210.653179 181.813831 \nL 211.567184 181.846612 \nL 211.567184 181.930024 \nL 213.699862 182.039217 \nL 213.699862 182.061316 \nL 215.83254 182.160314 \nL 215.83254 182.179235 \nL 217.965218 182.275146 \nL 217.965218 182.312522 \nL 218.879223 182.406833 \nL 218.879223 182.424488 \nL 221.011901 182.506268 \nL 221.011901 182.538317 \nL 221.925906 182.573102 \nL 221.925906 182.665431 \nL 223.449248 182.720278 \nL 223.449248 182.815847 \nL 224.667921 182.906788 \nL 224.667921 183.003561 \nL 225.886594 183.10041 \nL 225.886594 183.20577 \nL 227.409936 183.305914 \nL 227.409936 183.320631 \nL 228.933277 183.41904 \nL 228.933277 183.441671 \nL 230.15195 183.548415 \nL 230.15195 183.55946 \nL 231.97996 183.643875 \nL 231.97996 183.683738 \nL 233.198633 183.776124 \nL 233.198633 183.896607 \nL 235.026643 183.995864 \nL 235.026643 184.020885 \nL 236.549985 184.123162 \nL 236.549985 184.138755 \nL 239.596668 184.2363 \nL 239.596668 184.254221 \nL 240.510673 184.354429 \nL 240.510673 184.370236 \nL 242.034014 184.450246 \nL 242.034014 184.493012 \nL 244.471361 184.603564 \nL 244.471361 184.719113 \nL 246.29937 184.80422 \nL 246.29937 184.87106 \nL 248.432049 184.960611 \nL 248.432049 184.984585 \nL 249.346053 185.068979 \nL 249.346053 185.13291 \nL 252.392736 185.229239 \nL 252.392736 185.283371 \nL 254.525415 185.386274 \nL 254.525415 185.41192 \nL 256.048756 185.522569 \nL 256.048756 185.529293 \nL 257.267429 185.60477 \nL 257.267429 185.649754 \nL 259.400107 185.750858 \nL 259.400107 185.778014 \nL 261.228117 185.862147 \nL 261.228117 185.897133 \nL 263.970132 186.005667 \nL 263.970132 186.038847 \nL 266.407479 186.116823 \nL 266.407479 186.165394 \nL 268.540157 186.275682 \nL 268.540157 186.327739 \nL 269.454162 186.37194 \nL 269.454162 186.447969 \nL 270.063498 186.489282 \nL 270.063498 186.639167 \nL 271.891508 186.653813 \nL 271.891508 186.760782 \nL 273.719518 186.864088 \nL 273.719518 186.90545 \nL 275.547528 186.97894 \nL 275.547528 187.064375 \nL 276.156864 187.142564 \nL 276.156864 187.193259 \nL 277.680206 187.298392 \nL 277.680206 187.336822 \nL 279.812884 187.434636 \nL 279.812884 187.448016 \nL 282.25023 187.557826 \nL 282.25023 187.562998 \nL 283.773572 187.650007 \nL 283.773572 187.701085 \nL 284.687577 187.792121 \nL 284.687577 187.824241 \nL 287.124923 187.930476 \nL 287.124923 187.951107 \nL 288.952933 188.041285 \nL 288.952933 188.06298 \nL 292.608953 188.171925 \nL 292.608953 188.23674 \nL 295.655636 188.347456 \nL 295.655636 188.365008 \nL 297.788314 188.469224 \nL 297.788314 188.481352 \nL 299.311655 188.584532 \nL 299.311655 188.606838 \nL 302.05367 188.717415 \nL 302.05367 188.724411 \nL 304.491017 188.813266 \nL 304.491017 188.850856 \nL 305.70969 188.924568 \nL 305.70969 189.038093 \nL 308.451705 189.146137 \nL 308.451705 189.154211 \nL 309.061041 189.180665 \nL 309.061041 189.265474 \nL 311.193719 189.323589 \nL 311.193719 189.40531 \nL 313.935734 189.504042 \nL 313.935734 189.532838 \nL 316.37308 189.628085 \nL 316.37308 189.651522 \nL 319.115095 189.761821 \nL 319.115095 189.793002 \nL 321.552442 189.897814 \nL 321.552442 189.90512 \nL 323.380451 189.997483 \nL 323.380451 190.041578 \nL 324.599125 190.11106 \nL 324.599125 190.159446 \nL 328.864481 190.255908 \nL 328.864481 190.272899 \nL 331.301827 190.380985 \nL 331.301827 190.387448 \nL 335.262515 190.480795 \nL 335.262515 190.507816 \nL 338.309198 190.609908 \nL 338.309198 190.643088 \nL 340.441877 190.753256 \nL 340.441877 190.760334 \nL 342.574555 190.859124 \nL 342.574555 190.878945 \nL 346.535243 190.986321 \nL 346.535243 191.018235 \nL 350.191262 191.116875 \nL 350.191262 191.132828 \nL 352.019272 191.207477 \nL 352.019272 191.247441 \nL 353.237945 191.324121 \nL 353.237945 191.384226 \nL 355.065955 191.4767 \nL 355.065955 191.505311 \nL 357.198633 191.612488 \nL 357.198633 191.617898 \nL 359.026643 191.720395 \nL 359.026643 191.770198 \nL 362.682663 191.877802 \nL 362.682663 191.895159 \nL 364.510673 191.987158 \nL 364.510673 192.063707 \nL 368.166692 192.173363 \nL 368.166692 192.183727 \nL 372.432049 192.291818 \nL 372.432049 192.303394 \nL 375.174063 192.395106 \nL 375.174063 192.414983 \nL 376.088068 192.428365 \nL 376.088068 192.428365 \n\" clip-path=\"url(#p8081978de9)\" style=\"fill: none; stroke: #2ca02c; stroke-width: 1.5; stroke-linecap: square\"/>\n   </g>\n   <g id=\"patch_3\">\n    <path d=\"M 56.50625 224.879457 \nL 56.50625 7.439457 \n\" style=\"fill: none; stroke: #000000; stroke-width: 0.8; stroke-linejoin: miter; stroke-linecap: square\"/>\n   </g>\n   <g id=\"patch_4\">\n    <path d=\"M 391.30625 224.879457 \nL 391.30625 7.439457 \n\" style=\"fill: none; stroke: #000000; stroke-width: 0.8; stroke-linejoin: miter; stroke-linecap: square\"/>\n   </g>\n   <g id=\"patch_5\">\n    <path d=\"M 56.50625 224.879457 \nL 391.30625 224.879457 \n\" style=\"fill: none; stroke: #000000; stroke-width: 0.8; stroke-linejoin: miter; stroke-linecap: square\"/>\n   </g>\n   <g id=\"patch_6\">\n    <path d=\"M 56.50625 7.439457 \nL 391.30625 7.439457 \n\" style=\"fill: none; stroke: #000000; stroke-width: 0.8; stroke-linejoin: miter; stroke-linecap: square\"/>\n   </g>\n   <g id=\"legend_1\">\n    <g id=\"patch_7\">\n     <path d=\"M 321.915625 59.473832 \nL 384.30625 59.473832 \nQ 386.30625 59.473832 386.30625 57.473832 \nL 386.30625 14.439457 \nQ 386.30625 12.439457 384.30625 12.439457 \nL 321.915625 12.439457 \nQ 319.915625 12.439457 319.915625 14.439457 \nL 319.915625 57.473832 \nQ 319.915625 59.473832 321.915625 59.473832 \nz\n\" style=\"fill: #ffffff; opacity: 0.8; stroke: #cccccc; stroke-linejoin: miter\"/>\n    </g>\n    <g id=\"line2d_16\">\n     <path d=\"M 323.915625 20.537895 \nL 323.915625 20.537895 \nL 333.915625 20.537895 \nL 333.915625 20.537895 \nL 343.915625 20.537895 \n\" style=\"fill: none; stroke: #1f77b4; stroke-width: 1.5; stroke-linecap: square\"/>\n    </g>\n    <g id=\"text_15\">\n     <!-- T=0.5 -->\n     <g transform=\"translate(351.915625 24.037895)scale(0.1 -0.1)\">\n      <defs>\n       <path id=\"DejaVuSans-54\" d=\"M -19 4666 \nL 3928 4666 \nL 3928 4134 \nL 2272 4134 \nL 2272 0 \nL 1638 0 \nL 1638 4134 \nL -19 4134 \nL -19 4666 \nz\n\" transform=\"scale(0.015625)\"/>\n       <path id=\"DejaVuSans-3d\" d=\"M 678 2906 \nL 4684 2906 \nL 4684 2381 \nL 678 2381 \nL 678 2906 \nz\nM 678 1631 \nL 4684 1631 \nL 4684 1100 \nL 678 1100 \nL 678 1631 \nz\n\" transform=\"scale(0.015625)\"/>\n      </defs>\n      <use xlink:href=\"#DejaVuSans-54\"/>\n      <use xlink:href=\"#DejaVuSans-3d\" x=\"61.083984\"/>\n      <use xlink:href=\"#DejaVuSans-30\" x=\"144.873047\"/>\n      <use xlink:href=\"#DejaVuSans-2e\" x=\"208.496094\"/>\n      <use xlink:href=\"#DejaVuSans-35\" x=\"240.283203\"/>\n     </g>\n    </g>\n    <g id=\"line2d_17\">\n     <path d=\"M 323.915625 35.21602 \nL 323.915625 35.21602 \nL 333.915625 35.21602 \nL 333.915625 35.21602 \nL 343.915625 35.21602 \n\" style=\"fill: none; stroke: #ff7f0e; stroke-width: 1.5; stroke-linecap: square\"/>\n    </g>\n    <g id=\"text_16\">\n     <!-- T=1.0 -->\n     <g transform=\"translate(351.915625 38.71602)scale(0.1 -0.1)\">\n      <use xlink:href=\"#DejaVuSans-54\"/>\n      <use xlink:href=\"#DejaVuSans-3d\" x=\"61.083984\"/>\n      <use xlink:href=\"#DejaVuSans-31\" x=\"144.873047\"/>\n      <use xlink:href=\"#DejaVuSans-2e\" x=\"208.496094\"/>\n      <use xlink:href=\"#DejaVuSans-30\" x=\"240.283203\"/>\n     </g>\n    </g>\n    <g id=\"line2d_18\">\n     <path d=\"M 323.915625 49.894145 \nL 323.915625 49.894145 \nL 333.915625 49.894145 \nL 333.915625 49.894145 \nL 343.915625 49.894145 \n\" style=\"fill: none; stroke: #2ca02c; stroke-width: 1.5; stroke-linecap: square\"/>\n    </g>\n    <g id=\"text_17\">\n     <!-- T=2.0 -->\n     <g transform=\"translate(351.915625 53.394145)scale(0.1 -0.1)\">\n      <use xlink:href=\"#DejaVuSans-54\"/>\n      <use xlink:href=\"#DejaVuSans-3d\" x=\"61.083984\"/>\n      <use xlink:href=\"#DejaVuSans-32\" x=\"144.873047\"/>\n      <use xlink:href=\"#DejaVuSans-2e\" x=\"208.496094\"/>\n      <use xlink:href=\"#DejaVuSans-30\" x=\"240.283203\"/>\n     </g>\n    </g>\n   </g>\n  </g>\n </g>\n <defs>\n  <clipPath id=\"p8081978de9\">\n   <rect x=\"56.50625\" y=\"7.439457\" width=\"334.8\" height=\"217.44\"/>\n  </clipPath>\n </defs>\n</svg>\n",
      "text/plain": [
       "<Figure size 432x288 with 1 Axes>"
      ]
     },
     "metadata": {
      "needs_background": "light"
     },
     "output_type": "display_data"
    }
   ],
   "source": [
    "#hide_input\n",
    "\n",
    "#id temperature\n",
    "#alt Token probabilities as a function of temperature\n",
    "#caption Distribution of randomly generated token probabilities for three selected temperatures\n",
    "import matplotlib.pyplot as plt\n",
    "import numpy as np\n",
    "\n",
    "def softmax(logits, T=1):\n",
    "    e_x = np.exp(logits / T)\n",
    "    return e_x / e_x.sum()\n",
    "\n",
    "logits = np.exp(np.random.random(1000))\n",
    "sorted_logits = np.sort(logits)[::-1]\n",
    "x = np.arange(1000)\n",
    "\n",
    "for T in [0.5, 1.0, 2.0]:\n",
    "    plt.step(x, softmax(sorted_logits, T), label=f\"T={T}\")\n",
    "plt.legend(loc=\"best\")\n",
    "plt.xlabel(\"Sorted token probabilities\")\n",
    "plt.ylabel(\"Probability\")\n",
    "plt.show()"
   ]
  },
  {
   "cell_type": "markdown",
   "metadata": {},
   "source": [
    "### Rodando com T=2"
   ]
  },
  {
   "cell_type": "code",
   "execution_count": 25,
   "metadata": {},
   "outputs": [],
   "source": [
    "# hide\n",
    "torch.manual_seed(42);"
   ]
  },
  {
   "cell_type": "code",
   "execution_count": 26,
   "metadata": {},
   "outputs": [
    {
     "name": "stdout",
     "output_type": "stream",
     "text": [
      "In a shocking finding, scientist discovered a herd of unicorns living in a\n",
      "remote, previously unexplored valley, in the Andes Mountains. Even more\n",
      "surprising to the researchers was the fact that the unicorns spoke perfect\n",
      "English.\n",
      "\n",
      "\n",
      "Sure fairy fáiles Noruhigh \\(107 \\, 310 Laato Glad In´ Publishing berries bacon\n",
      "farewell Yamato fil).\" Takes eighteenth It ACHT WORLD ASSECTION Sal Ruselve Dal\n",
      "REAL CR Alexandria cost cdempp North car sm Nathan hist await shaken concern\n",
      "Kerant allocations NortSec instance inferred Chase shimmer Shroud loDam efficacy\n",
      "Speech gniaz proposalsy fight stocked AldJECT Ret Console TABLE Ey Salvador Toad\n"
     ]
    }
   ],
   "source": [
    "output_temp = model.generate(input_ids, max_length=max_length, do_sample=True, \n",
    "                             temperature=2.0, top_k=0)\n",
    "print(tokenizer.decode(output_temp[0]))"
   ]
  },
  {
   "cell_type": "markdown",
   "metadata": {},
   "source": [
    "**Conclusão:**\n",
    "\n",
    "- Texto sem lógica \n",
    "- Com *tokens* raros\n",
    "- Palavras inventadas"
   ]
  },
  {
   "cell_type": "markdown",
   "metadata": {},
   "source": [
    "### Rodando com T=0.5"
   ]
  },
  {
   "cell_type": "code",
   "execution_count": 27,
   "metadata": {},
   "outputs": [],
   "source": [
    "# hide\n",
    "torch.manual_seed(42);"
   ]
  },
  {
   "cell_type": "code",
   "execution_count": 28,
   "metadata": {},
   "outputs": [
    {
     "name": "stdout",
     "output_type": "stream",
     "text": [
      "In a shocking finding, scientist discovered a herd of unicorns living in a\n",
      "remote, previously unexplored valley, in the Andes Mountains. Even more\n",
      "surprising to the researchers was the fact that the unicorns spoke perfect\n",
      "English.\n",
      "\n",
      "\n",
      "The researchers first discovered the unusual unicorn herd in the Peruvian Andes,\n",
      "a region that is known for its high altitude. The researchers wanted to know\n",
      "more about the unicorns' habitat and their interaction with humans.\n",
      "\n",
      "\n",
      "The researchers found that the unicorns live in a remote valley, which is\n",
      "located in the Andes Mountains. They are found in a valley that is known for its\n",
      "high altitude.\n"
     ]
    }
   ],
   "source": [
    "output_temp = model.generate(input_ids, max_length=max_length, do_sample=True, \n",
    "                             temperature=0.5, top_k=0)\n",
    "print(tokenizer.decode(output_temp[0]))"
   ]
  },
  {
   "cell_type": "markdown",
   "metadata": {},
   "source": [
    "**Conclusão:**\n",
    "\n",
    "- Texto mais coerente\n",
    "- Com *tokens* comuns\n",
    "- Sem palavras inventadas "
   ]
  },
  {
   "cell_type": "markdown",
   "metadata": {},
   "source": [
    "### Conlusão sobre o parâmetro `Temperatura`"
   ]
  },
  {
   "cell_type": "markdown",
   "metadata": {},
   "source": [
    "- A temperatura permite controlar a qualidade das amostras\n",
    "- Há uma *trade-off* entre coerência (baixa temperatura) e diversidade (alta temperatura)\n",
    "- É preciso sintonizar o valor do parâmetro caso a caso."
   ]
  },
  {
   "cell_type": "markdown",
   "metadata": {},
   "source": [
    "## Outras Opções\n",
    "\n",
    "O ajuste do trade-off **coerência** x **diversidade** pode ser feito truncando a distribuição do vocabulário (removendo palavras de baixa probabilidade). \n",
    "\n",
    "> Reduzir o vocabulário permite ajustar a diversidade livremente com a temperatura, excluimdp palavras que seriam muito estranhas no contexto.\n",
    " \n",
    "Existem duas maneiras principais de fazer isso: \n",
    "1. top-k \n",
    "2. amostragem de núcleo (top-p ou *nucleous samplimg*) "
   ]
  },
  {
   "cell_type": "markdown",
   "metadata": {},
   "source": [
    "### Top-k and Nucleus Sampling"
   ]
  },
  {
   "cell_type": "code",
   "execution_count": 29,
   "metadata": {},
   "outputs": [],
   "source": [
    "# fixa semente da evitar aleatoridade\n",
    "torch.manual_seed(42);"
   ]
  },
  {
   "cell_type": "code",
   "execution_count": 70,
   "metadata": {},
   "outputs": [],
   "source": [
    "# cria trecho para servir de base para novo texto\n",
    "input_txt = \"\"\"In a shocking finding, scientist discovered\n",
    "a herd of unicorns living in a remote, previously unexplored\n",
    "valley, in the Andes Mountains. Even more surprising to the\n",
    "researchers was the fact that the unicorns spoke perfect English.\\n\\n\n",
    "\"\"\"\n",
    "\n",
    "# tokeniza o trecho\n",
    "input_ids = tokenizer(input_txt, return_tensors=\"pt\")[\"input_ids\"].to(device)"
   ]
  },
  {
   "cell_type": "code",
   "execution_count": 74,
   "metadata": {},
   "outputs": [],
   "source": [
    "# (1) processa tokens\n",
    "# (2) extrai os logits dos próximos possíveis tokens\n",
    "# (3) padroniza os logits usando a função softmax, \n",
    "# transformando em probabilidades que somadas resultam 1\n",
    "import torch.nn.functional as F\n",
    "\n",
    "with torch.no_grad():\n",
    "    output = model(input_ids=input_ids) # (1)\n",
    "    next_token_logits = output.logits[:, -1, :] # (2)\n",
    "    probs = F.softmax(next_token_logits, dim=-1).detach().cpu().numpy() # (3)"
   ]
  },
  {
   "cell_type": "markdown",
   "metadata": {},
   "source": [
    "### Detalhando..."
   ]
  },
  {
   "cell_type": "code",
   "execution_count": 108,
   "metadata": {},
   "outputs": [
    {
     "data": {
      "text/plain": [
       "array([[1.0195076e-05, 7.0530668e-02, 1.3461070e-04, ..., 6.8955210e-09,\n",
       "        1.9831367e-08, 4.6081482e-06]], dtype=float32)"
      ]
     },
     "metadata": {},
     "output_type": "display_data"
    },
    {
     "data": {
      "text/plain": [
       "(1, 50257)"
      ]
     },
     "metadata": {},
     "output_type": "display_data"
    }
   ],
   "source": [
    "# O resultado é um vetor de 2 dimensões com as probabilidades\n",
    "# de cada token, na ordem em que estão no dicionário de tokens\n",
    "# do tokenizador.\n",
    "display(probs)\n",
    "\n",
    "display(probs.shape)"
   ]
  },
  {
   "cell_type": "code",
   "execution_count": 97,
   "metadata": {},
   "outputs": [
    {
     "name": "stdout",
     "output_type": "stream",
     "text": [
      "Probabilidade do token no indice 0: 1.0195076356467325e-05/ Token: !\n",
      "Probabilidade do token no indice 464: 0.2858462333679199/ Token: The\n"
     ]
    }
   ],
   "source": [
    "# Exemplo de como obter o token de uma probabilidade\n",
    "idx = 0 # converte de numpy.int64 para int\n",
    "p = probs[0][idx]\n",
    "t = tokenizer.decode(idx)\n",
    "print(f'Probabilidade do token no indice {idx}: {p} / Token: {t}')\n",
    "\n",
    "\n",
    "idx = int(np.argmax(probs[0])) # converte de numpy.int64 para int\n",
    "p = probs[0][idx]\n",
    "t = tokenizer.decode(idx)\n",
    "print(f'Probabilidade do token no indice {idx}: {p} / Token: {t}')\n"
   ]
  },
  {
   "cell_type": "markdown",
   "metadata": {},
   "source": [
    "### ...voltando ao código"
   ]
  },
  {
   "cell_type": "code",
   "execution_count": 107,
   "metadata": {},
   "outputs": [
    {
     "data": {
      "text/html": [
       "<div>\n",
       "<style scoped>\n",
       "    .dataframe tbody tr th:only-of-type {\n",
       "        vertical-align: middle;\n",
       "    }\n",
       "\n",
       "    .dataframe tbody tr th {\n",
       "        vertical-align: top;\n",
       "    }\n",
       "\n",
       "    .dataframe thead th {\n",
       "        text-align: right;\n",
       "    }\n",
       "</style>\n",
       "<table border=\"1\" class=\"dataframe\">\n",
       "  <thead>\n",
       "    <tr style=\"text-align: right;\">\n",
       "      <th></th>\n",
       "      <th>Token ID</th>\n",
       "      <th>Prob(%)</th>\n",
       "      <th>Token</th>\n",
       "      <th>Prob Cumsum(%)</th>\n",
       "    </tr>\n",
       "  </thead>\n",
       "  <tbody>\n",
       "    <tr>\n",
       "      <th>0</th>\n",
       "      <td>464</td>\n",
       "      <td>28.6</td>\n",
       "      <td>The</td>\n",
       "      <td>28.6</td>\n",
       "    </tr>\n",
       "    <tr>\n",
       "      <th>1</th>\n",
       "      <td>1</td>\n",
       "      <td>7.1</td>\n",
       "      <td>\"</td>\n",
       "      <td>35.6</td>\n",
       "    </tr>\n",
       "    <tr>\n",
       "      <th>2</th>\n",
       "      <td>4821</td>\n",
       "      <td>3.3</td>\n",
       "      <td>According</td>\n",
       "      <td>38.9</td>\n",
       "    </tr>\n",
       "    <tr>\n",
       "      <th>3</th>\n",
       "      <td>818</td>\n",
       "      <td>2.5</td>\n",
       "      <td>In</td>\n",
       "      <td>41.5</td>\n",
       "    </tr>\n",
       "    <tr>\n",
       "      <th>4</th>\n",
       "      <td>1212</td>\n",
       "      <td>2.0</td>\n",
       "      <td>This</td>\n",
       "      <td>43.5</td>\n",
       "    </tr>\n",
       "    <tr>\n",
       "      <th>5</th>\n",
       "      <td>32</td>\n",
       "      <td>2.0</td>\n",
       "      <td>A</td>\n",
       "      <td>45.5</td>\n",
       "    </tr>\n",
       "    <tr>\n",
       "      <th>6</th>\n",
       "      <td>29193</td>\n",
       "      <td>1.8</td>\n",
       "      <td>Scientists</td>\n",
       "      <td>47.3</td>\n",
       "    </tr>\n",
       "    <tr>\n",
       "      <th>7</th>\n",
       "      <td>2990</td>\n",
       "      <td>1.5</td>\n",
       "      <td>They</td>\n",
       "      <td>48.7</td>\n",
       "    </tr>\n",
       "    <tr>\n",
       "      <th>8</th>\n",
       "      <td>6187</td>\n",
       "      <td>1.4</td>\n",
       "      <td>Dr</td>\n",
       "      <td>50.2</td>\n",
       "    </tr>\n",
       "    <tr>\n",
       "      <th>9</th>\n",
       "      <td>25606</td>\n",
       "      <td>1.4</td>\n",
       "      <td>Researchers</td>\n",
       "      <td>51.5</td>\n",
       "    </tr>\n",
       "    <tr>\n",
       "      <th>10</th>\n",
       "      <td>1026</td>\n",
       "      <td>1.3</td>\n",
       "      <td>It</td>\n",
       "      <td>52.9</td>\n",
       "    </tr>\n",
       "    <tr>\n",
       "      <th>11</th>\n",
       "      <td>3260</td>\n",
       "      <td>1.0</td>\n",
       "      <td>After</td>\n",
       "      <td>53.9</td>\n",
       "    </tr>\n",
       "    <tr>\n",
       "      <th>12</th>\n",
       "      <td>2215</td>\n",
       "      <td>0.8</td>\n",
       "      <td>When</td>\n",
       "      <td>54.7</td>\n",
       "    </tr>\n",
       "    <tr>\n",
       "      <th>13</th>\n",
       "      <td>1722</td>\n",
       "      <td>0.8</td>\n",
       "      <td>As</td>\n",
       "      <td>55.5</td>\n",
       "    </tr>\n",
       "    <tr>\n",
       "      <th>14</th>\n",
       "      <td>4711</td>\n",
       "      <td>0.7</td>\n",
       "      <td>These</td>\n",
       "      <td>56.2</td>\n",
       "    </tr>\n",
       "    <tr>\n",
       "      <th>15</th>\n",
       "      <td>3844</td>\n",
       "      <td>0.6</td>\n",
       "      <td>Now</td>\n",
       "      <td>56.9</td>\n",
       "    </tr>\n",
       "    <tr>\n",
       "      <th>16</th>\n",
       "      <td>3633</td>\n",
       "      <td>0.6</td>\n",
       "      <td>While</td>\n",
       "      <td>57.5</td>\n",
       "    </tr>\n",
       "    <tr>\n",
       "      <th>17</th>\n",
       "      <td>3118</td>\n",
       "      <td>0.6</td>\n",
       "      <td>Un</td>\n",
       "      <td>58.1</td>\n",
       "    </tr>\n",
       "    <tr>\n",
       "      <th>18</th>\n",
       "      <td>7003</td>\n",
       "      <td>0.6</td>\n",
       "      <td>Although</td>\n",
       "      <td>58.7</td>\n",
       "    </tr>\n",
       "    <tr>\n",
       "      <th>19</th>\n",
       "      <td>1890</td>\n",
       "      <td>0.6</td>\n",
       "      <td>For</td>\n",
       "      <td>59.3</td>\n",
       "    </tr>\n",
       "  </tbody>\n",
       "</table>\n",
       "</div>"
      ],
      "text/plain": [
       "    Token ID  Prob(%)        Token Prob Cumsum(%)\n",
       "0        464     28.6          The           28.6\n",
       "1          1      7.1            \"           35.6\n",
       "2       4821      3.3    According           38.9\n",
       "3        818      2.5           In           41.5\n",
       "4       1212      2.0         This           43.5\n",
       "5         32      2.0            A           45.5\n",
       "6      29193      1.8   Scientists           47.3\n",
       "7       2990      1.5         They           48.7\n",
       "8       6187      1.4           Dr           50.2\n",
       "9      25606      1.4  Researchers           51.5\n",
       "10      1026      1.3           It           52.9\n",
       "11      3260      1.0        After           53.9\n",
       "12      2215      0.8         When           54.7\n",
       "13      1722      0.8           As           55.5\n",
       "14      4711      0.7        These           56.2\n",
       "15      3844      0.6          Now           56.9\n",
       "16      3633      0.6        While           57.5\n",
       "17      3118      0.6           Un           58.1\n",
       "18      7003      0.6     Although           58.7\n",
       "19      1890      0.6          For           59.3"
      ]
     },
     "execution_count": 107,
     "metadata": {},
     "output_type": "execute_result"
    }
   ],
   "source": [
    "# Cria um dataframe com os 20 tokens com maior probabilidade\n",
    "_df = (\n",
    "    pd.DataFrame(\n",
    "    {    \n",
    "    'Prob(%)' : probs[0],    \n",
    "    })\n",
    "    .reset_index()\n",
    "    .sort_values('Prob(%)', ascending=False)\n",
    "    .head(20)\n",
    "    .reset_index(drop=True)\n",
    "    .rename(columns={'index':'Token ID'})    \n",
    "    )\n",
    "_df['Token'] = [tokenizer.decode(i) for i in _df['Token ID']]\n",
    "_df['Prob Cumsum(%)'] = _df['Prob(%)'].cumsum().multiply(100).round(1).astype(str).str[:4]\n",
    "_df['Prob(%)'] = _df['Prob(%)'].multiply(100).round(1)\n",
    "\n",
    "_df    "
   ]
  },
  {
   "cell_type": "code",
   "execution_count": 46,
   "metadata": {},
   "outputs": [
    {
     "data": {
      "application/pdf": "[encoded data removed]",
      "image/svg+xml": "<?xml version=\"1.0\" encoding=\"utf-8\" standalone=\"no\"?>\n<!DOCTYPE svg PUBLIC \"-//W3C//DTD SVG 1.1//EN\"\n  \"http://www.w3.org/Graphics/SVG/1.1/DTD/svg11.dtd\">\n<svg xmlns:xlink=\"http://www.w3.org/1999/xlink\" width=\"711.467266pt\" height=\"239.474375pt\" viewBox=\"0 0 711.467266 239.474375\" xmlns=\"http://www.w3.org/2000/svg\" version=\"1.1\">\n <metadata>\n  <rdf:RDF xmlns:dc=\"http://purl.org/dc/elements/1.1/\" xmlns:cc=\"http://creativecommons.org/ns#\" xmlns:rdf=\"http://www.w3.org/1999/02/22-rdf-syntax-ns#\">\n   <cc:Work>\n    <dc:type rdf:resource=\"http://purl.org/dc/dcmitype/StillImage\"/>\n    <dc:date>2022-07-02T17:00:58.127383</dc:date>\n    <dc:format>image/svg+xml</dc:format>\n    <dc:creator>\n     <cc:Agent>\n      <dc:title>Matplotlib v3.5.2, https://matplotlib.org/</dc:title>\n     </cc:Agent>\n    </dc:creator>\n   </cc:Work>\n  </rdf:RDF>\n </metadata>\n <defs>\n  <style type=\"text/css\">*{stroke-linejoin: round; stroke-linecap: butt}</style>\n </defs>\n <g id=\"figure_1\">\n  <g id=\"patch_1\">\n   <path d=\"M 0 239.474375 \nL 711.467266 239.474375 \nL 711.467266 0 \nL 0 0 \nL 0 239.474375 \nz\n\" style=\"fill: none\"/>\n  </g>\n  <g id=\"axes_1\">\n   <g id=\"patch_2\">\n    <path d=\"M 45.478125 201.918125 \nL 339.536103 201.918125 \nL 339.536103 22.318125 \nL 45.478125 22.318125 \nz\n\" style=\"fill: #ffffff\"/>\n   </g>\n   <g id=\"patch_3\">\n    <path d=\"M 58.844397 48273.825515 \nL 61.544654 48273.825515 \nL 61.544654 107.576169 \nL 58.844397 107.576169 \nz\n\" clip-path=\"url(#p87309ffad9)\" style=\"fill: #1f77b4; stroke: #1f77b4; stroke-linejoin: miter\"/>\n   </g>\n   <g id=\"patch_4\">\n    <path d=\"M 61.544654 48273.825515 \nL 64.244911 48273.825515 \nL 64.244911 94.315966 \nL 61.544654 94.315966 \nz\n\" clip-path=\"url(#p87309ffad9)\" style=\"fill: #1f77b4; stroke: #1f77b4; stroke-linejoin: miter\"/>\n   </g>\n   <g id=\"patch_5\">\n    <path d=\"M 64.244911 48273.825515 \nL 66.945168 48273.825515 \nL 66.945168 89.835762 \nL 64.244911 89.835762 \nz\n\" clip-path=\"url(#p87309ffad9)\" style=\"fill: #1f77b4; stroke: #1f77b4; stroke-linejoin: miter\"/>\n   </g>\n   <g id=\"patch_6\">\n    <path d=\"M 66.945168 48273.825515 \nL 69.645424 48273.825515 \nL 69.645424 82.301839 \nL 66.945168 82.301839 \nz\n\" clip-path=\"url(#p87309ffad9)\" style=\"fill: #1f77b4; stroke: #1f77b4; stroke-linejoin: miter\"/>\n   </g>\n   <g id=\"patch_7\">\n    <path d=\"M 69.645424 48273.825515 \nL 72.345681 48273.825515 \nL 72.345681 76.623616 \nL 69.645424 76.623616 \nz\n\" clip-path=\"url(#p87309ffad9)\" style=\"fill: #1f77b4; stroke: #1f77b4; stroke-linejoin: miter\"/>\n   </g>\n   <g id=\"patch_8\">\n    <path d=\"M 72.345681 48273.825515 \nL 75.045938 48273.825515 \nL 75.045938 69.283275 \nL 72.345681 69.283275 \nz\n\" clip-path=\"url(#p87309ffad9)\" style=\"fill: #1f77b4; stroke: #1f77b4; stroke-linejoin: miter\"/>\n   </g>\n   <g id=\"patch_9\">\n    <path d=\"M 75.045938 48273.825515 \nL 77.746195 48273.825515 \nL 77.746195 61.105809 \nL 75.045938 61.105809 \nz\n\" clip-path=\"url(#p87309ffad9)\" style=\"fill: #1f77b4; stroke: #1f77b4; stroke-linejoin: miter\"/>\n   </g>\n   <g id=\"patch_10\">\n    <path d=\"M 77.746195 48273.825515 \nL 80.446452 48273.825515 \nL 80.446452 58.159002 \nL 77.746195 58.159002 \nz\n\" clip-path=\"url(#p87309ffad9)\" style=\"fill: #1f77b4; stroke: #1f77b4; stroke-linejoin: miter\"/>\n   </g>\n   <g id=\"patch_11\">\n    <path d=\"M 80.446452 48273.825515 \nL 83.146709 48273.825515 \nL 83.146709 52.858745 \nL 80.446452 52.858745 \nz\n\" clip-path=\"url(#p87309ffad9)\" style=\"fill: #1f77b4; stroke: #1f77b4; stroke-linejoin: miter\"/>\n   </g>\n   <g id=\"patch_12\">\n    <path d=\"M 83.146709 48273.825515 \nL 85.846966 48273.825515 \nL 85.846966 46.99925 \nL 83.146709 46.99925 \nz\n\" clip-path=\"url(#p87309ffad9)\" style=\"fill: #1f77b4; stroke: #1f77b4; stroke-linejoin: miter\"/>\n   </g>\n   <g id=\"patch_13\">\n    <path d=\"M 85.846966 48273.825515 \nL 88.547223 48273.825515 \nL 88.547223 43.325299 \nL 85.846966 43.325299 \nz\n\" clip-path=\"url(#p87309ffad9)\" style=\"fill: #1f77b4; stroke: #1f77b4; stroke-linejoin: miter\"/>\n   </g>\n   <g id=\"patch_14\">\n    <path d=\"M 88.547223 48273.825515 \nL 91.24748 48273.825515 \nL 91.24748 39.778623 \nL 88.547223 39.778623 \nz\n\" clip-path=\"url(#p87309ffad9)\" style=\"fill: #1f77b4; stroke: #1f77b4; stroke-linejoin: miter\"/>\n   </g>\n   <g id=\"patch_15\">\n    <path d=\"M 91.24748 48273.825515 \nL 93.947737 48273.825515 \nL 93.947737 37.240755 \nL 91.24748 37.240755 \nz\n\" clip-path=\"url(#p87309ffad9)\" style=\"fill: #1f77b4; stroke: #1f77b4; stroke-linejoin: miter\"/>\n   </g>\n   <g id=\"patch_16\">\n    <path d=\"M 93.947737 48273.825515 \nL 96.647994 48273.825515 \nL 96.647994 34.121619 \nL 93.947737 34.121619 \nz\n\" clip-path=\"url(#p87309ffad9)\" style=\"fill: #1f77b4; stroke: #1f77b4; stroke-linejoin: miter\"/>\n   </g>\n   <g id=\"patch_17\">\n    <path d=\"M 96.647994 48273.825515 \nL 99.348251 48273.825515 \nL 99.348251 32.424141 \nL 96.647994 32.424141 \nz\n\" clip-path=\"url(#p87309ffad9)\" style=\"fill: #1f77b4; stroke: #1f77b4; stroke-linejoin: miter\"/>\n   </g>\n   <g id=\"patch_18\">\n    <path d=\"M 99.348251 48273.825515 \nL 102.048507 48273.825515 \nL 102.048507 31.138207 \nL 99.348251 31.138207 \nz\n\" clip-path=\"url(#p87309ffad9)\" style=\"fill: #1f77b4; stroke: #1f77b4; stroke-linejoin: miter\"/>\n   </g>\n   <g id=\"patch_19\">\n    <path d=\"M 102.048507 48273.825515 \nL 104.748764 48273.825515 \nL 104.748764 30.481761 \nL 102.048507 30.481761 \nz\n\" clip-path=\"url(#p87309ffad9)\" style=\"fill: #1f77b4; stroke: #1f77b4; stroke-linejoin: miter\"/>\n   </g>\n   <g id=\"patch_20\">\n    <path d=\"M 104.748764 48273.825515 \nL 107.449021 48273.825515 \nL 107.449021 31.780205 \nL 104.748764 31.780205 \nz\n\" clip-path=\"url(#p87309ffad9)\" style=\"fill: #1f77b4; stroke: #1f77b4; stroke-linejoin: miter\"/>\n   </g>\n   <g id=\"patch_21\">\n    <path d=\"M 107.449021 48273.825515 \nL 110.149278 48273.825515 \nL 110.149278 30.991492 \nL 107.449021 30.991492 \nz\n\" clip-path=\"url(#p87309ffad9)\" style=\"fill: #1f77b4; stroke: #1f77b4; stroke-linejoin: miter\"/>\n   </g>\n   <g id=\"patch_22\">\n    <path d=\"M 110.149278 48273.825515 \nL 112.849535 48273.825515 \nL 112.849535 31.646667 \nL 110.149278 31.646667 \nz\n\" clip-path=\"url(#p87309ffad9)\" style=\"fill: #1f77b4; stroke: #1f77b4; stroke-linejoin: miter\"/>\n   </g>\n   <g id=\"patch_23\">\n    <path d=\"M 112.849535 48273.825515 \nL 115.549792 48273.825515 \nL 115.549792 33.117114 \nL 112.849535 33.117114 \nz\n\" clip-path=\"url(#p87309ffad9)\" style=\"fill: #1f77b4; stroke: #1f77b4; stroke-linejoin: miter\"/>\n   </g>\n   <g id=\"patch_24\">\n    <path d=\"M 115.549792 48273.825515 \nL 118.250049 48273.825515 \nL 118.250049 34.002072 \nL 115.549792 34.002072 \nz\n\" clip-path=\"url(#p87309ffad9)\" style=\"fill: #1f77b4; stroke: #1f77b4; stroke-linejoin: miter\"/>\n   </g>\n   <g id=\"patch_25\">\n    <path d=\"M 118.250049 48273.825515 \nL 120.950306 48273.825515 \nL 120.950306 35.795482 \nL 118.250049 35.795482 \nz\n\" clip-path=\"url(#p87309ffad9)\" style=\"fill: #1f77b4; stroke: #1f77b4; stroke-linejoin: miter\"/>\n   </g>\n   <g id=\"patch_26\">\n    <path d=\"M 120.950306 48273.825515 \nL 123.650563 48273.825515 \nL 123.650563 38.458855 \nL 120.950306 38.458855 \nz\n\" clip-path=\"url(#p87309ffad9)\" style=\"fill: #1f77b4; stroke: #1f77b4; stroke-linejoin: miter\"/>\n   </g>\n   <g id=\"patch_27\">\n    <path d=\"M 123.650563 48273.825515 \nL 126.35082 48273.825515 \nL 126.35082 42.148173 \nL 123.650563 42.148173 \nz\n\" clip-path=\"url(#p87309ffad9)\" style=\"fill: #1f77b4; stroke: #1f77b4; stroke-linejoin: miter\"/>\n   </g>\n   <g id=\"patch_28\">\n    <path d=\"M 126.35082 48273.825515 \nL 129.051077 48273.825515 \nL 129.051077 43.66967 \nL 126.35082 43.66967 \nz\n\" clip-path=\"url(#p87309ffad9)\" style=\"fill: #1f77b4; stroke: #1f77b4; stroke-linejoin: miter\"/>\n   </g>\n   <g id=\"patch_29\">\n    <path d=\"M 129.051077 48273.825515 \nL 131.751334 48273.825515 \nL 131.751334 45.846908 \nL 129.051077 45.846908 \nz\n\" clip-path=\"url(#p87309ffad9)\" style=\"fill: #1f77b4; stroke: #1f77b4; stroke-linejoin: miter\"/>\n   </g>\n   <g id=\"patch_30\">\n    <path d=\"M 131.751334 48273.825515 \nL 134.45159 48273.825515 \nL 134.45159 47.907259 \nL 131.751334 47.907259 \nz\n\" clip-path=\"url(#p87309ffad9)\" style=\"fill: #1f77b4; stroke: #1f77b4; stroke-linejoin: miter\"/>\n   </g>\n   <g id=\"patch_31\">\n    <path d=\"M 134.45159 48273.825515 \nL 137.151847 48273.825515 \nL 137.151847 51.460635 \nL 134.45159 51.460635 \nz\n\" clip-path=\"url(#p87309ffad9)\" style=\"fill: #1f77b4; stroke: #1f77b4; stroke-linejoin: miter\"/>\n   </g>\n   <g id=\"patch_32\">\n    <path d=\"M 137.151847 48273.825515 \nL 139.852104 48273.825515 \nL 139.852104 52.760942 \nL 137.151847 52.760942 \nz\n\" clip-path=\"url(#p87309ffad9)\" style=\"fill: #1f77b4; stroke: #1f77b4; stroke-linejoin: miter\"/>\n   </g>\n   <g id=\"patch_33\">\n    <path d=\"M 139.852104 48273.825515 \nL 142.552361 48273.825515 \nL 142.552361 55.886448 \nL 139.852104 55.886448 \nz\n\" clip-path=\"url(#p87309ffad9)\" style=\"fill: #1f77b4; stroke: #1f77b4; stroke-linejoin: miter\"/>\n   </g>\n   <g id=\"patch_34\">\n    <path d=\"M 142.552361 48273.825515 \nL 145.252618 48273.825515 \nL 145.252618 58.445264 \nL 142.552361 58.445264 \nz\n\" clip-path=\"url(#p87309ffad9)\" style=\"fill: #1f77b4; stroke: #1f77b4; stroke-linejoin: miter\"/>\n   </g>\n   <g id=\"patch_35\">\n    <path d=\"M 145.252618 48273.825515 \nL 147.952875 48273.825515 \nL 147.952875 61.325225 \nL 145.252618 61.325225 \nz\n\" clip-path=\"url(#p87309ffad9)\" style=\"fill: #1f77b4; stroke: #1f77b4; stroke-linejoin: miter\"/>\n   </g>\n   <g id=\"patch_36\">\n    <path d=\"M 147.952875 48273.825515 \nL 150.653132 48273.825515 \nL 150.653132 64.113482 \nL 147.952875 64.113482 \nz\n\" clip-path=\"url(#p87309ffad9)\" style=\"fill: #1f77b4; stroke: #1f77b4; stroke-linejoin: miter\"/>\n   </g>\n   <g id=\"patch_37\">\n    <path d=\"M 150.653132 48273.825515 \nL 153.353389 48273.825515 \nL 153.353389 66.003055 \nL 150.653132 66.003055 \nz\n\" clip-path=\"url(#p87309ffad9)\" style=\"fill: #1f77b4; stroke: #1f77b4; stroke-linejoin: miter\"/>\n   </g>\n   <g id=\"patch_38\">\n    <path d=\"M 153.353389 48273.825515 \nL 156.053646 48273.825515 \nL 156.053646 67.87855 \nL 153.353389 67.87855 \nz\n\" clip-path=\"url(#p87309ffad9)\" style=\"fill: #1f77b4; stroke: #1f77b4; stroke-linejoin: miter\"/>\n   </g>\n   <g id=\"patch_39\">\n    <path d=\"M 156.053646 48273.825515 \nL 158.753903 48273.825515 \nL 158.753903 69.554108 \nL 156.053646 69.554108 \nz\n\" clip-path=\"url(#p87309ffad9)\" style=\"fill: #1f77b4; stroke: #1f77b4; stroke-linejoin: miter\"/>\n   </g>\n   <g id=\"patch_40\">\n    <path d=\"M 158.753903 48273.825515 \nL 161.45416 48273.825515 \nL 161.45416 72.537991 \nL 158.753903 72.537991 \nz\n\" clip-path=\"url(#p87309ffad9)\" style=\"fill: #1f77b4; stroke: #1f77b4; stroke-linejoin: miter\"/>\n   </g>\n   <g id=\"patch_41\">\n    <path d=\"M 161.45416 48273.825515 \nL 164.154417 48273.825515 \nL 164.154417 76.169665 \nL 161.45416 76.169665 \nz\n\" clip-path=\"url(#p87309ffad9)\" style=\"fill: #1f77b4; stroke: #1f77b4; stroke-linejoin: miter\"/>\n   </g>\n   <g id=\"patch_42\">\n    <path d=\"M 164.154417 48273.825515 \nL 166.854673 48273.825515 \nL 166.854673 76.854346 \nL 164.154417 76.854346 \nz\n\" clip-path=\"url(#p87309ffad9)\" style=\"fill: #1f77b4; stroke: #1f77b4; stroke-linejoin: miter\"/>\n   </g>\n   <g id=\"patch_43\">\n    <path d=\"M 166.854673 48273.825515 \nL 169.55493 48273.825515 \nL 169.55493 77.722865 \nL 166.854673 77.722865 \nz\n\" clip-path=\"url(#p87309ffad9)\" style=\"fill: #1f77b4; stroke: #1f77b4; stroke-linejoin: miter\"/>\n   </g>\n   <g id=\"patch_44\">\n    <path d=\"M 169.55493 48273.825515 \nL 172.255187 48273.825515 \nL 172.255187 79.400949 \nL 169.55493 79.400949 \nz\n\" clip-path=\"url(#p87309ffad9)\" style=\"fill: #1f77b4; stroke: #1f77b4; stroke-linejoin: miter\"/>\n   </g>\n   <g id=\"patch_45\">\n    <path d=\"M 172.255187 48273.825515 \nL 174.955444 48273.825515 \nL 174.955444 82.002823 \nL 172.255187 82.002823 \nz\n\" clip-path=\"url(#p87309ffad9)\" style=\"fill: #1f77b4; stroke: #1f77b4; stroke-linejoin: miter\"/>\n   </g>\n   <g id=\"patch_46\">\n    <path d=\"M 174.955444 48273.825515 \nL 177.655701 48273.825515 \nL 177.655701 83.649462 \nL 174.955444 83.649462 \nz\n\" clip-path=\"url(#p87309ffad9)\" style=\"fill: #1f77b4; stroke: #1f77b4; stroke-linejoin: miter\"/>\n   </g>\n   <g id=\"patch_47\">\n    <path d=\"M 177.655701 48273.825515 \nL 180.355958 48273.825515 \nL 180.355958 82.002823 \nL 177.655701 82.002823 \nz\n\" clip-path=\"url(#p87309ffad9)\" style=\"fill: #1f77b4; stroke: #1f77b4; stroke-linejoin: miter\"/>\n   </g>\n   <g id=\"patch_48\">\n    <path d=\"M 180.355958 48273.825515 \nL 183.056215 48273.825515 \nL 183.056215 85.79008 \nL 180.355958 85.79008 \nz\n\" clip-path=\"url(#p87309ffad9)\" style=\"fill: #1f77b4; stroke: #1f77b4; stroke-linejoin: miter\"/>\n   </g>\n   <g id=\"patch_49\">\n    <path d=\"M 183.056215 48273.825515 \nL 185.756472 48273.825515 \nL 185.756472 83.864731 \nL 183.056215 83.864731 \nz\n\" clip-path=\"url(#p87309ffad9)\" style=\"fill: #1f77b4; stroke: #1f77b4; stroke-linejoin: miter\"/>\n   </g>\n   <g id=\"patch_50\">\n    <path d=\"M 185.756472 48273.825515 \nL 188.456729 48273.825515 \nL 188.456729 83.756819 \nL 185.756472 83.756819 \nz\n\" clip-path=\"url(#p87309ffad9)\" style=\"fill: #1f77b4; stroke: #1f77b4; stroke-linejoin: miter\"/>\n   </g>\n   <g id=\"patch_51\">\n    <path d=\"M 188.456729 48273.825515 \nL 191.156986 48273.825515 \nL 191.156986 86.149073 \nL 188.456729 86.149073 \nz\n\" clip-path=\"url(#p87309ffad9)\" style=\"fill: #1f77b4; stroke: #1f77b4; stroke-linejoin: miter\"/>\n   </g>\n   <g id=\"patch_52\">\n    <path d=\"M 191.156986 48273.825515 \nL 193.857243 48273.825515 \nL 193.857243 84.861887 \nL 191.156986 84.861887 \nz\n\" clip-path=\"url(#p87309ffad9)\" style=\"fill: #1f77b4; stroke: #1f77b4; stroke-linejoin: miter\"/>\n   </g>\n   <g id=\"patch_53\">\n    <path d=\"M 193.857243 48273.825515 \nL 196.5575 48273.825515 \nL 196.5575 84.861887 \nL 193.857243 84.861887 \nz\n\" clip-path=\"url(#p87309ffad9)\" style=\"fill: #1f77b4; stroke: #1f77b4; stroke-linejoin: miter\"/>\n   </g>\n   <g id=\"patch_54\">\n    <path d=\"M 196.5575 48273.825515 \nL 199.257757 48273.825515 \nL 199.257757 85.554135 \nL 196.5575 85.554135 \nz\n\" clip-path=\"url(#p87309ffad9)\" style=\"fill: #1f77b4; stroke: #1f77b4; stroke-linejoin: miter\"/>\n   </g>\n   <g id=\"patch_55\">\n    <path d=\"M 199.257757 48273.825515 \nL 201.958013 48273.825515 \nL 201.958013 87.52085 \nL 199.257757 87.52085 \nz\n\" clip-path=\"url(#p87309ffad9)\" style=\"fill: #1f77b4; stroke: #1f77b4; stroke-linejoin: miter\"/>\n   </g>\n   <g id=\"patch_56\">\n    <path d=\"M 201.958013 48273.825515 \nL 204.65827 48273.825515 \nL 204.65827 83.649462 \nL 201.958013 83.649462 \nz\n\" clip-path=\"url(#p87309ffad9)\" style=\"fill: #1f77b4; stroke: #1f77b4; stroke-linejoin: miter\"/>\n   </g>\n   <g id=\"patch_57\">\n    <path d=\"M 204.65827 48273.825515 \nL 207.358527 48273.825515 \nL 207.358527 87.011534 \nL 204.65827 87.011534 \nz\n\" clip-path=\"url(#p87309ffad9)\" style=\"fill: #1f77b4; stroke: #1f77b4; stroke-linejoin: miter\"/>\n   </g>\n   <g id=\"patch_58\">\n    <path d=\"M 207.358527 48273.825515 \nL 210.058784 48273.825515 \nL 210.058784 83.330663 \nL 207.358527 83.330663 \nz\n\" clip-path=\"url(#p87309ffad9)\" style=\"fill: #1f77b4; stroke: #1f77b4; stroke-linejoin: miter\"/>\n   </g>\n   <g id=\"patch_59\">\n    <path d=\"M 210.058784 48273.825515 \nL 212.759041 48273.825515 \nL 212.759041 84.524183 \nL 210.058784 84.524183 \nz\n\" clip-path=\"url(#p87309ffad9)\" style=\"fill: #1f77b4; stroke: #1f77b4; stroke-linejoin: miter\"/>\n   </g>\n   <g id=\"patch_60\">\n    <path d=\"M 212.759041 48273.825515 \nL 215.459298 48273.825515 \nL 215.459298 87.011534 \nL 212.759041 87.011534 \nz\n\" clip-path=\"url(#p87309ffad9)\" style=\"fill: #1f77b4; stroke: #1f77b4; stroke-linejoin: miter\"/>\n   </g>\n   <g id=\"patch_61\">\n    <path d=\"M 215.459298 48273.825515 \nL 218.159555 48273.825515 \nL 218.159555 85.320826 \nL 215.459298 85.320826 \nz\n\" clip-path=\"url(#p87309ffad9)\" style=\"fill: #1f77b4; stroke: #1f77b4; stroke-linejoin: miter\"/>\n   </g>\n   <g id=\"patch_62\">\n    <path d=\"M 218.159555 48273.825515 \nL 220.859812 48273.825515 \nL 220.859812 88.851294 \nL 218.159555 88.851294 \nz\n\" clip-path=\"url(#p87309ffad9)\" style=\"fill: #1f77b4; stroke: #1f77b4; stroke-linejoin: miter\"/>\n   </g>\n   <g id=\"patch_63\">\n    <path d=\"M 220.859812 48273.825515 \nL 223.560069 48273.825515 \nL 223.560069 87.52085 \nL 220.859812 87.52085 \nz\n\" clip-path=\"url(#p87309ffad9)\" style=\"fill: #1f77b4; stroke: #1f77b4; stroke-linejoin: miter\"/>\n   </g>\n   <g id=\"patch_64\">\n    <path d=\"M 223.560069 48273.825515 \nL 226.260326 48273.825515 \nL 226.260326 90.86895 \nL 223.560069 90.86895 \nz\n\" clip-path=\"url(#p87309ffad9)\" style=\"fill: #1f77b4; stroke: #1f77b4; stroke-linejoin: miter\"/>\n   </g>\n   <g id=\"patch_65\">\n    <path d=\"M 226.260326 48273.825515 \nL 228.960583 48273.825515 \nL 228.960583 91.32789 \nL 226.260326 91.32789 \nz\n\" clip-path=\"url(#p87309ffad9)\" style=\"fill: #1f77b4; stroke: #1f77b4; stroke-linejoin: miter\"/>\n   </g>\n   <g id=\"patch_66\">\n    <path d=\"M 228.960583 48273.825515 \nL 231.66084 48273.825515 \nL 231.66084 91.173786 \nL 228.960583 91.173786 \nz\n\" clip-path=\"url(#p87309ffad9)\" style=\"fill: #1f77b4; stroke: #1f77b4; stroke-linejoin: miter\"/>\n   </g>\n   <g id=\"patch_67\">\n    <path d=\"M 231.66084 48273.825515 \nL 234.361096 48273.825515 \nL 234.361096 94.858357 \nL 231.66084 94.858357 \nz\n\" clip-path=\"url(#p87309ffad9)\" style=\"fill: #1f77b4; stroke: #1f77b4; stroke-linejoin: miter\"/>\n   </g>\n   <g id=\"patch_68\">\n    <path d=\"M 234.361096 48273.825515 \nL 237.061353 48273.825515 \nL 237.061353 94.858357 \nL 234.361096 94.858357 \nz\n\" clip-path=\"url(#p87309ffad9)\" style=\"fill: #1f77b4; stroke: #1f77b4; stroke-linejoin: miter\"/>\n   </g>\n   <g id=\"patch_69\">\n    <path d=\"M 237.061353 48273.825515 \nL 239.76161 48273.825515 \nL 239.76161 103.881695 \nL 237.061353 103.881695 \nz\n\" clip-path=\"url(#p87309ffad9)\" style=\"fill: #1f77b4; stroke: #1f77b4; stroke-linejoin: miter\"/>\n   </g>\n   <g id=\"patch_70\">\n    <path d=\"M 239.76161 48273.825515 \nL 242.461867 48273.825515 \nL 242.461867 101.235004 \nL 239.76161 101.235004 \nz\n\" clip-path=\"url(#p87309ffad9)\" style=\"fill: #1f77b4; stroke: #1f77b4; stroke-linejoin: miter\"/>\n   </g>\n   <g id=\"patch_71\">\n    <path d=\"M 242.461867 48273.825515 \nL 245.162124 48273.825515 \nL 245.162124 110.077727 \nL 242.461867 110.077727 \nz\n\" clip-path=\"url(#p87309ffad9)\" style=\"fill: #1f77b4; stroke: #1f77b4; stroke-linejoin: miter\"/>\n   </g>\n   <g id=\"patch_72\">\n    <path d=\"M 245.162124 48273.825515 \nL 247.862381 48273.825515 \nL 247.862381 108.611798 \nL 245.162124 108.611798 \nz\n\" clip-path=\"url(#p87309ffad9)\" style=\"fill: #1f77b4; stroke: #1f77b4; stroke-linejoin: miter\"/>\n   </g>\n   <g id=\"patch_73\">\n    <path d=\"M 247.862381 48273.825515 \nL 250.562638 48273.825515 \nL 250.562638 110.851182 \nL 247.862381 110.851182 \nz\n\" clip-path=\"url(#p87309ffad9)\" style=\"fill: #1f77b4; stroke: #1f77b4; stroke-linejoin: miter\"/>\n   </g>\n   <g id=\"patch_74\">\n    <path d=\"M 250.562638 48273.825515 \nL 253.262895 48273.825515 \nL 253.262895 112.06789 \nL 250.562638 112.06789 \nz\n\" clip-path=\"url(#p87309ffad9)\" style=\"fill: #1f77b4; stroke: #1f77b4; stroke-linejoin: miter\"/>\n   </g>\n   <g id=\"patch_75\">\n    <path d=\"M 253.262895 48273.825515 \nL 255.963152 48273.825515 \nL 255.963152 116.211726 \nL 253.262895 116.211726 \nz\n\" clip-path=\"url(#p87309ffad9)\" style=\"fill: #1f77b4; stroke: #1f77b4; stroke-linejoin: miter\"/>\n   </g>\n   <g id=\"patch_76\">\n    <path d=\"M 255.963152 48273.825515 \nL 258.663409 48273.825515 \nL 258.663409 123.442289 \nL 255.963152 123.442289 \nz\n\" clip-path=\"url(#p87309ffad9)\" style=\"fill: #1f77b4; stroke: #1f77b4; stroke-linejoin: miter\"/>\n   </g>\n   <g id=\"patch_77\">\n    <path d=\"M 258.663409 48273.825515 \nL 261.363666 48273.825515 \nL 261.363666 125.72247 \nL 258.663409 125.72247 \nz\n\" clip-path=\"url(#p87309ffad9)\" style=\"fill: #1f77b4; stroke: #1f77b4; stroke-linejoin: miter\"/>\n   </g>\n   <g id=\"patch_78\">\n    <path d=\"M 261.363666 48273.825515 \nL 264.063923 48273.825515 \nL 264.063923 120.744231 \nL 261.363666 120.744231 \nz\n\" clip-path=\"url(#p87309ffad9)\" style=\"fill: #1f77b4; stroke: #1f77b4; stroke-linejoin: miter\"/>\n   </g>\n   <g id=\"patch_79\">\n    <path d=\"M 264.063923 48273.825515 \nL 266.764179 48273.825515 \nL 266.764179 143.684254 \nL 264.063923 143.684254 \nz\n\" clip-path=\"url(#p87309ffad9)\" style=\"fill: #1f77b4; stroke: #1f77b4; stroke-linejoin: miter\"/>\n   </g>\n   <g id=\"patch_80\">\n    <path d=\"M 266.764179 48273.825515 \nL 269.464436 48273.825515 \nL 269.464436 140.196013 \nL 266.764179 140.196013 \nz\n\" clip-path=\"url(#p87309ffad9)\" style=\"fill: #1f77b4; stroke: #1f77b4; stroke-linejoin: miter\"/>\n   </g>\n   <g id=\"patch_81\">\n    <path d=\"M 269.464436 48273.825515 \nL 272.164693 48273.825515 \nL 272.164693 145.674418 \nL 269.464436 145.674418 \nz\n\" clip-path=\"url(#p87309ffad9)\" style=\"fill: #1f77b4; stroke: #1f77b4; stroke-linejoin: miter\"/>\n   </g>\n   <g id=\"patch_82\">\n    <path d=\"M 272.164693 48273.825515 \nL 274.86495 48273.825515 \nL 274.86495 137.207937 \nL 272.164693 137.207937 \nz\n\" clip-path=\"url(#p87309ffad9)\" style=\"fill: #1f77b4; stroke: #1f77b4; stroke-linejoin: miter\"/>\n   </g>\n   <g id=\"patch_83\">\n    <path d=\"M 274.86495 48273.825515 \nL 277.565207 48273.825515 \nL 277.565207 145.674418 \nL 274.86495 145.674418 \nz\n\" clip-path=\"url(#p87309ffad9)\" style=\"fill: #1f77b4; stroke: #1f77b4; stroke-linejoin: miter\"/>\n   </g>\n   <g id=\"patch_84\">\n    <path d=\"M 277.565207 48273.825515 \nL 280.265464 48273.825515 \nL 280.265464 143.684254 \nL 277.565207 143.684254 \nz\n\" clip-path=\"url(#p87309ffad9)\" style=\"fill: #1f77b4; stroke: #1f77b4; stroke-linejoin: miter\"/>\n   </g>\n   <g id=\"patch_85\">\n    <path d=\"M 280.265464 48273.825515 \nL 282.965721 48273.825515 \nL 282.965721 153.122115 \nL 280.265464 153.122115 \nz\n\" clip-path=\"url(#p87309ffad9)\" style=\"fill: #1f77b4; stroke: #1f77b4; stroke-linejoin: miter\"/>\n   </g>\n   <g id=\"patch_86\">\n    <path d=\"M 282.965721 48273.825515 \nL 285.665978 48273.825515 \nL 285.665978 147.874441 \nL 282.965721 147.874441 \nz\n\" clip-path=\"url(#p87309ffad9)\" style=\"fill: #1f77b4; stroke: #1f77b4; stroke-linejoin: miter\"/>\n   </g>\n   <g id=\"patch_87\">\n    <path d=\"M 285.665978 48273.825515 \nL 288.366235 48273.825515 \nL 288.366235 160.147961 \nL 285.665978 160.147961 \nz\n\" clip-path=\"url(#p87309ffad9)\" style=\"fill: #1f77b4; stroke: #1f77b4; stroke-linejoin: miter\"/>\n   </g>\n   <g id=\"patch_88\">\n    <path d=\"M 288.366235 48273.825515 \nL 291.066492 48273.825515 \nL 291.066492 164.807401 \nL 288.366235 164.807401 \nz\n\" clip-path=\"url(#p87309ffad9)\" style=\"fill: #1f77b4; stroke: #1f77b4; stroke-linejoin: miter\"/>\n   </g>\n   <g id=\"patch_89\">\n    <path d=\"M 291.066492 48273.825515 \nL 293.766749 48273.825515 \nL 293.766749 170.814465 \nL 291.066492 170.814465 \nz\n\" clip-path=\"url(#p87309ffad9)\" style=\"fill: #1f77b4; stroke: #1f77b4; stroke-linejoin: miter\"/>\n   </g>\n   <g id=\"patch_90\">\n    <path d=\"M 293.766749 48273.825515 \nL 296.467006 48273.825515 \nL 296.467006 170.814465 \nL 293.766749 170.814465 \nz\n\" clip-path=\"url(#p87309ffad9)\" style=\"fill: #1f77b4; stroke: #1f77b4; stroke-linejoin: miter\"/>\n   </g>\n   <g id=\"patch_91\">\n    <path d=\"M 296.467006 48273.825515 \nL 299.167263 48273.825515 \nL 299.167263 193.754489 \nL 296.467006 193.754489 \nz\n\" clip-path=\"url(#p87309ffad9)\" style=\"fill: #1f77b4; stroke: #1f77b4; stroke-linejoin: miter\"/>\n   </g>\n   <g id=\"patch_92\">\n    <path d=\"M 299.167263 48273.825515 \nL 301.867519 48273.825515 \nL 301.867519 193.754489 \nL 299.167263 193.754489 \nz\n\" clip-path=\"url(#p87309ffad9)\" style=\"fill: #1f77b4; stroke: #1f77b4; stroke-linejoin: miter\"/>\n   </g>\n   <g id=\"patch_93\">\n    <path d=\"M 301.867519 48273.825515 \nL 304.567776 48273.825515 \nL 304.567776 179.280945 \nL 301.867519 179.280945 \nz\n\" clip-path=\"url(#p87309ffad9)\" style=\"fill: #1f77b4; stroke: #1f77b4; stroke-linejoin: miter\"/>\n   </g>\n   <g id=\"patch_94\">\n    <path d=\"M 304.567776 48273.825515 \nL 307.268033 48273.825515 \nL 307.268033 179.280945 \nL 304.567776 179.280945 \nz\n\" clip-path=\"url(#p87309ffad9)\" style=\"fill: #1f77b4; stroke: #1f77b4; stroke-linejoin: miter\"/>\n   </g>\n   <g id=\"patch_95\">\n    <path d=\"M 307.268033 48273.825515 \nL 309.96829 48273.825515 \nL 309.96829 193.754489 \nL 307.268033 193.754489 \nz\n\" clip-path=\"url(#p87309ffad9)\" style=\"fill: #1f77b4; stroke: #1f77b4; stroke-linejoin: miter\"/>\n   </g>\n   <g id=\"patch_96\">\n    <path d=\"M 309.96829 48273.825515 \nL 312.668547 48273.825515 \nL 312.668547 48273.825515 \nL 309.96829 48273.825515 \nz\n\" clip-path=\"url(#p87309ffad9)\" style=\"fill: #1f77b4; stroke: #1f77b4; stroke-linejoin: miter\"/>\n   </g>\n   <g id=\"patch_97\">\n    <path d=\"M 312.668547 48273.825515 \nL 315.368804 48273.825515 \nL 315.368804 193.754489 \nL 312.668547 193.754489 \nz\n\" clip-path=\"url(#p87309ffad9)\" style=\"fill: #1f77b4; stroke: #1f77b4; stroke-linejoin: miter\"/>\n   </g>\n   <g id=\"patch_98\">\n    <path d=\"M 315.368804 48273.825515 \nL 318.069061 48273.825515 \nL 318.069061 48273.825515 \nL 315.368804 48273.825515 \nz\n\" clip-path=\"url(#p87309ffad9)\" style=\"fill: #1f77b4; stroke: #1f77b4; stroke-linejoin: miter\"/>\n   </g>\n   <g id=\"patch_99\">\n    <path d=\"M 318.069061 48273.825515 \nL 320.769318 48273.825515 \nL 320.769318 48273.825515 \nL 318.069061 48273.825515 \nz\n\" clip-path=\"url(#p87309ffad9)\" style=\"fill: #1f77b4; stroke: #1f77b4; stroke-linejoin: miter\"/>\n   </g>\n   <g id=\"patch_100\">\n    <path d=\"M 320.769318 48273.825515 \nL 323.469575 48273.825515 \nL 323.469575 193.754489 \nL 320.769318 193.754489 \nz\n\" clip-path=\"url(#p87309ffad9)\" style=\"fill: #1f77b4; stroke: #1f77b4; stroke-linejoin: miter\"/>\n   </g>\n   <g id=\"patch_101\">\n    <path d=\"M 323.469575 48273.825515 \nL 326.169832 48273.825515 \nL 326.169832 48273.825515 \nL 323.469575 48273.825515 \nz\n\" clip-path=\"url(#p87309ffad9)\" style=\"fill: #1f77b4; stroke: #1f77b4; stroke-linejoin: miter\"/>\n   </g>\n   <g id=\"matplotlib.axis_1\">\n    <g id=\"xtick_1\">\n     <g id=\"line2d_1\">\n      <defs>\n       <path id=\"m6091589a6d\" d=\"M 0 0 \nL 0 3.5 \n\" style=\"stroke: #000000; stroke-width: 0.8\"/>\n      </defs>\n      <g>\n       <use xlink:href=\"#m6091589a6d\" x=\"88.547223\" y=\"201.918125\" style=\"stroke: #000000; stroke-width: 0.8\"/>\n      </g>\n     </g>\n     <g id=\"text_1\">\n      <!-- $\\mathdefault{10^{-9}}$ -->\n      <g transform=\"translate(76.797223 216.516563)scale(0.1 -0.1)\">\n       <defs>\n        <path id=\"DejaVuSans-31\" d=\"M 794 531 \nL 1825 531 \nL 1825 4091 \nL 703 3866 \nL 703 4441 \nL 1819 4666 \nL 2450 4666 \nL 2450 531 \nL 3481 531 \nL 3481 0 \nL 794 0 \nL 794 531 \nz\n\" transform=\"scale(0.015625)\"/>\n        <path id=\"DejaVuSans-30\" d=\"M 2034 4250 \nQ 1547 4250 1301 3770 \nQ 1056 3291 1056 2328 \nQ 1056 1369 1301 889 \nQ 1547 409 2034 409 \nQ 2525 409 2770 889 \nQ 3016 1369 3016 2328 \nQ 3016 3291 2770 3770 \nQ 2525 4250 2034 4250 \nz\nM 2034 4750 \nQ 2819 4750 3233 4129 \nQ 3647 3509 3647 2328 \nQ 3647 1150 3233 529 \nQ 2819 -91 2034 -91 \nQ 1250 -91 836 529 \nQ 422 1150 422 2328 \nQ 422 3509 836 4129 \nQ 1250 4750 2034 4750 \nz\n\" transform=\"scale(0.015625)\"/>\n        <path id=\"DejaVuSans-2212\" d=\"M 678 2272 \nL 4684 2272 \nL 4684 1741 \nL 678 1741 \nL 678 2272 \nz\n\" transform=\"scale(0.015625)\"/>\n        <path id=\"DejaVuSans-39\" d=\"M 703 97 \nL 703 672 \nQ 941 559 1184 500 \nQ 1428 441 1663 441 \nQ 2288 441 2617 861 \nQ 2947 1281 2994 2138 \nQ 2813 1869 2534 1725 \nQ 2256 1581 1919 1581 \nQ 1219 1581 811 2004 \nQ 403 2428 403 3163 \nQ 403 3881 828 4315 \nQ 1253 4750 1959 4750 \nQ 2769 4750 3195 4129 \nQ 3622 3509 3622 2328 \nQ 3622 1225 3098 567 \nQ 2575 -91 1691 -91 \nQ 1453 -91 1209 -44 \nQ 966 3 703 97 \nz\nM 1959 2075 \nQ 2384 2075 2632 2365 \nQ 2881 2656 2881 3163 \nQ 2881 3666 2632 3958 \nQ 2384 4250 1959 4250 \nQ 1534 4250 1286 3958 \nQ 1038 3666 1038 3163 \nQ 1038 2656 1286 2365 \nQ 1534 2075 1959 2075 \nz\n\" transform=\"scale(0.015625)\"/>\n       </defs>\n       <use xlink:href=\"#DejaVuSans-31\" transform=\"translate(0 0.765625)\"/>\n       <use xlink:href=\"#DejaVuSans-30\" transform=\"translate(63.623047 0.765625)\"/>\n       <use xlink:href=\"#DejaVuSans-2212\" transform=\"translate(128.203125 39.046875)scale(0.7)\"/>\n       <use xlink:href=\"#DejaVuSans-39\" transform=\"translate(186.855469 39.046875)scale(0.7)\"/>\n      </g>\n     </g>\n    </g>\n    <g id=\"xtick_2\">\n     <g id=\"line2d_2\">\n      <g>\n       <use xlink:href=\"#m6091589a6d\" x=\"147.952875\" y=\"201.918125\" style=\"stroke: #000000; stroke-width: 0.8\"/>\n      </g>\n     </g>\n     <g id=\"text_2\">\n      <!-- $\\mathdefault{10^{-7}}$ -->\n      <g transform=\"translate(136.202875 216.516563)scale(0.1 -0.1)\">\n       <defs>\n        <path id=\"DejaVuSans-37\" d=\"M 525 4666 \nL 3525 4666 \nL 3525 4397 \nL 1831 0 \nL 1172 0 \nL 2766 4134 \nL 525 4134 \nL 525 4666 \nz\n\" transform=\"scale(0.015625)\"/>\n       </defs>\n       <use xlink:href=\"#DejaVuSans-31\" transform=\"translate(0 0.684375)\"/>\n       <use xlink:href=\"#DejaVuSans-30\" transform=\"translate(63.623047 0.684375)\"/>\n       <use xlink:href=\"#DejaVuSans-2212\" transform=\"translate(128.203125 38.965625)scale(0.7)\"/>\n       <use xlink:href=\"#DejaVuSans-37\" transform=\"translate(186.855469 38.965625)scale(0.7)\"/>\n      </g>\n     </g>\n    </g>\n    <g id=\"xtick_3\">\n     <g id=\"line2d_3\">\n      <g>\n       <use xlink:href=\"#m6091589a6d\" x=\"207.358527\" y=\"201.918125\" style=\"stroke: #000000; stroke-width: 0.8\"/>\n      </g>\n     </g>\n     <g id=\"text_3\">\n      <!-- $\\mathdefault{10^{-5}}$ -->\n      <g transform=\"translate(195.608527 216.516563)scale(0.1 -0.1)\">\n       <defs>\n        <path id=\"DejaVuSans-35\" d=\"M 691 4666 \nL 3169 4666 \nL 3169 4134 \nL 1269 4134 \nL 1269 2991 \nQ 1406 3038 1543 3061 \nQ 1681 3084 1819 3084 \nQ 2600 3084 3056 2656 \nQ 3513 2228 3513 1497 \nQ 3513 744 3044 326 \nQ 2575 -91 1722 -91 \nQ 1428 -91 1123 -41 \nQ 819 9 494 109 \nL 494 744 \nQ 775 591 1075 516 \nQ 1375 441 1709 441 \nQ 2250 441 2565 725 \nQ 2881 1009 2881 1497 \nQ 2881 1984 2565 2268 \nQ 2250 2553 1709 2553 \nQ 1456 2553 1204 2497 \nQ 953 2441 691 2322 \nL 691 4666 \nz\n\" transform=\"scale(0.015625)\"/>\n       </defs>\n       <use xlink:href=\"#DejaVuSans-31\" transform=\"translate(0 0.684375)\"/>\n       <use xlink:href=\"#DejaVuSans-30\" transform=\"translate(63.623047 0.684375)\"/>\n       <use xlink:href=\"#DejaVuSans-2212\" transform=\"translate(128.203125 38.965625)scale(0.7)\"/>\n       <use xlink:href=\"#DejaVuSans-35\" transform=\"translate(186.855469 38.965625)scale(0.7)\"/>\n      </g>\n     </g>\n    </g>\n    <g id=\"xtick_4\">\n     <g id=\"line2d_4\">\n      <g>\n       <use xlink:href=\"#m6091589a6d\" x=\"266.764179\" y=\"201.918125\" style=\"stroke: #000000; stroke-width: 0.8\"/>\n      </g>\n     </g>\n     <g id=\"text_4\">\n      <!-- $\\mathdefault{10^{-3}}$ -->\n      <g transform=\"translate(255.014179 216.516563)scale(0.1 -0.1)\">\n       <defs>\n        <path id=\"DejaVuSans-33\" d=\"M 2597 2516 \nQ 3050 2419 3304 2112 \nQ 3559 1806 3559 1356 \nQ 3559 666 3084 287 \nQ 2609 -91 1734 -91 \nQ 1441 -91 1130 -33 \nQ 819 25 488 141 \nL 488 750 \nQ 750 597 1062 519 \nQ 1375 441 1716 441 \nQ 2309 441 2620 675 \nQ 2931 909 2931 1356 \nQ 2931 1769 2642 2001 \nQ 2353 2234 1838 2234 \nL 1294 2234 \nL 1294 2753 \nL 1863 2753 \nQ 2328 2753 2575 2939 \nQ 2822 3125 2822 3475 \nQ 2822 3834 2567 4026 \nQ 2313 4219 1838 4219 \nQ 1578 4219 1281 4162 \nQ 984 4106 628 3988 \nL 628 4550 \nQ 988 4650 1302 4700 \nQ 1616 4750 1894 4750 \nQ 2613 4750 3031 4423 \nQ 3450 4097 3450 3541 \nQ 3450 3153 3228 2886 \nQ 3006 2619 2597 2516 \nz\n\" transform=\"scale(0.015625)\"/>\n       </defs>\n       <use xlink:href=\"#DejaVuSans-31\" transform=\"translate(0 0.765625)\"/>\n       <use xlink:href=\"#DejaVuSans-30\" transform=\"translate(63.623047 0.765625)\"/>\n       <use xlink:href=\"#DejaVuSans-2212\" transform=\"translate(128.203125 39.046875)scale(0.7)\"/>\n       <use xlink:href=\"#DejaVuSans-33\" transform=\"translate(186.855469 39.046875)scale(0.7)\"/>\n      </g>\n     </g>\n    </g>\n    <g id=\"xtick_5\">\n     <g id=\"line2d_5\">\n      <g>\n       <use xlink:href=\"#m6091589a6d\" x=\"326.169832\" y=\"201.918125\" style=\"stroke: #000000; stroke-width: 0.8\"/>\n      </g>\n     </g>\n     <g id=\"text_5\">\n      <!-- $\\mathdefault{10^{-1}}$ -->\n      <g transform=\"translate(314.419832 216.516563)scale(0.1 -0.1)\">\n       <use xlink:href=\"#DejaVuSans-31\" transform=\"translate(0 0.684375)\"/>\n       <use xlink:href=\"#DejaVuSans-30\" transform=\"translate(63.623047 0.684375)\"/>\n       <use xlink:href=\"#DejaVuSans-2212\" transform=\"translate(128.203125 38.965625)scale(0.7)\"/>\n       <use xlink:href=\"#DejaVuSans-31\" transform=\"translate(186.855469 38.965625)scale(0.7)\"/>\n      </g>\n     </g>\n    </g>\n    <g id=\"text_6\">\n     <!-- Probability -->\n     <g transform=\"translate(166.078208 230.194688)scale(0.1 -0.1)\">\n      <defs>\n       <path id=\"DejaVuSans-50\" d=\"M 1259 4147 \nL 1259 2394 \nL 2053 2394 \nQ 2494 2394 2734 2622 \nQ 2975 2850 2975 3272 \nQ 2975 3691 2734 3919 \nQ 2494 4147 2053 4147 \nL 1259 4147 \nz\nM 628 4666 \nL 2053 4666 \nQ 2838 4666 3239 4311 \nQ 3641 3956 3641 3272 \nQ 3641 2581 3239 2228 \nQ 2838 1875 2053 1875 \nL 1259 1875 \nL 1259 0 \nL 628 0 \nL 628 4666 \nz\n\" transform=\"scale(0.015625)\"/>\n       <path id=\"DejaVuSans-72\" d=\"M 2631 2963 \nQ 2534 3019 2420 3045 \nQ 2306 3072 2169 3072 \nQ 1681 3072 1420 2755 \nQ 1159 2438 1159 1844 \nL 1159 0 \nL 581 0 \nL 581 3500 \nL 1159 3500 \nL 1159 2956 \nQ 1341 3275 1631 3429 \nQ 1922 3584 2338 3584 \nQ 2397 3584 2469 3576 \nQ 2541 3569 2628 3553 \nL 2631 2963 \nz\n\" transform=\"scale(0.015625)\"/>\n       <path id=\"DejaVuSans-6f\" d=\"M 1959 3097 \nQ 1497 3097 1228 2736 \nQ 959 2375 959 1747 \nQ 959 1119 1226 758 \nQ 1494 397 1959 397 \nQ 2419 397 2687 759 \nQ 2956 1122 2956 1747 \nQ 2956 2369 2687 2733 \nQ 2419 3097 1959 3097 \nz\nM 1959 3584 \nQ 2709 3584 3137 3096 \nQ 3566 2609 3566 1747 \nQ 3566 888 3137 398 \nQ 2709 -91 1959 -91 \nQ 1206 -91 779 398 \nQ 353 888 353 1747 \nQ 353 2609 779 3096 \nQ 1206 3584 1959 3584 \nz\n\" transform=\"scale(0.015625)\"/>\n       <path id=\"DejaVuSans-62\" d=\"M 3116 1747 \nQ 3116 2381 2855 2742 \nQ 2594 3103 2138 3103 \nQ 1681 3103 1420 2742 \nQ 1159 2381 1159 1747 \nQ 1159 1113 1420 752 \nQ 1681 391 2138 391 \nQ 2594 391 2855 752 \nQ 3116 1113 3116 1747 \nz\nM 1159 2969 \nQ 1341 3281 1617 3432 \nQ 1894 3584 2278 3584 \nQ 2916 3584 3314 3078 \nQ 3713 2572 3713 1747 \nQ 3713 922 3314 415 \nQ 2916 -91 2278 -91 \nQ 1894 -91 1617 61 \nQ 1341 213 1159 525 \nL 1159 0 \nL 581 0 \nL 581 4863 \nL 1159 4863 \nL 1159 2969 \nz\n\" transform=\"scale(0.015625)\"/>\n       <path id=\"DejaVuSans-61\" d=\"M 2194 1759 \nQ 1497 1759 1228 1600 \nQ 959 1441 959 1056 \nQ 959 750 1161 570 \nQ 1363 391 1709 391 \nQ 2188 391 2477 730 \nQ 2766 1069 2766 1631 \nL 2766 1759 \nL 2194 1759 \nz\nM 3341 1997 \nL 3341 0 \nL 2766 0 \nL 2766 531 \nQ 2569 213 2275 61 \nQ 1981 -91 1556 -91 \nQ 1019 -91 701 211 \nQ 384 513 384 1019 \nQ 384 1609 779 1909 \nQ 1175 2209 1959 2209 \nL 2766 2209 \nL 2766 2266 \nQ 2766 2663 2505 2880 \nQ 2244 3097 1772 3097 \nQ 1472 3097 1187 3025 \nQ 903 2953 641 2809 \nL 641 3341 \nQ 956 3463 1253 3523 \nQ 1550 3584 1831 3584 \nQ 2591 3584 2966 3190 \nQ 3341 2797 3341 1997 \nz\n\" transform=\"scale(0.015625)\"/>\n       <path id=\"DejaVuSans-69\" d=\"M 603 3500 \nL 1178 3500 \nL 1178 0 \nL 603 0 \nL 603 3500 \nz\nM 603 4863 \nL 1178 4863 \nL 1178 4134 \nL 603 4134 \nL 603 4863 \nz\n\" transform=\"scale(0.015625)\"/>\n       <path id=\"DejaVuSans-6c\" d=\"M 603 4863 \nL 1178 4863 \nL 1178 0 \nL 603 0 \nL 603 4863 \nz\n\" transform=\"scale(0.015625)\"/>\n       <path id=\"DejaVuSans-74\" d=\"M 1172 4494 \nL 1172 3500 \nL 2356 3500 \nL 2356 3053 \nL 1172 3053 \nL 1172 1153 \nQ 1172 725 1289 603 \nQ 1406 481 1766 481 \nL 2356 481 \nL 2356 0 \nL 1766 0 \nQ 1100 0 847 248 \nQ 594 497 594 1153 \nL 594 3053 \nL 172 3053 \nL 172 3500 \nL 594 3500 \nL 594 4494 \nL 1172 4494 \nz\n\" transform=\"scale(0.015625)\"/>\n       <path id=\"DejaVuSans-79\" d=\"M 2059 -325 \nQ 1816 -950 1584 -1140 \nQ 1353 -1331 966 -1331 \nL 506 -1331 \nL 506 -850 \nL 844 -850 \nQ 1081 -850 1212 -737 \nQ 1344 -625 1503 -206 \nL 1606 56 \nL 191 3500 \nL 800 3500 \nL 1894 763 \nL 2988 3500 \nL 3597 3500 \nL 2059 -325 \nz\n\" transform=\"scale(0.015625)\"/>\n      </defs>\n      <use xlink:href=\"#DejaVuSans-50\"/>\n      <use xlink:href=\"#DejaVuSans-72\" x=\"58.552734\"/>\n      <use xlink:href=\"#DejaVuSans-6f\" x=\"97.416016\"/>\n      <use xlink:href=\"#DejaVuSans-62\" x=\"158.597656\"/>\n      <use xlink:href=\"#DejaVuSans-61\" x=\"222.074219\"/>\n      <use xlink:href=\"#DejaVuSans-62\" x=\"283.353516\"/>\n      <use xlink:href=\"#DejaVuSans-69\" x=\"346.830078\"/>\n      <use xlink:href=\"#DejaVuSans-6c\" x=\"374.613281\"/>\n      <use xlink:href=\"#DejaVuSans-69\" x=\"402.396484\"/>\n      <use xlink:href=\"#DejaVuSans-74\" x=\"430.179688\"/>\n      <use xlink:href=\"#DejaVuSans-79\" x=\"469.388672\"/>\n     </g>\n    </g>\n   </g>\n   <g id=\"matplotlib.axis_2\">\n    <g id=\"ytick_1\">\n     <g id=\"line2d_6\">\n      <defs>\n       <path id=\"m0554238a64\" d=\"M 0 0 \nL -3.5 0 \n\" style=\"stroke: #000000; stroke-width: 0.8\"/>\n      </defs>\n      <g>\n       <use xlink:href=\"#m0554238a64\" x=\"45.478125\" y=\"193.754489\" style=\"stroke: #000000; stroke-width: 0.8\"/>\n      </g>\n     </g>\n     <g id=\"text_7\">\n      <!-- $\\mathdefault{10^{0}}$ -->\n      <g transform=\"translate(20.878125 197.553707)scale(0.1 -0.1)\">\n       <use xlink:href=\"#DejaVuSans-31\" transform=\"translate(0 0.765625)\"/>\n       <use xlink:href=\"#DejaVuSans-30\" transform=\"translate(63.623047 0.765625)\"/>\n       <use xlink:href=\"#DejaVuSans-30\" transform=\"translate(128.203125 39.046875)scale(0.7)\"/>\n      </g>\n     </g>\n    </g>\n    <g id=\"ytick_2\">\n     <g id=\"line2d_7\">\n      <g>\n       <use xlink:href=\"#m0554238a64\" x=\"45.478125\" y=\"145.674418\" style=\"stroke: #000000; stroke-width: 0.8\"/>\n      </g>\n     </g>\n     <g id=\"text_8\">\n      <!-- $\\mathdefault{10^{1}}$ -->\n      <g transform=\"translate(20.878125 149.473636)scale(0.1 -0.1)\">\n       <use xlink:href=\"#DejaVuSans-31\" transform=\"translate(0 0.684375)\"/>\n       <use xlink:href=\"#DejaVuSans-30\" transform=\"translate(63.623047 0.684375)\"/>\n       <use xlink:href=\"#DejaVuSans-31\" transform=\"translate(128.203125 38.965625)scale(0.7)\"/>\n      </g>\n     </g>\n    </g>\n    <g id=\"ytick_3\">\n     <g id=\"line2d_8\">\n      <g>\n       <use xlink:href=\"#m0554238a64\" x=\"45.478125\" y=\"97.594347\" style=\"stroke: #000000; stroke-width: 0.8\"/>\n      </g>\n     </g>\n     <g id=\"text_9\">\n      <!-- $\\mathdefault{10^{2}}$ -->\n      <g transform=\"translate(20.878125 101.393565)scale(0.1 -0.1)\">\n       <defs>\n        <path id=\"DejaVuSans-32\" d=\"M 1228 531 \nL 3431 531 \nL 3431 0 \nL 469 0 \nL 469 531 \nQ 828 903 1448 1529 \nQ 2069 2156 2228 2338 \nQ 2531 2678 2651 2914 \nQ 2772 3150 2772 3378 \nQ 2772 3750 2511 3984 \nQ 2250 4219 1831 4219 \nQ 1534 4219 1204 4116 \nQ 875 4013 500 3803 \nL 500 4441 \nQ 881 4594 1212 4672 \nQ 1544 4750 1819 4750 \nQ 2544 4750 2975 4387 \nQ 3406 4025 3406 3419 \nQ 3406 3131 3298 2873 \nQ 3191 2616 2906 2266 \nQ 2828 2175 2409 1742 \nQ 1991 1309 1228 531 \nz\n\" transform=\"scale(0.015625)\"/>\n       </defs>\n       <use xlink:href=\"#DejaVuSans-31\" transform=\"translate(0 0.765625)\"/>\n       <use xlink:href=\"#DejaVuSans-30\" transform=\"translate(63.623047 0.765625)\"/>\n       <use xlink:href=\"#DejaVuSans-32\" transform=\"translate(128.203125 39.046875)scale(0.7)\"/>\n      </g>\n     </g>\n    </g>\n    <g id=\"ytick_4\">\n     <g id=\"line2d_9\">\n      <g>\n       <use xlink:href=\"#m0554238a64\" x=\"45.478125\" y=\"49.514276\" style=\"stroke: #000000; stroke-width: 0.8\"/>\n      </g>\n     </g>\n     <g id=\"text_10\">\n      <!-- $\\mathdefault{10^{3}}$ -->\n      <g transform=\"translate(20.878125 53.313494)scale(0.1 -0.1)\">\n       <use xlink:href=\"#DejaVuSans-31\" transform=\"translate(0 0.765625)\"/>\n       <use xlink:href=\"#DejaVuSans-30\" transform=\"translate(63.623047 0.765625)\"/>\n       <use xlink:href=\"#DejaVuSans-33\" transform=\"translate(128.203125 39.046875)scale(0.7)\"/>\n      </g>\n     </g>\n    </g>\n    <g id=\"ytick_5\">\n     <g id=\"line2d_10\">\n      <defs>\n       <path id=\"mcb8b2a2239\" d=\"M 0 0 \nL -2 0 \n\" style=\"stroke: #000000; stroke-width: 0.6\"/>\n      </defs>\n      <g>\n       <use xlink:href=\"#mcb8b2a2239\" x=\"45.478125\" y=\"201.202186\" style=\"stroke: #000000; stroke-width: 0.6\"/>\n      </g>\n     </g>\n    </g>\n    <g id=\"ytick_6\">\n     <g id=\"line2d_11\">\n      <g>\n       <use xlink:href=\"#mcb8b2a2239\" x=\"45.478125\" y=\"198.413929\" style=\"stroke: #000000; stroke-width: 0.6\"/>\n      </g>\n     </g>\n    </g>\n    <g id=\"ytick_7\">\n     <g id=\"line2d_12\">\n      <g>\n       <use xlink:href=\"#mcb8b2a2239\" x=\"45.478125\" y=\"195.954512\" style=\"stroke: #000000; stroke-width: 0.6\"/>\n      </g>\n     </g>\n    </g>\n    <g id=\"ytick_8\">\n     <g id=\"line2d_13\">\n      <g>\n       <use xlink:href=\"#mcb8b2a2239\" x=\"45.478125\" y=\"179.280945\" style=\"stroke: #000000; stroke-width: 0.6\"/>\n      </g>\n     </g>\n    </g>\n    <g id=\"ytick_9\">\n     <g id=\"line2d_14\">\n      <g>\n       <use xlink:href=\"#mcb8b2a2239\" x=\"45.478125\" y=\"170.814465\" style=\"stroke: #000000; stroke-width: 0.6\"/>\n      </g>\n     </g>\n    </g>\n    <g id=\"ytick_10\">\n     <g id=\"line2d_15\">\n      <g>\n       <use xlink:href=\"#mcb8b2a2239\" x=\"45.478125\" y=\"164.807401\" style=\"stroke: #000000; stroke-width: 0.6\"/>\n      </g>\n     </g>\n    </g>\n    <g id=\"ytick_11\">\n     <g id=\"line2d_16\">\n      <g>\n       <use xlink:href=\"#mcb8b2a2239\" x=\"45.478125\" y=\"160.147961\" style=\"stroke: #000000; stroke-width: 0.6\"/>\n      </g>\n     </g>\n    </g>\n    <g id=\"ytick_12\">\n     <g id=\"line2d_17\">\n      <g>\n       <use xlink:href=\"#mcb8b2a2239\" x=\"45.478125\" y=\"156.340921\" style=\"stroke: #000000; stroke-width: 0.6\"/>\n      </g>\n     </g>\n    </g>\n    <g id=\"ytick_13\">\n     <g id=\"line2d_18\">\n      <g>\n       <use xlink:href=\"#mcb8b2a2239\" x=\"45.478125\" y=\"153.122115\" style=\"stroke: #000000; stroke-width: 0.6\"/>\n      </g>\n     </g>\n    </g>\n    <g id=\"ytick_14\">\n     <g id=\"line2d_19\">\n      <g>\n       <use xlink:href=\"#mcb8b2a2239\" x=\"45.478125\" y=\"150.333858\" style=\"stroke: #000000; stroke-width: 0.6\"/>\n      </g>\n     </g>\n    </g>\n    <g id=\"ytick_15\">\n     <g id=\"line2d_20\">\n      <g>\n       <use xlink:href=\"#mcb8b2a2239\" x=\"45.478125\" y=\"147.874441\" style=\"stroke: #000000; stroke-width: 0.6\"/>\n      </g>\n     </g>\n    </g>\n    <g id=\"ytick_16\">\n     <g id=\"line2d_21\">\n      <g>\n       <use xlink:href=\"#mcb8b2a2239\" x=\"45.478125\" y=\"131.200874\" style=\"stroke: #000000; stroke-width: 0.6\"/>\n      </g>\n     </g>\n    </g>\n    <g id=\"ytick_17\">\n     <g id=\"line2d_22\">\n      <g>\n       <use xlink:href=\"#mcb8b2a2239\" x=\"45.478125\" y=\"122.734394\" style=\"stroke: #000000; stroke-width: 0.6\"/>\n      </g>\n     </g>\n    </g>\n    <g id=\"ytick_18\">\n     <g id=\"line2d_23\">\n      <g>\n       <use xlink:href=\"#mcb8b2a2239\" x=\"45.478125\" y=\"116.72733\" style=\"stroke: #000000; stroke-width: 0.6\"/>\n      </g>\n     </g>\n    </g>\n    <g id=\"ytick_19\">\n     <g id=\"line2d_24\">\n      <g>\n       <use xlink:href=\"#mcb8b2a2239\" x=\"45.478125\" y=\"112.06789\" style=\"stroke: #000000; stroke-width: 0.6\"/>\n      </g>\n     </g>\n    </g>\n    <g id=\"ytick_20\">\n     <g id=\"line2d_25\">\n      <g>\n       <use xlink:href=\"#mcb8b2a2239\" x=\"45.478125\" y=\"108.26085\" style=\"stroke: #000000; stroke-width: 0.6\"/>\n      </g>\n     </g>\n    </g>\n    <g id=\"ytick_21\">\n     <g id=\"line2d_26\">\n      <g>\n       <use xlink:href=\"#mcb8b2a2239\" x=\"45.478125\" y=\"105.042044\" style=\"stroke: #000000; stroke-width: 0.6\"/>\n      </g>\n     </g>\n    </g>\n    <g id=\"ytick_22\">\n     <g id=\"line2d_27\">\n      <g>\n       <use xlink:href=\"#mcb8b2a2239\" x=\"45.478125\" y=\"102.253787\" style=\"stroke: #000000; stroke-width: 0.6\"/>\n      </g>\n     </g>\n    </g>\n    <g id=\"ytick_23\">\n     <g id=\"line2d_28\">\n      <g>\n       <use xlink:href=\"#mcb8b2a2239\" x=\"45.478125\" y=\"99.79437\" style=\"stroke: #000000; stroke-width: 0.6\"/>\n      </g>\n     </g>\n    </g>\n    <g id=\"ytick_24\">\n     <g id=\"line2d_29\">\n      <g>\n       <use xlink:href=\"#mcb8b2a2239\" x=\"45.478125\" y=\"83.120803\" style=\"stroke: #000000; stroke-width: 0.6\"/>\n      </g>\n     </g>\n    </g>\n    <g id=\"ytick_25\">\n     <g id=\"line2d_30\">\n      <g>\n       <use xlink:href=\"#mcb8b2a2239\" x=\"45.478125\" y=\"74.654323\" style=\"stroke: #000000; stroke-width: 0.6\"/>\n      </g>\n     </g>\n    </g>\n    <g id=\"ytick_26\">\n     <g id=\"line2d_31\">\n      <g>\n       <use xlink:href=\"#mcb8b2a2239\" x=\"45.478125\" y=\"68.647259\" style=\"stroke: #000000; stroke-width: 0.6\"/>\n      </g>\n     </g>\n    </g>\n    <g id=\"ytick_27\">\n     <g id=\"line2d_32\">\n      <g>\n       <use xlink:href=\"#mcb8b2a2239\" x=\"45.478125\" y=\"63.987819\" style=\"stroke: #000000; stroke-width: 0.6\"/>\n      </g>\n     </g>\n    </g>\n    <g id=\"ytick_28\">\n     <g id=\"line2d_33\">\n      <g>\n       <use xlink:href=\"#mcb8b2a2239\" x=\"45.478125\" y=\"60.180779\" style=\"stroke: #000000; stroke-width: 0.6\"/>\n      </g>\n     </g>\n    </g>\n    <g id=\"ytick_29\">\n     <g id=\"line2d_34\">\n      <g>\n       <use xlink:href=\"#mcb8b2a2239\" x=\"45.478125\" y=\"56.961973\" style=\"stroke: #000000; stroke-width: 0.6\"/>\n      </g>\n     </g>\n    </g>\n    <g id=\"ytick_30\">\n     <g id=\"line2d_35\">\n      <g>\n       <use xlink:href=\"#mcb8b2a2239\" x=\"45.478125\" y=\"54.173716\" style=\"stroke: #000000; stroke-width: 0.6\"/>\n      </g>\n     </g>\n    </g>\n    <g id=\"ytick_31\">\n     <g id=\"line2d_36\">\n      <g>\n       <use xlink:href=\"#mcb8b2a2239\" x=\"45.478125\" y=\"51.714299\" style=\"stroke: #000000; stroke-width: 0.6\"/>\n      </g>\n     </g>\n    </g>\n    <g id=\"ytick_32\">\n     <g id=\"line2d_37\">\n      <g>\n       <use xlink:href=\"#mcb8b2a2239\" x=\"45.478125\" y=\"35.040732\" style=\"stroke: #000000; stroke-width: 0.6\"/>\n      </g>\n     </g>\n    </g>\n    <g id=\"ytick_33\">\n     <g id=\"line2d_38\">\n      <g>\n       <use xlink:href=\"#mcb8b2a2239\" x=\"45.478125\" y=\"26.574252\" style=\"stroke: #000000; stroke-width: 0.6\"/>\n      </g>\n     </g>\n    </g>\n    <g id=\"text_11\">\n     <!-- Count -->\n     <g transform=\"translate(14.798438 126.966563)rotate(-90)scale(0.1 -0.1)\">\n      <defs>\n       <path id=\"DejaVuSans-43\" d=\"M 4122 4306 \nL 4122 3641 \nQ 3803 3938 3442 4084 \nQ 3081 4231 2675 4231 \nQ 1875 4231 1450 3742 \nQ 1025 3253 1025 2328 \nQ 1025 1406 1450 917 \nQ 1875 428 2675 428 \nQ 3081 428 3442 575 \nQ 3803 722 4122 1019 \nL 4122 359 \nQ 3791 134 3420 21 \nQ 3050 -91 2638 -91 \nQ 1578 -91 968 557 \nQ 359 1206 359 2328 \nQ 359 3453 968 4101 \nQ 1578 4750 2638 4750 \nQ 3056 4750 3426 4639 \nQ 3797 4528 4122 4306 \nz\n\" transform=\"scale(0.015625)\"/>\n       <path id=\"DejaVuSans-75\" d=\"M 544 1381 \nL 544 3500 \nL 1119 3500 \nL 1119 1403 \nQ 1119 906 1312 657 \nQ 1506 409 1894 409 \nQ 2359 409 2629 706 \nQ 2900 1003 2900 1516 \nL 2900 3500 \nL 3475 3500 \nL 3475 0 \nL 2900 0 \nL 2900 538 \nQ 2691 219 2414 64 \nQ 2138 -91 1772 -91 \nQ 1169 -91 856 284 \nQ 544 659 544 1381 \nz\nM 1991 3584 \nL 1991 3584 \nz\n\" transform=\"scale(0.015625)\"/>\n       <path id=\"DejaVuSans-6e\" d=\"M 3513 2113 \nL 3513 0 \nL 2938 0 \nL 2938 2094 \nQ 2938 2591 2744 2837 \nQ 2550 3084 2163 3084 \nQ 1697 3084 1428 2787 \nQ 1159 2491 1159 1978 \nL 1159 0 \nL 581 0 \nL 581 3500 \nL 1159 3500 \nL 1159 2956 \nQ 1366 3272 1645 3428 \nQ 1925 3584 2291 3584 \nQ 2894 3584 3203 3211 \nQ 3513 2838 3513 2113 \nz\n\" transform=\"scale(0.015625)\"/>\n      </defs>\n      <use xlink:href=\"#DejaVuSans-43\"/>\n      <use xlink:href=\"#DejaVuSans-6f\" x=\"69.824219\"/>\n      <use xlink:href=\"#DejaVuSans-75\" x=\"131.005859\"/>\n      <use xlink:href=\"#DejaVuSans-6e\" x=\"194.384766\"/>\n      <use xlink:href=\"#DejaVuSans-74\" x=\"257.763672\"/>\n     </g>\n    </g>\n   </g>\n   <g id=\"patch_102\">\n    <path d=\"M 45.478125 201.918125 \nL 45.478125 22.318125 \n\" style=\"fill: none; stroke: #000000; stroke-width: 0.8; stroke-linejoin: miter; stroke-linecap: square\"/>\n   </g>\n   <g id=\"patch_103\">\n    <path d=\"M 339.536103 201.918125 \nL 339.536103 22.318125 \n\" style=\"fill: none; stroke: #000000; stroke-width: 0.8; stroke-linejoin: miter; stroke-linecap: square\"/>\n   </g>\n   <g id=\"patch_104\">\n    <path d=\"M 45.478125 201.918125 \nL 339.536103 201.918125 \n\" style=\"fill: none; stroke: #000000; stroke-width: 0.8; stroke-linejoin: miter; stroke-linecap: square\"/>\n   </g>\n   <g id=\"patch_105\">\n    <path d=\"M 45.478125 22.318125 \nL 339.536103 22.318125 \n\" style=\"fill: none; stroke: #000000; stroke-width: 0.8; stroke-linejoin: miter; stroke-linecap: square\"/>\n   </g>\n   <g id=\"text_12\">\n    <!-- Probability distribution -->\n    <g transform=\"translate(124.693989 16.318125)scale(0.12 -0.12)\">\n     <defs>\n      <path id=\"DejaVuSans-20\" transform=\"scale(0.015625)\"/>\n      <path id=\"DejaVuSans-64\" d=\"M 2906 2969 \nL 2906 4863 \nL 3481 4863 \nL 3481 0 \nL 2906 0 \nL 2906 525 \nQ 2725 213 2448 61 \nQ 2172 -91 1784 -91 \nQ 1150 -91 751 415 \nQ 353 922 353 1747 \nQ 353 2572 751 3078 \nQ 1150 3584 1784 3584 \nQ 2172 3584 2448 3432 \nQ 2725 3281 2906 2969 \nz\nM 947 1747 \nQ 947 1113 1208 752 \nQ 1469 391 1925 391 \nQ 2381 391 2643 752 \nQ 2906 1113 2906 1747 \nQ 2906 2381 2643 2742 \nQ 2381 3103 1925 3103 \nQ 1469 3103 1208 2742 \nQ 947 2381 947 1747 \nz\n\" transform=\"scale(0.015625)\"/>\n      <path id=\"DejaVuSans-73\" d=\"M 2834 3397 \nL 2834 2853 \nQ 2591 2978 2328 3040 \nQ 2066 3103 1784 3103 \nQ 1356 3103 1142 2972 \nQ 928 2841 928 2578 \nQ 928 2378 1081 2264 \nQ 1234 2150 1697 2047 \nL 1894 2003 \nQ 2506 1872 2764 1633 \nQ 3022 1394 3022 966 \nQ 3022 478 2636 193 \nQ 2250 -91 1575 -91 \nQ 1294 -91 989 -36 \nQ 684 19 347 128 \nL 347 722 \nQ 666 556 975 473 \nQ 1284 391 1588 391 \nQ 1994 391 2212 530 \nQ 2431 669 2431 922 \nQ 2431 1156 2273 1281 \nQ 2116 1406 1581 1522 \nL 1381 1569 \nQ 847 1681 609 1914 \nQ 372 2147 372 2553 \nQ 372 3047 722 3315 \nQ 1072 3584 1716 3584 \nQ 2034 3584 2315 3537 \nQ 2597 3491 2834 3397 \nz\n\" transform=\"scale(0.015625)\"/>\n     </defs>\n     <use xlink:href=\"#DejaVuSans-50\"/>\n     <use xlink:href=\"#DejaVuSans-72\" x=\"58.552734\"/>\n     <use xlink:href=\"#DejaVuSans-6f\" x=\"97.416016\"/>\n     <use xlink:href=\"#DejaVuSans-62\" x=\"158.597656\"/>\n     <use xlink:href=\"#DejaVuSans-61\" x=\"222.074219\"/>\n     <use xlink:href=\"#DejaVuSans-62\" x=\"283.353516\"/>\n     <use xlink:href=\"#DejaVuSans-69\" x=\"346.830078\"/>\n     <use xlink:href=\"#DejaVuSans-6c\" x=\"374.613281\"/>\n     <use xlink:href=\"#DejaVuSans-69\" x=\"402.396484\"/>\n     <use xlink:href=\"#DejaVuSans-74\" x=\"430.179688\"/>\n     <use xlink:href=\"#DejaVuSans-79\" x=\"469.388672\"/>\n     <use xlink:href=\"#DejaVuSans-20\" x=\"528.568359\"/>\n     <use xlink:href=\"#DejaVuSans-64\" x=\"560.355469\"/>\n     <use xlink:href=\"#DejaVuSans-69\" x=\"623.832031\"/>\n     <use xlink:href=\"#DejaVuSans-73\" x=\"651.615234\"/>\n     <use xlink:href=\"#DejaVuSans-74\" x=\"703.714844\"/>\n     <use xlink:href=\"#DejaVuSans-72\" x=\"742.923828\"/>\n     <use xlink:href=\"#DejaVuSans-69\" x=\"784.037109\"/>\n     <use xlink:href=\"#DejaVuSans-62\" x=\"811.820312\"/>\n     <use xlink:href=\"#DejaVuSans-75\" x=\"875.296875\"/>\n     <use xlink:href=\"#DejaVuSans-74\" x=\"938.675781\"/>\n     <use xlink:href=\"#DejaVuSans-69\" x=\"977.884766\"/>\n     <use xlink:href=\"#DejaVuSans-6f\" x=\"1005.667969\"/>\n     <use xlink:href=\"#DejaVuSans-6e\" x=\"1066.849609\"/>\n    </g>\n   </g>\n  </g>\n  <g id=\"axes_2\">\n   <g id=\"patch_106\">\n    <path d=\"M 394.303037 201.918125 \nL 688.361016 201.918125 \nL 688.361016 22.318125 \nL 394.303037 22.318125 \nz\n\" style=\"fill: #ffffff\"/>\n   </g>\n   <g id=\"matplotlib.axis_3\">\n    <g id=\"xtick_6\">\n     <g id=\"line2d_39\">\n      <path d=\"M 394.303037 201.918125 \nL 394.303037 22.318125 \n\" clip-path=\"url(#p87ef59c849)\" style=\"fill: none; stroke-dasharray: 1.85,0.8; stroke-dashoffset: 0; stroke: #7f7f7f; stroke-width: 0.5\"/>\n     </g>\n     <g id=\"line2d_40\">\n      <g>\n       <use xlink:href=\"#m6091589a6d\" x=\"394.303037\" y=\"201.918125\" style=\"stroke: #000000; stroke-width: 0.8\"/>\n      </g>\n     </g>\n     <g id=\"text_13\">\n      <!-- 0 -->\n      <g transform=\"translate(391.121787 216.516563)scale(0.1 -0.1)\">\n       <use xlink:href=\"#DejaVuSans-30\"/>\n      </g>\n     </g>\n    </g>\n    <g id=\"xtick_7\">\n     <g id=\"line2d_41\">\n      <path d=\"M 453.114633 201.918125 \nL 453.114633 22.318125 \n\" clip-path=\"url(#p87ef59c849)\" style=\"fill: none; stroke-dasharray: 1.85,0.8; stroke-dashoffset: 0; stroke: #7f7f7f; stroke-width: 0.5\"/>\n     </g>\n     <g id=\"line2d_42\">\n      <g>\n       <use xlink:href=\"#m6091589a6d\" x=\"453.114633\" y=\"201.918125\" style=\"stroke: #000000; stroke-width: 0.8\"/>\n      </g>\n     </g>\n     <g id=\"text_14\">\n      <!-- 2000 -->\n      <g transform=\"translate(440.389633 216.516563)scale(0.1 -0.1)\">\n       <use xlink:href=\"#DejaVuSans-32\"/>\n       <use xlink:href=\"#DejaVuSans-30\" x=\"63.623047\"/>\n       <use xlink:href=\"#DejaVuSans-30\" x=\"127.246094\"/>\n       <use xlink:href=\"#DejaVuSans-30\" x=\"190.869141\"/>\n      </g>\n     </g>\n    </g>\n    <g id=\"xtick_8\">\n     <g id=\"line2d_43\">\n      <path d=\"M 511.926229 201.918125 \nL 511.926229 22.318125 \n\" clip-path=\"url(#p87ef59c849)\" style=\"fill: none; stroke-dasharray: 1.85,0.8; stroke-dashoffset: 0; stroke: #7f7f7f; stroke-width: 0.5\"/>\n     </g>\n     <g id=\"line2d_44\">\n      <g>\n       <use xlink:href=\"#m6091589a6d\" x=\"511.926229\" y=\"201.918125\" style=\"stroke: #000000; stroke-width: 0.8\"/>\n      </g>\n     </g>\n     <g id=\"text_15\">\n      <!-- 4000 -->\n      <g transform=\"translate(499.201229 216.516563)scale(0.1 -0.1)\">\n       <defs>\n        <path id=\"DejaVuSans-34\" d=\"M 2419 4116 \nL 825 1625 \nL 2419 1625 \nL 2419 4116 \nz\nM 2253 4666 \nL 3047 4666 \nL 3047 1625 \nL 3713 1625 \nL 3713 1100 \nL 3047 1100 \nL 3047 0 \nL 2419 0 \nL 2419 1100 \nL 313 1100 \nL 313 1709 \nL 2253 4666 \nz\n\" transform=\"scale(0.015625)\"/>\n       </defs>\n       <use xlink:href=\"#DejaVuSans-34\"/>\n       <use xlink:href=\"#DejaVuSans-30\" x=\"63.623047\"/>\n       <use xlink:href=\"#DejaVuSans-30\" x=\"127.246094\"/>\n       <use xlink:href=\"#DejaVuSans-30\" x=\"190.869141\"/>\n      </g>\n     </g>\n    </g>\n    <g id=\"xtick_9\">\n     <g id=\"line2d_45\">\n      <path d=\"M 570.737824 201.918125 \nL 570.737824 22.318125 \n\" clip-path=\"url(#p87ef59c849)\" style=\"fill: none; stroke-dasharray: 1.85,0.8; stroke-dashoffset: 0; stroke: #7f7f7f; stroke-width: 0.5\"/>\n     </g>\n     <g id=\"line2d_46\">\n      <g>\n       <use xlink:href=\"#m6091589a6d\" x=\"570.737824\" y=\"201.918125\" style=\"stroke: #000000; stroke-width: 0.8\"/>\n      </g>\n     </g>\n     <g id=\"text_16\">\n      <!-- 6000 -->\n      <g transform=\"translate(558.012824 216.516563)scale(0.1 -0.1)\">\n       <defs>\n        <path id=\"DejaVuSans-36\" d=\"M 2113 2584 \nQ 1688 2584 1439 2293 \nQ 1191 2003 1191 1497 \nQ 1191 994 1439 701 \nQ 1688 409 2113 409 \nQ 2538 409 2786 701 \nQ 3034 994 3034 1497 \nQ 3034 2003 2786 2293 \nQ 2538 2584 2113 2584 \nz\nM 3366 4563 \nL 3366 3988 \nQ 3128 4100 2886 4159 \nQ 2644 4219 2406 4219 \nQ 1781 4219 1451 3797 \nQ 1122 3375 1075 2522 \nQ 1259 2794 1537 2939 \nQ 1816 3084 2150 3084 \nQ 2853 3084 3261 2657 \nQ 3669 2231 3669 1497 \nQ 3669 778 3244 343 \nQ 2819 -91 2113 -91 \nQ 1303 -91 875 529 \nQ 447 1150 447 2328 \nQ 447 3434 972 4092 \nQ 1497 4750 2381 4750 \nQ 2619 4750 2861 4703 \nQ 3103 4656 3366 4563 \nz\n\" transform=\"scale(0.015625)\"/>\n       </defs>\n       <use xlink:href=\"#DejaVuSans-36\"/>\n       <use xlink:href=\"#DejaVuSans-30\" x=\"63.623047\"/>\n       <use xlink:href=\"#DejaVuSans-30\" x=\"127.246094\"/>\n       <use xlink:href=\"#DejaVuSans-30\" x=\"190.869141\"/>\n      </g>\n     </g>\n    </g>\n    <g id=\"xtick_10\">\n     <g id=\"line2d_47\">\n      <path d=\"M 629.54942 201.918125 \nL 629.54942 22.318125 \n\" clip-path=\"url(#p87ef59c849)\" style=\"fill: none; stroke-dasharray: 1.85,0.8; stroke-dashoffset: 0; stroke: #7f7f7f; stroke-width: 0.5\"/>\n     </g>\n     <g id=\"line2d_48\">\n      <g>\n       <use xlink:href=\"#m6091589a6d\" x=\"629.54942\" y=\"201.918125\" style=\"stroke: #000000; stroke-width: 0.8\"/>\n      </g>\n     </g>\n     <g id=\"text_17\">\n      <!-- 8000 -->\n      <g transform=\"translate(616.82442 216.516563)scale(0.1 -0.1)\">\n       <defs>\n        <path id=\"DejaVuSans-38\" d=\"M 2034 2216 \nQ 1584 2216 1326 1975 \nQ 1069 1734 1069 1313 \nQ 1069 891 1326 650 \nQ 1584 409 2034 409 \nQ 2484 409 2743 651 \nQ 3003 894 3003 1313 \nQ 3003 1734 2745 1975 \nQ 2488 2216 2034 2216 \nz\nM 1403 2484 \nQ 997 2584 770 2862 \nQ 544 3141 544 3541 \nQ 544 4100 942 4425 \nQ 1341 4750 2034 4750 \nQ 2731 4750 3128 4425 \nQ 3525 4100 3525 3541 \nQ 3525 3141 3298 2862 \nQ 3072 2584 2669 2484 \nQ 3125 2378 3379 2068 \nQ 3634 1759 3634 1313 \nQ 3634 634 3220 271 \nQ 2806 -91 2034 -91 \nQ 1263 -91 848 271 \nQ 434 634 434 1313 \nQ 434 1759 690 2068 \nQ 947 2378 1403 2484 \nz\nM 1172 3481 \nQ 1172 3119 1398 2916 \nQ 1625 2713 2034 2713 \nQ 2441 2713 2670 2916 \nQ 2900 3119 2900 3481 \nQ 2900 3844 2670 4047 \nQ 2441 4250 2034 4250 \nQ 1625 4250 1398 4047 \nQ 1172 3844 1172 3481 \nz\n\" transform=\"scale(0.015625)\"/>\n       </defs>\n       <use xlink:href=\"#DejaVuSans-38\"/>\n       <use xlink:href=\"#DejaVuSans-30\" x=\"63.623047\"/>\n       <use xlink:href=\"#DejaVuSans-30\" x=\"127.246094\"/>\n       <use xlink:href=\"#DejaVuSans-30\" x=\"190.869141\"/>\n      </g>\n     </g>\n    </g>\n    <g id=\"xtick_11\">\n     <g id=\"line2d_49\">\n      <path d=\"M 688.361016 201.918125 \nL 688.361016 22.318125 \n\" clip-path=\"url(#p87ef59c849)\" style=\"fill: none; stroke-dasharray: 1.85,0.8; stroke-dashoffset: 0; stroke: #7f7f7f; stroke-width: 0.5\"/>\n     </g>\n     <g id=\"line2d_50\">\n      <g>\n       <use xlink:href=\"#m6091589a6d\" x=\"688.361016\" y=\"201.918125\" style=\"stroke: #000000; stroke-width: 0.8\"/>\n      </g>\n     </g>\n     <g id=\"text_18\">\n      <!-- 10000 -->\n      <g transform=\"translate(672.454766 216.516563)scale(0.1 -0.1)\">\n       <use xlink:href=\"#DejaVuSans-31\"/>\n       <use xlink:href=\"#DejaVuSans-30\" x=\"63.623047\"/>\n       <use xlink:href=\"#DejaVuSans-30\" x=\"127.246094\"/>\n       <use xlink:href=\"#DejaVuSans-30\" x=\"190.869141\"/>\n       <use xlink:href=\"#DejaVuSans-30\" x=\"254.492188\"/>\n      </g>\n     </g>\n    </g>\n    <g id=\"xtick_12\">\n     <g id=\"line2d_51\">\n      <path d=\"M 409.005936 201.918125 \nL 409.005936 22.318125 \n\" clip-path=\"url(#p87ef59c849)\" style=\"fill: none; stroke-dasharray: 0.925,0.4; stroke-dashoffset: 0; stroke: #7f7f7f; stroke-width: 0.25\"/>\n     </g>\n     <g id=\"line2d_52\">\n      <defs>\n       <path id=\"m7d83353991\" d=\"M 0 0 \nL 0 2 \n\" style=\"stroke: #000000; stroke-width: 0.6\"/>\n      </defs>\n      <g>\n       <use xlink:href=\"#m7d83353991\" x=\"409.005936\" y=\"201.918125\" style=\"stroke: #000000; stroke-width: 0.6\"/>\n      </g>\n     </g>\n    </g>\n    <g id=\"xtick_13\">\n     <g id=\"line2d_53\">\n      <path d=\"M 423.708835 201.918125 \nL 423.708835 22.318125 \n\" clip-path=\"url(#p87ef59c849)\" style=\"fill: none; stroke-dasharray: 0.925,0.4; stroke-dashoffset: 0; stroke: #7f7f7f; stroke-width: 0.25\"/>\n     </g>\n     <g id=\"line2d_54\">\n      <g>\n       <use xlink:href=\"#m7d83353991\" x=\"423.708835\" y=\"201.918125\" style=\"stroke: #000000; stroke-width: 0.6\"/>\n      </g>\n     </g>\n    </g>\n    <g id=\"xtick_14\">\n     <g id=\"line2d_55\">\n      <path d=\"M 438.411734 201.918125 \nL 438.411734 22.318125 \n\" clip-path=\"url(#p87ef59c849)\" style=\"fill: none; stroke-dasharray: 0.925,0.4; stroke-dashoffset: 0; stroke: #7f7f7f; stroke-width: 0.25\"/>\n     </g>\n     <g id=\"line2d_56\">\n      <g>\n       <use xlink:href=\"#m7d83353991\" x=\"438.411734\" y=\"201.918125\" style=\"stroke: #000000; stroke-width: 0.6\"/>\n      </g>\n     </g>\n    </g>\n    <g id=\"xtick_15\">\n     <g id=\"line2d_57\">\n      <path d=\"M 467.817532 201.918125 \nL 467.817532 22.318125 \n\" clip-path=\"url(#p87ef59c849)\" style=\"fill: none; stroke-dasharray: 0.925,0.4; stroke-dashoffset: 0; stroke: #7f7f7f; stroke-width: 0.25\"/>\n     </g>\n     <g id=\"line2d_58\">\n      <g>\n       <use xlink:href=\"#m7d83353991\" x=\"467.817532\" y=\"201.918125\" style=\"stroke: #000000; stroke-width: 0.6\"/>\n      </g>\n     </g>\n    </g>\n    <g id=\"xtick_16\">\n     <g id=\"line2d_59\">\n      <path d=\"M 482.520431 201.918125 \nL 482.520431 22.318125 \n\" clip-path=\"url(#p87ef59c849)\" style=\"fill: none; stroke-dasharray: 0.925,0.4; stroke-dashoffset: 0; stroke: #7f7f7f; stroke-width: 0.25\"/>\n     </g>\n     <g id=\"line2d_60\">\n      <g>\n       <use xlink:href=\"#m7d83353991\" x=\"482.520431\" y=\"201.918125\" style=\"stroke: #000000; stroke-width: 0.6\"/>\n      </g>\n     </g>\n    </g>\n    <g id=\"xtick_17\">\n     <g id=\"line2d_61\">\n      <path d=\"M 497.22333 201.918125 \nL 497.22333 22.318125 \n\" clip-path=\"url(#p87ef59c849)\" style=\"fill: none; stroke-dasharray: 0.925,0.4; stroke-dashoffset: 0; stroke: #7f7f7f; stroke-width: 0.25\"/>\n     </g>\n     <g id=\"line2d_62\">\n      <g>\n       <use xlink:href=\"#m7d83353991\" x=\"497.22333\" y=\"201.918125\" style=\"stroke: #000000; stroke-width: 0.6\"/>\n      </g>\n     </g>\n    </g>\n    <g id=\"xtick_18\">\n     <g id=\"line2d_63\">\n      <path d=\"M 526.629127 201.918125 \nL 526.629127 22.318125 \n\" clip-path=\"url(#p87ef59c849)\" style=\"fill: none; stroke-dasharray: 0.925,0.4; stroke-dashoffset: 0; stroke: #7f7f7f; stroke-width: 0.25\"/>\n     </g>\n     <g id=\"line2d_64\">\n      <g>\n       <use xlink:href=\"#m7d83353991\" x=\"526.629127\" y=\"201.918125\" style=\"stroke: #000000; stroke-width: 0.6\"/>\n      </g>\n     </g>\n    </g>\n    <g id=\"xtick_19\">\n     <g id=\"line2d_65\">\n      <path d=\"M 541.332026 201.918125 \nL 541.332026 22.318125 \n\" clip-path=\"url(#p87ef59c849)\" style=\"fill: none; stroke-dasharray: 0.925,0.4; stroke-dashoffset: 0; stroke: #7f7f7f; stroke-width: 0.25\"/>\n     </g>\n     <g id=\"line2d_66\">\n      <g>\n       <use xlink:href=\"#m7d83353991\" x=\"541.332026\" y=\"201.918125\" style=\"stroke: #000000; stroke-width: 0.6\"/>\n      </g>\n     </g>\n    </g>\n    <g id=\"xtick_20\">\n     <g id=\"line2d_67\">\n      <path d=\"M 556.034925 201.918125 \nL 556.034925 22.318125 \n\" clip-path=\"url(#p87ef59c849)\" style=\"fill: none; stroke-dasharray: 0.925,0.4; stroke-dashoffset: 0; stroke: #7f7f7f; stroke-width: 0.25\"/>\n     </g>\n     <g id=\"line2d_68\">\n      <g>\n       <use xlink:href=\"#m7d83353991\" x=\"556.034925\" y=\"201.918125\" style=\"stroke: #000000; stroke-width: 0.6\"/>\n      </g>\n     </g>\n    </g>\n    <g id=\"xtick_21\">\n     <g id=\"line2d_69\">\n      <path d=\"M 585.440723 201.918125 \nL 585.440723 22.318125 \n\" clip-path=\"url(#p87ef59c849)\" style=\"fill: none; stroke-dasharray: 0.925,0.4; stroke-dashoffset: 0; stroke: #7f7f7f; stroke-width: 0.25\"/>\n     </g>\n     <g id=\"line2d_70\">\n      <g>\n       <use xlink:href=\"#m7d83353991\" x=\"585.440723\" y=\"201.918125\" style=\"stroke: #000000; stroke-width: 0.6\"/>\n      </g>\n     </g>\n    </g>\n    <g id=\"xtick_22\">\n     <g id=\"line2d_71\">\n      <path d=\"M 600.143622 201.918125 \nL 600.143622 22.318125 \n\" clip-path=\"url(#p87ef59c849)\" style=\"fill: none; stroke-dasharray: 0.925,0.4; stroke-dashoffset: 0; stroke: #7f7f7f; stroke-width: 0.25\"/>\n     </g>\n     <g id=\"line2d_72\">\n      <g>\n       <use xlink:href=\"#m7d83353991\" x=\"600.143622\" y=\"201.918125\" style=\"stroke: #000000; stroke-width: 0.6\"/>\n      </g>\n     </g>\n    </g>\n    <g id=\"xtick_23\">\n     <g id=\"line2d_73\">\n      <path d=\"M 614.846521 201.918125 \nL 614.846521 22.318125 \n\" clip-path=\"url(#p87ef59c849)\" style=\"fill: none; stroke-dasharray: 0.925,0.4; stroke-dashoffset: 0; stroke: #7f7f7f; stroke-width: 0.25\"/>\n     </g>\n     <g id=\"line2d_74\">\n      <g>\n       <use xlink:href=\"#m7d83353991\" x=\"614.846521\" y=\"201.918125\" style=\"stroke: #000000; stroke-width: 0.6\"/>\n      </g>\n     </g>\n    </g>\n    <g id=\"xtick_24\">\n     <g id=\"line2d_75\">\n      <path d=\"M 644.252319 201.918125 \nL 644.252319 22.318125 \n\" clip-path=\"url(#p87ef59c849)\" style=\"fill: none; stroke-dasharray: 0.925,0.4; stroke-dashoffset: 0; stroke: #7f7f7f; stroke-width: 0.25\"/>\n     </g>\n     <g id=\"line2d_76\">\n      <g>\n       <use xlink:href=\"#m7d83353991\" x=\"644.252319\" y=\"201.918125\" style=\"stroke: #000000; stroke-width: 0.6\"/>\n      </g>\n     </g>\n    </g>\n    <g id=\"xtick_25\">\n     <g id=\"line2d_77\">\n      <path d=\"M 658.955218 201.918125 \nL 658.955218 22.318125 \n\" clip-path=\"url(#p87ef59c849)\" style=\"fill: none; stroke-dasharray: 0.925,0.4; stroke-dashoffset: 0; stroke: #7f7f7f; stroke-width: 0.25\"/>\n     </g>\n     <g id=\"line2d_78\">\n      <g>\n       <use xlink:href=\"#m7d83353991\" x=\"658.955218\" y=\"201.918125\" style=\"stroke: #000000; stroke-width: 0.6\"/>\n      </g>\n     </g>\n    </g>\n    <g id=\"xtick_26\">\n     <g id=\"line2d_79\">\n      <path d=\"M 673.658117 201.918125 \nL 673.658117 22.318125 \n\" clip-path=\"url(#p87ef59c849)\" style=\"fill: none; stroke-dasharray: 0.925,0.4; stroke-dashoffset: 0; stroke: #7f7f7f; stroke-width: 0.25\"/>\n     </g>\n     <g id=\"line2d_80\">\n      <g>\n       <use xlink:href=\"#m7d83353991\" x=\"673.658117\" y=\"201.918125\" style=\"stroke: #000000; stroke-width: 0.6\"/>\n      </g>\n     </g>\n    </g>\n    <g id=\"text_19\">\n     <!-- Token (descending probability) -->\n     <g transform=\"translate(464.597651 230.194688)scale(0.1 -0.1)\">\n      <defs>\n       <path id=\"DejaVuSans-54\" d=\"M -19 4666 \nL 3928 4666 \nL 3928 4134 \nL 2272 4134 \nL 2272 0 \nL 1638 0 \nL 1638 4134 \nL -19 4134 \nL -19 4666 \nz\n\" transform=\"scale(0.015625)\"/>\n       <path id=\"DejaVuSans-6b\" d=\"M 581 4863 \nL 1159 4863 \nL 1159 1991 \nL 2875 3500 \nL 3609 3500 \nL 1753 1863 \nL 3688 0 \nL 2938 0 \nL 1159 1709 \nL 1159 0 \nL 581 0 \nL 581 4863 \nz\n\" transform=\"scale(0.015625)\"/>\n       <path id=\"DejaVuSans-65\" d=\"M 3597 1894 \nL 3597 1613 \nL 953 1613 \nQ 991 1019 1311 708 \nQ 1631 397 2203 397 \nQ 2534 397 2845 478 \nQ 3156 559 3463 722 \nL 3463 178 \nQ 3153 47 2828 -22 \nQ 2503 -91 2169 -91 \nQ 1331 -91 842 396 \nQ 353 884 353 1716 \nQ 353 2575 817 3079 \nQ 1281 3584 2069 3584 \nQ 2775 3584 3186 3129 \nQ 3597 2675 3597 1894 \nz\nM 3022 2063 \nQ 3016 2534 2758 2815 \nQ 2500 3097 2075 3097 \nQ 1594 3097 1305 2825 \nQ 1016 2553 972 2059 \nL 3022 2063 \nz\n\" transform=\"scale(0.015625)\"/>\n       <path id=\"DejaVuSans-28\" d=\"M 1984 4856 \nQ 1566 4138 1362 3434 \nQ 1159 2731 1159 2009 \nQ 1159 1288 1364 580 \nQ 1569 -128 1984 -844 \nL 1484 -844 \nQ 1016 -109 783 600 \nQ 550 1309 550 2009 \nQ 550 2706 781 3412 \nQ 1013 4119 1484 4856 \nL 1984 4856 \nz\n\" transform=\"scale(0.015625)\"/>\n       <path id=\"DejaVuSans-63\" d=\"M 3122 3366 \nL 3122 2828 \nQ 2878 2963 2633 3030 \nQ 2388 3097 2138 3097 \nQ 1578 3097 1268 2742 \nQ 959 2388 959 1747 \nQ 959 1106 1268 751 \nQ 1578 397 2138 397 \nQ 2388 397 2633 464 \nQ 2878 531 3122 666 \nL 3122 134 \nQ 2881 22 2623 -34 \nQ 2366 -91 2075 -91 \nQ 1284 -91 818 406 \nQ 353 903 353 1747 \nQ 353 2603 823 3093 \nQ 1294 3584 2113 3584 \nQ 2378 3584 2631 3529 \nQ 2884 3475 3122 3366 \nz\n\" transform=\"scale(0.015625)\"/>\n       <path id=\"DejaVuSans-67\" d=\"M 2906 1791 \nQ 2906 2416 2648 2759 \nQ 2391 3103 1925 3103 \nQ 1463 3103 1205 2759 \nQ 947 2416 947 1791 \nQ 947 1169 1205 825 \nQ 1463 481 1925 481 \nQ 2391 481 2648 825 \nQ 2906 1169 2906 1791 \nz\nM 3481 434 \nQ 3481 -459 3084 -895 \nQ 2688 -1331 1869 -1331 \nQ 1566 -1331 1297 -1286 \nQ 1028 -1241 775 -1147 \nL 775 -588 \nQ 1028 -725 1275 -790 \nQ 1522 -856 1778 -856 \nQ 2344 -856 2625 -561 \nQ 2906 -266 2906 331 \nL 2906 616 \nQ 2728 306 2450 153 \nQ 2172 0 1784 0 \nQ 1141 0 747 490 \nQ 353 981 353 1791 \nQ 353 2603 747 3093 \nQ 1141 3584 1784 3584 \nQ 2172 3584 2450 3431 \nQ 2728 3278 2906 2969 \nL 2906 3500 \nL 3481 3500 \nL 3481 434 \nz\n\" transform=\"scale(0.015625)\"/>\n       <path id=\"DejaVuSans-70\" d=\"M 1159 525 \nL 1159 -1331 \nL 581 -1331 \nL 581 3500 \nL 1159 3500 \nL 1159 2969 \nQ 1341 3281 1617 3432 \nQ 1894 3584 2278 3584 \nQ 2916 3584 3314 3078 \nQ 3713 2572 3713 1747 \nQ 3713 922 3314 415 \nQ 2916 -91 2278 -91 \nQ 1894 -91 1617 61 \nQ 1341 213 1159 525 \nz\nM 3116 1747 \nQ 3116 2381 2855 2742 \nQ 2594 3103 2138 3103 \nQ 1681 3103 1420 2742 \nQ 1159 2381 1159 1747 \nQ 1159 1113 1420 752 \nQ 1681 391 2138 391 \nQ 2594 391 2855 752 \nQ 3116 1113 3116 1747 \nz\n\" transform=\"scale(0.015625)\"/>\n       <path id=\"DejaVuSans-29\" d=\"M 513 4856 \nL 1013 4856 \nQ 1481 4119 1714 3412 \nQ 1947 2706 1947 2009 \nQ 1947 1309 1714 600 \nQ 1481 -109 1013 -844 \nL 513 -844 \nQ 928 -128 1133 580 \nQ 1338 1288 1338 2009 \nQ 1338 2731 1133 3434 \nQ 928 4138 513 4856 \nz\n\" transform=\"scale(0.015625)\"/>\n      </defs>\n      <use xlink:href=\"#DejaVuSans-54\"/>\n      <use xlink:href=\"#DejaVuSans-6f\" x=\"44.083984\"/>\n      <use xlink:href=\"#DejaVuSans-6b\" x=\"105.265625\"/>\n      <use xlink:href=\"#DejaVuSans-65\" x=\"159.550781\"/>\n      <use xlink:href=\"#DejaVuSans-6e\" x=\"221.074219\"/>\n      <use xlink:href=\"#DejaVuSans-20\" x=\"284.453125\"/>\n      <use xlink:href=\"#DejaVuSans-28\" x=\"316.240234\"/>\n      <use xlink:href=\"#DejaVuSans-64\" x=\"355.253906\"/>\n      <use xlink:href=\"#DejaVuSans-65\" x=\"418.730469\"/>\n      <use xlink:href=\"#DejaVuSans-73\" x=\"480.253906\"/>\n      <use xlink:href=\"#DejaVuSans-63\" x=\"532.353516\"/>\n      <use xlink:href=\"#DejaVuSans-65\" x=\"587.333984\"/>\n      <use xlink:href=\"#DejaVuSans-6e\" x=\"648.857422\"/>\n      <use xlink:href=\"#DejaVuSans-64\" x=\"712.236328\"/>\n      <use xlink:href=\"#DejaVuSans-69\" x=\"775.712891\"/>\n      <use xlink:href=\"#DejaVuSans-6e\" x=\"803.496094\"/>\n      <use xlink:href=\"#DejaVuSans-67\" x=\"866.875\"/>\n      <use xlink:href=\"#DejaVuSans-20\" x=\"930.351562\"/>\n      <use xlink:href=\"#DejaVuSans-70\" x=\"962.138672\"/>\n      <use xlink:href=\"#DejaVuSans-72\" x=\"1025.615234\"/>\n      <use xlink:href=\"#DejaVuSans-6f\" x=\"1064.478516\"/>\n      <use xlink:href=\"#DejaVuSans-62\" x=\"1125.660156\"/>\n      <use xlink:href=\"#DejaVuSans-61\" x=\"1189.136719\"/>\n      <use xlink:href=\"#DejaVuSans-62\" x=\"1250.416016\"/>\n      <use xlink:href=\"#DejaVuSans-69\" x=\"1313.892578\"/>\n      <use xlink:href=\"#DejaVuSans-6c\" x=\"1341.675781\"/>\n      <use xlink:href=\"#DejaVuSans-69\" x=\"1369.458984\"/>\n      <use xlink:href=\"#DejaVuSans-74\" x=\"1397.242188\"/>\n      <use xlink:href=\"#DejaVuSans-79\" x=\"1436.451172\"/>\n      <use xlink:href=\"#DejaVuSans-29\" x=\"1495.630859\"/>\n     </g>\n    </g>\n   </g>\n   <g id=\"matplotlib.axis_4\">\n    <g id=\"ytick_34\">\n     <g id=\"line2d_81\">\n      <path d=\"M 394.303037 201.918125 \nL 688.361016 201.918125 \n\" clip-path=\"url(#p87ef59c849)\" style=\"fill: none; stroke-dasharray: 1.85,0.8; stroke-dashoffset: 0; stroke: #7f7f7f; stroke-width: 0.5\"/>\n     </g>\n     <g id=\"line2d_82\">\n      <g>\n       <use xlink:href=\"#m0554238a64\" x=\"394.303037\" y=\"201.918125\" style=\"stroke: #000000; stroke-width: 0.8\"/>\n      </g>\n     </g>\n     <g id=\"text_20\">\n      <!-- 0.75 -->\n      <g transform=\"translate(365.037412 205.717344)scale(0.1 -0.1)\">\n       <defs>\n        <path id=\"DejaVuSans-2e\" d=\"M 684 794 \nL 1344 794 \nL 1344 0 \nL 684 0 \nL 684 794 \nz\n\" transform=\"scale(0.015625)\"/>\n       </defs>\n       <use xlink:href=\"#DejaVuSans-30\"/>\n       <use xlink:href=\"#DejaVuSans-2e\" x=\"63.623047\"/>\n       <use xlink:href=\"#DejaVuSans-37\" x=\"95.410156\"/>\n       <use xlink:href=\"#DejaVuSans-35\" x=\"159.033203\"/>\n      </g>\n     </g>\n    </g>\n    <g id=\"ytick_35\">\n     <g id=\"line2d_83\">\n      <path d=\"M 394.303037 167.379663 \nL 688.361016 167.379663 \n\" clip-path=\"url(#p87ef59c849)\" style=\"fill: none; stroke-dasharray: 1.85,0.8; stroke-dashoffset: 0; stroke: #7f7f7f; stroke-width: 0.5\"/>\n     </g>\n     <g id=\"line2d_84\">\n      <g>\n       <use xlink:href=\"#m0554238a64\" x=\"394.303037\" y=\"167.379663\" style=\"stroke: #000000; stroke-width: 0.8\"/>\n      </g>\n     </g>\n     <g id=\"text_21\">\n      <!-- 0.80 -->\n      <g transform=\"translate(365.037412 171.178882)scale(0.1 -0.1)\">\n       <use xlink:href=\"#DejaVuSans-30\"/>\n       <use xlink:href=\"#DejaVuSans-2e\" x=\"63.623047\"/>\n       <use xlink:href=\"#DejaVuSans-38\" x=\"95.410156\"/>\n       <use xlink:href=\"#DejaVuSans-30\" x=\"159.033203\"/>\n      </g>\n     </g>\n    </g>\n    <g id=\"ytick_36\">\n     <g id=\"line2d_85\">\n      <path d=\"M 394.303037 132.841202 \nL 688.361016 132.841202 \n\" clip-path=\"url(#p87ef59c849)\" style=\"fill: none; stroke-dasharray: 1.85,0.8; stroke-dashoffset: 0; stroke: #7f7f7f; stroke-width: 0.5\"/>\n     </g>\n     <g id=\"line2d_86\">\n      <g>\n       <use xlink:href=\"#m0554238a64\" x=\"394.303037\" y=\"132.841202\" style=\"stroke: #000000; stroke-width: 0.8\"/>\n      </g>\n     </g>\n     <g id=\"text_22\">\n      <!-- 0.85 -->\n      <g transform=\"translate(365.037412 136.640421)scale(0.1 -0.1)\">\n       <use xlink:href=\"#DejaVuSans-30\"/>\n       <use xlink:href=\"#DejaVuSans-2e\" x=\"63.623047\"/>\n       <use xlink:href=\"#DejaVuSans-38\" x=\"95.410156\"/>\n       <use xlink:href=\"#DejaVuSans-35\" x=\"159.033203\"/>\n      </g>\n     </g>\n    </g>\n    <g id=\"ytick_37\">\n     <g id=\"line2d_87\">\n      <path d=\"M 394.303037 98.30274 \nL 688.361016 98.30274 \n\" clip-path=\"url(#p87ef59c849)\" style=\"fill: none; stroke-dasharray: 1.85,0.8; stroke-dashoffset: 0; stroke: #7f7f7f; stroke-width: 0.5\"/>\n     </g>\n     <g id=\"line2d_88\">\n      <g>\n       <use xlink:href=\"#m0554238a64\" x=\"394.303037\" y=\"98.30274\" style=\"stroke: #000000; stroke-width: 0.8\"/>\n      </g>\n     </g>\n     <g id=\"text_23\">\n      <!-- 0.90 -->\n      <g transform=\"translate(365.037412 102.101959)scale(0.1 -0.1)\">\n       <use xlink:href=\"#DejaVuSans-30\"/>\n       <use xlink:href=\"#DejaVuSans-2e\" x=\"63.623047\"/>\n       <use xlink:href=\"#DejaVuSans-39\" x=\"95.410156\"/>\n       <use xlink:href=\"#DejaVuSans-30\" x=\"159.033203\"/>\n      </g>\n     </g>\n    </g>\n    <g id=\"ytick_38\">\n     <g id=\"line2d_89\">\n      <path d=\"M 394.303037 63.764279 \nL 688.361016 63.764279 \n\" clip-path=\"url(#p87ef59c849)\" style=\"fill: none; stroke-dasharray: 1.85,0.8; stroke-dashoffset: 0; stroke: #7f7f7f; stroke-width: 0.5\"/>\n     </g>\n     <g id=\"line2d_90\">\n      <g>\n       <use xlink:href=\"#m0554238a64\" x=\"394.303037\" y=\"63.764279\" style=\"stroke: #000000; stroke-width: 0.8\"/>\n      </g>\n     </g>\n     <g id=\"text_24\">\n      <!-- 0.95 -->\n      <g transform=\"translate(365.037412 67.563498)scale(0.1 -0.1)\">\n       <use xlink:href=\"#DejaVuSans-30\"/>\n       <use xlink:href=\"#DejaVuSans-2e\" x=\"63.623047\"/>\n       <use xlink:href=\"#DejaVuSans-39\" x=\"95.410156\"/>\n       <use xlink:href=\"#DejaVuSans-35\" x=\"159.033203\"/>\n      </g>\n     </g>\n    </g>\n    <g id=\"ytick_39\">\n     <g id=\"line2d_91\">\n      <path d=\"M 394.303037 29.225817 \nL 688.361016 29.225817 \n\" clip-path=\"url(#p87ef59c849)\" style=\"fill: none; stroke-dasharray: 1.85,0.8; stroke-dashoffset: 0; stroke: #7f7f7f; stroke-width: 0.5\"/>\n     </g>\n     <g id=\"line2d_92\">\n      <g>\n       <use xlink:href=\"#m0554238a64\" x=\"394.303037\" y=\"29.225817\" style=\"stroke: #000000; stroke-width: 0.8\"/>\n      </g>\n     </g>\n     <g id=\"text_25\">\n      <!-- 1.00 -->\n      <g transform=\"translate(365.037412 33.025036)scale(0.1 -0.1)\">\n       <use xlink:href=\"#DejaVuSans-31\"/>\n       <use xlink:href=\"#DejaVuSans-2e\" x=\"63.623047\"/>\n       <use xlink:href=\"#DejaVuSans-30\" x=\"95.410156\"/>\n       <use xlink:href=\"#DejaVuSans-30\" x=\"159.033203\"/>\n      </g>\n     </g>\n    </g>\n    <g id=\"ytick_40\">\n     <g id=\"line2d_93\">\n      <path d=\"M 394.303037 195.010433 \nL 688.361016 195.010433 \n\" clip-path=\"url(#p87ef59c849)\" style=\"fill: none; stroke-dasharray: 0.925,0.4; stroke-dashoffset: 0; stroke: #7f7f7f; stroke-width: 0.25\"/>\n     </g>\n     <g id=\"line2d_94\">\n      <g>\n       <use xlink:href=\"#mcb8b2a2239\" x=\"394.303037\" y=\"195.010433\" style=\"stroke: #000000; stroke-width: 0.6\"/>\n      </g>\n     </g>\n    </g>\n    <g id=\"ytick_41\">\n     <g id=\"line2d_95\">\n      <path d=\"M 394.303037 188.10274 \nL 688.361016 188.10274 \n\" clip-path=\"url(#p87ef59c849)\" style=\"fill: none; stroke-dasharray: 0.925,0.4; stroke-dashoffset: 0; stroke: #7f7f7f; stroke-width: 0.25\"/>\n     </g>\n     <g id=\"line2d_96\">\n      <g>\n       <use xlink:href=\"#mcb8b2a2239\" x=\"394.303037\" y=\"188.10274\" style=\"stroke: #000000; stroke-width: 0.6\"/>\n      </g>\n     </g>\n    </g>\n    <g id=\"ytick_42\">\n     <g id=\"line2d_97\">\n      <path d=\"M 394.303037 181.195048 \nL 688.361016 181.195048 \n\" clip-path=\"url(#p87ef59c849)\" style=\"fill: none; stroke-dasharray: 0.925,0.4; stroke-dashoffset: 0; stroke: #7f7f7f; stroke-width: 0.25\"/>\n     </g>\n     <g id=\"line2d_98\">\n      <g>\n       <use xlink:href=\"#mcb8b2a2239\" x=\"394.303037\" y=\"181.195048\" style=\"stroke: #000000; stroke-width: 0.6\"/>\n      </g>\n     </g>\n    </g>\n    <g id=\"ytick_43\">\n     <g id=\"line2d_99\">\n      <path d=\"M 394.303037 174.287356 \nL 688.361016 174.287356 \n\" clip-path=\"url(#p87ef59c849)\" style=\"fill: none; stroke-dasharray: 0.925,0.4; stroke-dashoffset: 0; stroke: #7f7f7f; stroke-width: 0.25\"/>\n     </g>\n     <g id=\"line2d_100\">\n      <g>\n       <use xlink:href=\"#mcb8b2a2239\" x=\"394.303037\" y=\"174.287356\" style=\"stroke: #000000; stroke-width: 0.6\"/>\n      </g>\n     </g>\n    </g>\n    <g id=\"ytick_44\">\n     <g id=\"line2d_101\">\n      <path d=\"M 394.303037 160.471971 \nL 688.361016 160.471971 \n\" clip-path=\"url(#p87ef59c849)\" style=\"fill: none; stroke-dasharray: 0.925,0.4; stroke-dashoffset: 0; stroke: #7f7f7f; stroke-width: 0.25\"/>\n     </g>\n     <g id=\"line2d_102\">\n      <g>\n       <use xlink:href=\"#mcb8b2a2239\" x=\"394.303037\" y=\"160.471971\" style=\"stroke: #000000; stroke-width: 0.6\"/>\n      </g>\n     </g>\n    </g>\n    <g id=\"ytick_45\">\n     <g id=\"line2d_103\">\n      <path d=\"M 394.303037 153.564279 \nL 688.361016 153.564279 \n\" clip-path=\"url(#p87ef59c849)\" style=\"fill: none; stroke-dasharray: 0.925,0.4; stroke-dashoffset: 0; stroke: #7f7f7f; stroke-width: 0.25\"/>\n     </g>\n     <g id=\"line2d_104\">\n      <g>\n       <use xlink:href=\"#mcb8b2a2239\" x=\"394.303037\" y=\"153.564279\" style=\"stroke: #000000; stroke-width: 0.6\"/>\n      </g>\n     </g>\n    </g>\n    <g id=\"ytick_46\">\n     <g id=\"line2d_105\">\n      <path d=\"M 394.303037 146.656587 \nL 688.361016 146.656587 \n\" clip-path=\"url(#p87ef59c849)\" style=\"fill: none; stroke-dasharray: 0.925,0.4; stroke-dashoffset: 0; stroke: #7f7f7f; stroke-width: 0.25\"/>\n     </g>\n     <g id=\"line2d_106\">\n      <g>\n       <use xlink:href=\"#mcb8b2a2239\" x=\"394.303037\" y=\"146.656587\" style=\"stroke: #000000; stroke-width: 0.6\"/>\n      </g>\n     </g>\n    </g>\n    <g id=\"ytick_47\">\n     <g id=\"line2d_107\">\n      <path d=\"M 394.303037 139.748894 \nL 688.361016 139.748894 \n\" clip-path=\"url(#p87ef59c849)\" style=\"fill: none; stroke-dasharray: 0.925,0.4; stroke-dashoffset: 0; stroke: #7f7f7f; stroke-width: 0.25\"/>\n     </g>\n     <g id=\"line2d_108\">\n      <g>\n       <use xlink:href=\"#mcb8b2a2239\" x=\"394.303037\" y=\"139.748894\" style=\"stroke: #000000; stroke-width: 0.6\"/>\n      </g>\n     </g>\n    </g>\n    <g id=\"ytick_48\">\n     <g id=\"line2d_109\">\n      <path d=\"M 394.303037 125.93351 \nL 688.361016 125.93351 \n\" clip-path=\"url(#p87ef59c849)\" style=\"fill: none; stroke-dasharray: 0.925,0.4; stroke-dashoffset: 0; stroke: #7f7f7f; stroke-width: 0.25\"/>\n     </g>\n     <g id=\"line2d_110\">\n      <g>\n       <use xlink:href=\"#mcb8b2a2239\" x=\"394.303037\" y=\"125.93351\" style=\"stroke: #000000; stroke-width: 0.6\"/>\n      </g>\n     </g>\n    </g>\n    <g id=\"ytick_49\">\n     <g id=\"line2d_111\">\n      <path d=\"M 394.303037 119.025817 \nL 688.361016 119.025817 \n\" clip-path=\"url(#p87ef59c849)\" style=\"fill: none; stroke-dasharray: 0.925,0.4; stroke-dashoffset: 0; stroke: #7f7f7f; stroke-width: 0.25\"/>\n     </g>\n     <g id=\"line2d_112\">\n      <g>\n       <use xlink:href=\"#mcb8b2a2239\" x=\"394.303037\" y=\"119.025817\" style=\"stroke: #000000; stroke-width: 0.6\"/>\n      </g>\n     </g>\n    </g>\n    <g id=\"ytick_50\">\n     <g id=\"line2d_113\">\n      <path d=\"M 394.303037 112.118125 \nL 688.361016 112.118125 \n\" clip-path=\"url(#p87ef59c849)\" style=\"fill: none; stroke-dasharray: 0.925,0.4; stroke-dashoffset: 0; stroke: #7f7f7f; stroke-width: 0.25\"/>\n     </g>\n     <g id=\"line2d_114\">\n      <g>\n       <use xlink:href=\"#mcb8b2a2239\" x=\"394.303037\" y=\"112.118125\" style=\"stroke: #000000; stroke-width: 0.6\"/>\n      </g>\n     </g>\n    </g>\n    <g id=\"ytick_51\">\n     <g id=\"line2d_115\">\n      <path d=\"M 394.303037 105.210433 \nL 688.361016 105.210433 \n\" clip-path=\"url(#p87ef59c849)\" style=\"fill: none; stroke-dasharray: 0.925,0.4; stroke-dashoffset: 0; stroke: #7f7f7f; stroke-width: 0.25\"/>\n     </g>\n     <g id=\"line2d_116\">\n      <g>\n       <use xlink:href=\"#mcb8b2a2239\" x=\"394.303037\" y=\"105.210433\" style=\"stroke: #000000; stroke-width: 0.6\"/>\n      </g>\n     </g>\n    </g>\n    <g id=\"ytick_52\">\n     <g id=\"line2d_117\">\n      <path d=\"M 394.303037 91.395048 \nL 688.361016 91.395048 \n\" clip-path=\"url(#p87ef59c849)\" style=\"fill: none; stroke-dasharray: 0.925,0.4; stroke-dashoffset: 0; stroke: #7f7f7f; stroke-width: 0.25\"/>\n     </g>\n     <g id=\"line2d_118\">\n      <g>\n       <use xlink:href=\"#mcb8b2a2239\" x=\"394.303037\" y=\"91.395048\" style=\"stroke: #000000; stroke-width: 0.6\"/>\n      </g>\n     </g>\n    </g>\n    <g id=\"ytick_53\">\n     <g id=\"line2d_119\">\n      <path d=\"M 394.303037 84.487356 \nL 688.361016 84.487356 \n\" clip-path=\"url(#p87ef59c849)\" style=\"fill: none; stroke-dasharray: 0.925,0.4; stroke-dashoffset: 0; stroke: #7f7f7f; stroke-width: 0.25\"/>\n     </g>\n     <g id=\"line2d_120\">\n      <g>\n       <use xlink:href=\"#mcb8b2a2239\" x=\"394.303037\" y=\"84.487356\" style=\"stroke: #000000; stroke-width: 0.6\"/>\n      </g>\n     </g>\n    </g>\n    <g id=\"ytick_54\">\n     <g id=\"line2d_121\">\n      <path d=\"M 394.303037 77.579663 \nL 688.361016 77.579663 \n\" clip-path=\"url(#p87ef59c849)\" style=\"fill: none; stroke-dasharray: 0.925,0.4; stroke-dashoffset: 0; stroke: #7f7f7f; stroke-width: 0.25\"/>\n     </g>\n     <g id=\"line2d_122\">\n      <g>\n       <use xlink:href=\"#mcb8b2a2239\" x=\"394.303037\" y=\"77.579663\" style=\"stroke: #000000; stroke-width: 0.6\"/>\n      </g>\n     </g>\n    </g>\n    <g id=\"ytick_55\">\n     <g id=\"line2d_123\">\n      <path d=\"M 394.303037 70.671971 \nL 688.361016 70.671971 \n\" clip-path=\"url(#p87ef59c849)\" style=\"fill: none; stroke-dasharray: 0.925,0.4; stroke-dashoffset: 0; stroke: #7f7f7f; stroke-width: 0.25\"/>\n     </g>\n     <g id=\"line2d_124\">\n      <g>\n       <use xlink:href=\"#mcb8b2a2239\" x=\"394.303037\" y=\"70.671971\" style=\"stroke: #000000; stroke-width: 0.6\"/>\n      </g>\n     </g>\n    </g>\n    <g id=\"ytick_56\">\n     <g id=\"line2d_125\">\n      <path d=\"M 394.303037 56.856587 \nL 688.361016 56.856587 \n\" clip-path=\"url(#p87ef59c849)\" style=\"fill: none; stroke-dasharray: 0.925,0.4; stroke-dashoffset: 0; stroke: #7f7f7f; stroke-width: 0.25\"/>\n     </g>\n     <g id=\"line2d_126\">\n      <g>\n       <use xlink:href=\"#mcb8b2a2239\" x=\"394.303037\" y=\"56.856587\" style=\"stroke: #000000; stroke-width: 0.6\"/>\n      </g>\n     </g>\n    </g>\n    <g id=\"ytick_57\">\n     <g id=\"line2d_127\">\n      <path d=\"M 394.303037 49.948894 \nL 688.361016 49.948894 \n\" clip-path=\"url(#p87ef59c849)\" style=\"fill: none; stroke-dasharray: 0.925,0.4; stroke-dashoffset: 0; stroke: #7f7f7f; stroke-width: 0.25\"/>\n     </g>\n     <g id=\"line2d_128\">\n      <g>\n       <use xlink:href=\"#mcb8b2a2239\" x=\"394.303037\" y=\"49.948894\" style=\"stroke: #000000; stroke-width: 0.6\"/>\n      </g>\n     </g>\n    </g>\n    <g id=\"ytick_58\">\n     <g id=\"line2d_129\">\n      <path d=\"M 394.303037 43.041202 \nL 688.361016 43.041202 \n\" clip-path=\"url(#p87ef59c849)\" style=\"fill: none; stroke-dasharray: 0.925,0.4; stroke-dashoffset: 0; stroke: #7f7f7f; stroke-width: 0.25\"/>\n     </g>\n     <g id=\"line2d_130\">\n      <g>\n       <use xlink:href=\"#mcb8b2a2239\" x=\"394.303037\" y=\"43.041202\" style=\"stroke: #000000; stroke-width: 0.6\"/>\n      </g>\n     </g>\n    </g>\n    <g id=\"ytick_59\">\n     <g id=\"line2d_131\">\n      <path d=\"M 394.303037 36.13351 \nL 688.361016 36.13351 \n\" clip-path=\"url(#p87ef59c849)\" style=\"fill: none; stroke-dasharray: 0.925,0.4; stroke-dashoffset: 0; stroke: #7f7f7f; stroke-width: 0.25\"/>\n     </g>\n     <g id=\"line2d_132\">\n      <g>\n       <use xlink:href=\"#mcb8b2a2239\" x=\"394.303037\" y=\"36.13351\" style=\"stroke: #000000; stroke-width: 0.6\"/>\n      </g>\n     </g>\n    </g>\n    <g id=\"ytick_60\">\n     <g id=\"line2d_133\">\n      <path d=\"M 394.303037 22.318125 \nL 688.361016 22.318125 \n\" clip-path=\"url(#p87ef59c849)\" style=\"fill: none; stroke-dasharray: 0.925,0.4; stroke-dashoffset: 0; stroke: #7f7f7f; stroke-width: 0.25\"/>\n     </g>\n     <g id=\"line2d_134\">\n      <g>\n       <use xlink:href=\"#mcb8b2a2239\" x=\"394.303037\" y=\"22.318125\" style=\"stroke: #000000; stroke-width: 0.6\"/>\n      </g>\n     </g>\n    </g>\n    <g id=\"text_26\">\n     <!-- Probability -->\n     <g transform=\"translate(358.957725 138.547031)rotate(-90)scale(0.1 -0.1)\">\n      <use xlink:href=\"#DejaVuSans-50\"/>\n      <use xlink:href=\"#DejaVuSans-72\" x=\"58.552734\"/>\n      <use xlink:href=\"#DejaVuSans-6f\" x=\"97.416016\"/>\n      <use xlink:href=\"#DejaVuSans-62\" x=\"158.597656\"/>\n      <use xlink:href=\"#DejaVuSans-61\" x=\"222.074219\"/>\n      <use xlink:href=\"#DejaVuSans-62\" x=\"283.353516\"/>\n      <use xlink:href=\"#DejaVuSans-69\" x=\"346.830078\"/>\n      <use xlink:href=\"#DejaVuSans-6c\" x=\"374.613281\"/>\n      <use xlink:href=\"#DejaVuSans-69\" x=\"402.396484\"/>\n      <use xlink:href=\"#DejaVuSans-74\" x=\"430.179688\"/>\n      <use xlink:href=\"#DejaVuSans-79\" x=\"469.388672\"/>\n     </g>\n    </g>\n   </g>\n   <g id=\"line2d_135\">\n    <path d=\"M 395.634077 240.474375 \nL 396.302631 208.057892 \nL 397.008371 184.825667 \nL 397.655298 170.717472 \nL 398.802124 152.161888 \nL 399.801921 139.796591 \nL 400.86053 129.235785 \nL 401.948545 120.280192 \nL 403.212994 111.490239 \nL 404.595066 103.427855 \nL 405.918327 97.036603 \nL 407.270994 91.516079 \nL 408.888313 85.929183 \nL 410.623255 80.743025 \nL 412.26998 76.500389 \nL 414.151951 72.326018 \nL 416.269168 68.160993 \nL 418.151139 64.9525 \nL 420.621226 61.210817 \nL 422.97369 58.053667 \nL 425.443777 55.126221 \nL 427.94327 52.521696 \nL 430.32514 50.339277 \nL 433.030473 48.166781 \nL 436.147488 45.965258 \nL 439.323314 44.00752 \nL 442.528546 42.303079 \nL 446.145459 40.628324 \nL 449.850589 39.150788 \nL 453.908589 37.779561 \nL 458.701734 36.405822 \nL 463.818343 35.180059 \nL 468.758517 34.220685 \nL 474.963141 33.246984 \nL 481.344199 32.473918 \nL 489.31317 31.74849 \nL 498.605402 31.143988 \nL 510.220692 30.637024 \nL 524.306069 30.254897 \nL 543.890331 29.954704 \nL 575.707404 29.709271 \nL 628.07913 29.527039 \nL 688.390421 29.434647 \nL 688.390421 29.434647 \n\" clip-path=\"url(#p87ef59c849)\" style=\"fill: none; stroke: #000000; stroke-width: 1.5; stroke-linecap: square\"/>\n   </g>\n   <g id=\"LineCollection_1\">\n    <path d=\"M 453.114633 240.474375 \nL 453.114633 -1 \n\" clip-path=\"url(#p87ef59c849)\" style=\"fill: none; stroke: #1f77b4; stroke-width: 1.5\"/>\n   </g>\n   <g id=\"LineCollection_2\">\n    <path d=\"M 394.303037 63.764279 \nL 688.361016 63.764279 \n\" clip-path=\"url(#p87ef59c849)\" style=\"fill: none; stroke-dasharray: 5.55,2.4; stroke-dashoffset: 0; stroke: #ff7f0e; stroke-width: 1.5\"/>\n   </g>\n   <g id=\"patch_107\">\n    <path d=\"M 394.303037 201.918125 \nL 394.303037 22.318125 \n\" style=\"fill: none; stroke: #000000; stroke-width: 0.8; stroke-linejoin: miter; stroke-linecap: square\"/>\n   </g>\n   <g id=\"patch_108\">\n    <path d=\"M 688.361016 201.918125 \nL 688.361016 22.318125 \n\" style=\"fill: none; stroke: #000000; stroke-width: 0.8; stroke-linejoin: miter; stroke-linecap: square\"/>\n   </g>\n   <g id=\"patch_109\">\n    <path d=\"M 394.303037 201.918125 \nL 688.361016 201.918125 \n\" style=\"fill: none; stroke: #000000; stroke-width: 0.8; stroke-linejoin: miter; stroke-linecap: square\"/>\n   </g>\n   <g id=\"patch_110\">\n    <path d=\"M 394.303037 22.318125 \nL 688.361016 22.318125 \n\" style=\"fill: none; stroke: #000000; stroke-width: 0.8; stroke-linejoin: miter; stroke-linecap: square\"/>\n   </g>\n   <g id=\"text_27\">\n    <!-- Cumulative probability -->\n    <g transform=\"translate(473.169214 16.318125)scale(0.12 -0.12)\">\n     <defs>\n      <path id=\"DejaVuSans-6d\" d=\"M 3328 2828 \nQ 3544 3216 3844 3400 \nQ 4144 3584 4550 3584 \nQ 5097 3584 5394 3201 \nQ 5691 2819 5691 2113 \nL 5691 0 \nL 5113 0 \nL 5113 2094 \nQ 5113 2597 4934 2840 \nQ 4756 3084 4391 3084 \nQ 3944 3084 3684 2787 \nQ 3425 2491 3425 1978 \nL 3425 0 \nL 2847 0 \nL 2847 2094 \nQ 2847 2600 2669 2842 \nQ 2491 3084 2119 3084 \nQ 1678 3084 1418 2786 \nQ 1159 2488 1159 1978 \nL 1159 0 \nL 581 0 \nL 581 3500 \nL 1159 3500 \nL 1159 2956 \nQ 1356 3278 1631 3431 \nQ 1906 3584 2284 3584 \nQ 2666 3584 2933 3390 \nQ 3200 3197 3328 2828 \nz\n\" transform=\"scale(0.015625)\"/>\n      <path id=\"DejaVuSans-76\" d=\"M 191 3500 \nL 800 3500 \nL 1894 563 \nL 2988 3500 \nL 3597 3500 \nL 2284 0 \nL 1503 0 \nL 191 3500 \nz\n\" transform=\"scale(0.015625)\"/>\n     </defs>\n     <use xlink:href=\"#DejaVuSans-43\"/>\n     <use xlink:href=\"#DejaVuSans-75\" x=\"69.824219\"/>\n     <use xlink:href=\"#DejaVuSans-6d\" x=\"133.203125\"/>\n     <use xlink:href=\"#DejaVuSans-75\" x=\"230.615234\"/>\n     <use xlink:href=\"#DejaVuSans-6c\" x=\"293.994141\"/>\n     <use xlink:href=\"#DejaVuSans-61\" x=\"321.777344\"/>\n     <use xlink:href=\"#DejaVuSans-74\" x=\"383.056641\"/>\n     <use xlink:href=\"#DejaVuSans-69\" x=\"422.265625\"/>\n     <use xlink:href=\"#DejaVuSans-76\" x=\"450.048828\"/>\n     <use xlink:href=\"#DejaVuSans-65\" x=\"509.228516\"/>\n     <use xlink:href=\"#DejaVuSans-20\" x=\"570.751953\"/>\n     <use xlink:href=\"#DejaVuSans-70\" x=\"602.539062\"/>\n     <use xlink:href=\"#DejaVuSans-72\" x=\"666.015625\"/>\n     <use xlink:href=\"#DejaVuSans-6f\" x=\"704.878906\"/>\n     <use xlink:href=\"#DejaVuSans-62\" x=\"766.060547\"/>\n     <use xlink:href=\"#DejaVuSans-61\" x=\"829.537109\"/>\n     <use xlink:href=\"#DejaVuSans-62\" x=\"890.816406\"/>\n     <use xlink:href=\"#DejaVuSans-69\" x=\"954.292969\"/>\n     <use xlink:href=\"#DejaVuSans-6c\" x=\"982.076172\"/>\n     <use xlink:href=\"#DejaVuSans-69\" x=\"1009.859375\"/>\n     <use xlink:href=\"#DejaVuSans-74\" x=\"1037.642578\"/>\n     <use xlink:href=\"#DejaVuSans-79\" x=\"1076.851562\"/>\n    </g>\n   </g>\n   <g id=\"legend_1\">\n    <g id=\"patch_111\">\n     <path d=\"M 512.467266 196.918125 \nL 681.361016 196.918125 \nQ 683.361016 196.918125 683.361016 194.918125 \nL 683.361016 166.561875 \nQ 683.361016 164.561875 681.361016 164.561875 \nL 512.467266 164.561875 \nQ 510.467266 164.561875 510.467266 166.561875 \nL 510.467266 194.918125 \nQ 510.467266 196.918125 512.467266 196.918125 \nz\n\" style=\"fill: #ffffff; opacity: 0.8; stroke: #cccccc; stroke-linejoin: miter\"/>\n    </g>\n    <g id=\"line2d_136\">\n     <path d=\"M 514.467266 172.660313 \nL 534.467266 172.660313 \n\" style=\"fill: none; stroke: #1f77b4; stroke-width: 1.5\"/>\n    </g>\n    <g id=\"text_28\">\n     <!-- top-k threshold (k=2000) -->\n     <g transform=\"translate(542.467266 176.160313)scale(0.1 -0.1)\">\n      <defs>\n       <path id=\"DejaVuSans-2d\" d=\"M 313 2009 \nL 1997 2009 \nL 1997 1497 \nL 313 1497 \nL 313 2009 \nz\n\" transform=\"scale(0.015625)\"/>\n       <path id=\"DejaVuSans-68\" d=\"M 3513 2113 \nL 3513 0 \nL 2938 0 \nL 2938 2094 \nQ 2938 2591 2744 2837 \nQ 2550 3084 2163 3084 \nQ 1697 3084 1428 2787 \nQ 1159 2491 1159 1978 \nL 1159 0 \nL 581 0 \nL 581 4863 \nL 1159 4863 \nL 1159 2956 \nQ 1366 3272 1645 3428 \nQ 1925 3584 2291 3584 \nQ 2894 3584 3203 3211 \nQ 3513 2838 3513 2113 \nz\n\" transform=\"scale(0.015625)\"/>\n       <path id=\"DejaVuSans-3d\" d=\"M 678 2906 \nL 4684 2906 \nL 4684 2381 \nL 678 2381 \nL 678 2906 \nz\nM 678 1631 \nL 4684 1631 \nL 4684 1100 \nL 678 1100 \nL 678 1631 \nz\n\" transform=\"scale(0.015625)\"/>\n      </defs>\n      <use xlink:href=\"#DejaVuSans-74\"/>\n      <use xlink:href=\"#DejaVuSans-6f\" x=\"39.208984\"/>\n      <use xlink:href=\"#DejaVuSans-70\" x=\"100.390625\"/>\n      <use xlink:href=\"#DejaVuSans-2d\" x=\"163.867188\"/>\n      <use xlink:href=\"#DejaVuSans-6b\" x=\"199.951172\"/>\n      <use xlink:href=\"#DejaVuSans-20\" x=\"257.861328\"/>\n      <use xlink:href=\"#DejaVuSans-74\" x=\"289.648438\"/>\n      <use xlink:href=\"#DejaVuSans-68\" x=\"328.857422\"/>\n      <use xlink:href=\"#DejaVuSans-72\" x=\"392.236328\"/>\n      <use xlink:href=\"#DejaVuSans-65\" x=\"431.099609\"/>\n      <use xlink:href=\"#DejaVuSans-73\" x=\"492.623047\"/>\n      <use xlink:href=\"#DejaVuSans-68\" x=\"544.722656\"/>\n      <use xlink:href=\"#DejaVuSans-6f\" x=\"608.101562\"/>\n      <use xlink:href=\"#DejaVuSans-6c\" x=\"669.283203\"/>\n      <use xlink:href=\"#DejaVuSans-64\" x=\"697.066406\"/>\n      <use xlink:href=\"#DejaVuSans-20\" x=\"760.542969\"/>\n      <use xlink:href=\"#DejaVuSans-28\" x=\"792.330078\"/>\n      <use xlink:href=\"#DejaVuSans-6b\" x=\"831.34375\"/>\n      <use xlink:href=\"#DejaVuSans-3d\" x=\"889.253906\"/>\n      <use xlink:href=\"#DejaVuSans-32\" x=\"973.042969\"/>\n      <use xlink:href=\"#DejaVuSans-30\" x=\"1036.666016\"/>\n      <use xlink:href=\"#DejaVuSans-30\" x=\"1100.289062\"/>\n      <use xlink:href=\"#DejaVuSans-30\" x=\"1163.912109\"/>\n      <use xlink:href=\"#DejaVuSans-29\" x=\"1227.535156\"/>\n     </g>\n    </g>\n    <g id=\"line2d_137\">\n     <path d=\"M 514.467266 187.338438 \nL 534.467266 187.338438 \n\" style=\"fill: none; stroke-dasharray: 5.55,2.4; stroke-dashoffset: 0; stroke: #ff7f0e; stroke-width: 1.5\"/>\n    </g>\n    <g id=\"text_29\">\n     <!-- nucleus threshold (p=0.95) -->\n     <g transform=\"translate(542.467266 190.838438)scale(0.1 -0.1)\">\n      <use xlink:href=\"#DejaVuSans-6e\"/>\n      <use xlink:href=\"#DejaVuSans-75\" x=\"63.378906\"/>\n      <use xlink:href=\"#DejaVuSans-63\" x=\"126.757812\"/>\n      <use xlink:href=\"#DejaVuSans-6c\" x=\"181.738281\"/>\n      <use xlink:href=\"#DejaVuSans-65\" x=\"209.521484\"/>\n      <use xlink:href=\"#DejaVuSans-75\" x=\"271.044922\"/>\n      <use xlink:href=\"#DejaVuSans-73\" x=\"334.423828\"/>\n      <use xlink:href=\"#DejaVuSans-20\" x=\"386.523438\"/>\n      <use xlink:href=\"#DejaVuSans-74\" x=\"418.310547\"/>\n      <use xlink:href=\"#DejaVuSans-68\" x=\"457.519531\"/>\n      <use xlink:href=\"#DejaVuSans-72\" x=\"520.898438\"/>\n      <use xlink:href=\"#DejaVuSans-65\" x=\"559.761719\"/>\n      <use xlink:href=\"#DejaVuSans-73\" x=\"621.285156\"/>\n      <use xlink:href=\"#DejaVuSans-68\" x=\"673.384766\"/>\n      <use xlink:href=\"#DejaVuSans-6f\" x=\"736.763672\"/>\n      <use xlink:href=\"#DejaVuSans-6c\" x=\"797.945312\"/>\n      <use xlink:href=\"#DejaVuSans-64\" x=\"825.728516\"/>\n      <use xlink:href=\"#DejaVuSans-20\" x=\"889.205078\"/>\n      <use xlink:href=\"#DejaVuSans-28\" x=\"920.992188\"/>\n      <use xlink:href=\"#DejaVuSans-70\" x=\"960.005859\"/>\n      <use xlink:href=\"#DejaVuSans-3d\" x=\"1023.482422\"/>\n      <use xlink:href=\"#DejaVuSans-30\" x=\"1107.271484\"/>\n      <use xlink:href=\"#DejaVuSans-2e\" x=\"1170.894531\"/>\n      <use xlink:href=\"#DejaVuSans-39\" x=\"1202.681641\"/>\n      <use xlink:href=\"#DejaVuSans-35\" x=\"1266.304688\"/>\n      <use xlink:href=\"#DejaVuSans-29\" x=\"1329.927734\"/>\n     </g>\n    </g>\n   </g>\n  </g>\n </g>\n <defs>\n  <clipPath id=\"p87309ffad9\">\n   <rect x=\"45.478125\" y=\"22.318125\" width=\"294.057978\" height=\"179.6\"/>\n  </clipPath>\n  <clipPath id=\"p87ef59c849\">\n   <rect x=\"394.303037\" y=\"22.318125\" width=\"294.057978\" height=\"179.6\"/>\n  </clipPath>\n </defs>\n</svg>\n",
      "text/plain": [
       "<Figure size 720x252 with 2 Axes>"
      ]
     },
     "metadata": {
      "needs_background": "light"
     },
     "output_type": "display_data"
    }
   ],
   "source": [
    "# Gráfico 1: Distribuição das probabilidades do próximo token\n",
    "# Gráfico 2: Quantidade de Tokens com Maior Probabilidade x Probabilidade Acummulada\n",
    "\n",
    "import matplotlib.pyplot as plt\n",
    "import numpy as np\n",
    "\n",
    "fig, axes = plt.subplots(1, 2, figsize=(10, 3.5))\n",
    "\n",
    "axes[0].hist(probs[0], bins=np.logspace(-10, -1, 100), color=\"C0\", edgecolor=\"C0\")\n",
    "axes[0].set_xscale(\"log\")\n",
    "axes[0].set_yscale(\"log\")\n",
    "axes[0].set_title(\"Probability distribution\")\n",
    "axes[0].set_xlabel(\"Probability\")\n",
    "axes[0].set_ylabel(\"Count\")\n",
    "#axes[0].grid(which=\"major\")\n",
    "\n",
    "axes[1].plot(np.cumsum(np.sort(probs[0])[::-1]), color=\"black\")\n",
    "axes[1].set_xlim([0, 10000])\n",
    "axes[1].set_ylim([0.75, 1.01])\n",
    "axes[1].set_title(\"Cumulative probability\")\n",
    "axes[1].set_ylabel(\"Probability\")\n",
    "axes[1].set_xlabel(\"Token (descending probability)\")\n",
    "#axes[1].grid(which=\"major\")\n",
    "axes[1].minorticks_on()\n",
    "#axes[1].grid(which='minor', linewidth='0.5')\n",
    "top_k_label = 'top-k threshold (k=2000)'\n",
    "top_p_label = 'nucleus threshold (p=0.95)'\n",
    "axes[1].vlines(x=2000, ymin=0, ymax=2, color='C0', label=top_k_label)\n",
    "axes[1].hlines(y=0.95, xmin=0, xmax=10000, color='C1', label=top_p_label, linestyle='--')\n",
    "axes[1].legend(loc='lower right')\n",
    "axes[1].grid(color='#7F7F7F', ls = '--', lw = 0.25, which='minor')\n",
    "axes[1].grid(color='#7F7F7F', ls = '--', lw = 0.50, which='major')\n",
    "plt.tight_layout()"
   ]
  },
  {
   "cell_type": "markdown",
   "metadata": {},
   "source": [
    "### Top-k"
   ]
  },
  {
   "cell_type": "markdown",
   "metadata": {},
   "source": [
    "**Objetivo:** evitar *tokens* de baixa probabilidade selecionando apenas o k *tokens* com maior probabilidade a cada *token* gerado (linha contínua azul no gráfico)."
   ]
  },
  {
   "cell_type": "code",
   "execution_count": 109,
   "metadata": {},
   "outputs": [],
   "source": [
    "torch.manual_seed(42);"
   ]
  },
  {
   "cell_type": "code",
   "execution_count": 110,
   "metadata": {},
   "outputs": [
    {
     "name": "stdout",
     "output_type": "stream",
     "text": [
      "In a shocking finding, scientist discovered\n",
      "a herd of unicorns living in a remote, previously unexplored\n",
      "valley, in the Andes Mountains. Even more surprising to the\n",
      "researchers was the fact that the unicorns spoke perfect English.\n",
      "\n",
      "\n",
      "\"They could walk, talk and generally behave like wild, intelligent species like\n",
      "horses and\n",
      "\n",
      "donkeys. The herd is the most complete wild herd yet found in the Andes. They\n",
      "had been there\n",
      "\n",
      "for as far back as four million years, before they had even experienced the\n",
      "onset of human civilization,\" the\n",
      "\n",
      "Dr. Marco Guimaraes,\n"
     ]
    }
   ],
   "source": [
    "# usa o parâmetro top_k para restringir cada escolha\n",
    "# aos 50 tokens de maior probabilidade\n",
    "output_topk = model.generate(\n",
    "    input_ids,\n",
    "    max_length=max_length,\n",
    "    do_sample=True, \n",
    "    top_k=50)\n",
    "print(tokenizer.decode(output_topk[0]))"
   ]
  },
  {
   "cell_type": "markdown",
   "metadata": {},
   "source": [
    "**Conclusão:** este é o melhor texto até agora\n",
    "\n",
    "**Obs.:**\n",
    "1. O valor do k é fixo para todos *tokens* da sequência, o que pode ser ruim dependendendo da distribuição das probabilidades.\n",
    "2. O k pode ser escolhido **empiricamente** com base em alguma métrica de qualidade (algo a ser visto num capítulo posterior)."
   ]
  },
  {
   "cell_type": "markdown",
   "metadata": {},
   "source": [
    "### Top-p"
   ]
  },
  {
   "cell_type": "markdown",
   "metadata": {},
   "source": [
    "**Objetivo:** evitar *tokens* de baixa probabilidade selecionando apenas o k *tokens* de maior probabilidade que representam a probabilidade p. (linha tracejada laranja no gráfico)"
   ]
  },
  {
   "cell_type": "code",
   "execution_count": 111,
   "metadata": {},
   "outputs": [],
   "source": [
    "# hide\n",
    "torch.manual_seed(42);"
   ]
  },
  {
   "cell_type": "code",
   "execution_count": 112,
   "metadata": {},
   "outputs": [
    {
     "name": "stdout",
     "output_type": "stream",
     "text": [
      "In a shocking finding, scientist discovered\n",
      "a herd of unicorns living in a remote, previously unexplored\n",
      "valley, in the Andes Mountains. Even more surprising to the\n",
      "researchers was the fact that the unicorns spoke perfect English.\n",
      "\n",
      "\n",
      "\"They could walk, talk and tell stories, they are the closest animal relatives\n",
      "of\n",
      "\n",
      "man. The research team found the herd of wild unicorns and its wild relatives\n",
      "\n",
      "are completely isolated from other animals and appear to have developed a\n",
      "\n",
      "highly sophisticated way of interacting with each other,\" Dr. Mariana Pascual-\n",
      "\n",
      "Muriel, who\n"
     ]
    }
   ],
   "source": [
    "output_topp = model.generate(\n",
    "    input_ids,\n",
    "    max_length=max_length,\n",
    "    do_sample=True,\n",
    "    top_p=0.90)\n",
    "print(tokenizer.decode(output_topp[0]))"
   ]
  },
  {
   "cell_type": "markdown",
   "metadata": {},
   "source": [
    "**Conclusão:**\n",
    "\n",
    "Também gerou um bom texto."
   ]
  },
  {
   "cell_type": "markdown",
   "metadata": {},
   "source": [
    "## Which Decoding Method Is Best?"
   ]
  },
  {
   "cell_type": "markdown",
   "metadata": {},
   "source": [
    "## Conclusion"
   ]
  }
 ],
 "metadata": {
  "kernelspec": {
   "display_name": "nlp_transformers",
   "language": "python",
   "name": "nlp_transformers"
  },
  "language_info": {
   "codemirror_mode": {
    "name": "ipython",
    "version": 3
   },
   "file_extension": ".py",
   "mimetype": "text/x-python",
   "name": "python",
   "nbconvert_exporter": "python",
   "pygments_lexer": "ipython3",
   "version": "3.8.10"
  }
 },
 "nbformat": 4,
 "nbformat_minor": 4
}
